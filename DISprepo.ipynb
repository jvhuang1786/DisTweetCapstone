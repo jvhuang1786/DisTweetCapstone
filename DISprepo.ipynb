{
 "cells": [
  {
   "cell_type": "code",
   "execution_count": 2,
   "metadata": {},
   "outputs": [
    {
     "data": {
      "text/html": [
       "\n",
       "    <div class=\"bk-root\">\n",
       "        <a href=\"https://bokeh.org\" target=\"_blank\" class=\"bk-logo bk-logo-small bk-logo-notebook\"></a>\n",
       "        <span id=\"1001\">Loading BokehJS ...</span>\n",
       "    </div>"
      ]
     },
     "metadata": {},
     "output_type": "display_data"
    },
    {
     "data": {
      "application/javascript": [
       "\n",
       "(function(root) {\n",
       "  function now() {\n",
       "    return new Date();\n",
       "  }\n",
       "\n",
       "  var force = true;\n",
       "\n",
       "  if (typeof root._bokeh_onload_callbacks === \"undefined\" || force === true) {\n",
       "    root._bokeh_onload_callbacks = [];\n",
       "    root._bokeh_is_loading = undefined;\n",
       "  }\n",
       "\n",
       "  var JS_MIME_TYPE = 'application/javascript';\n",
       "  var HTML_MIME_TYPE = 'text/html';\n",
       "  var EXEC_MIME_TYPE = 'application/vnd.bokehjs_exec.v0+json';\n",
       "  var CLASS_NAME = 'output_bokeh rendered_html';\n",
       "\n",
       "  /**\n",
       "   * Render data to the DOM node\n",
       "   */\n",
       "  function render(props, node) {\n",
       "    var script = document.createElement(\"script\");\n",
       "    node.appendChild(script);\n",
       "  }\n",
       "\n",
       "  /**\n",
       "   * Handle when an output is cleared or removed\n",
       "   */\n",
       "  function handleClearOutput(event, handle) {\n",
       "    var cell = handle.cell;\n",
       "\n",
       "    var id = cell.output_area._bokeh_element_id;\n",
       "    var server_id = cell.output_area._bokeh_server_id;\n",
       "    // Clean up Bokeh references\n",
       "    if (id != null && id in Bokeh.index) {\n",
       "      Bokeh.index[id].model.document.clear();\n",
       "      delete Bokeh.index[id];\n",
       "    }\n",
       "\n",
       "    if (server_id !== undefined) {\n",
       "      // Clean up Bokeh references\n",
       "      var cmd = \"from bokeh.io.state import curstate; print(curstate().uuid_to_server['\" + server_id + \"'].get_sessions()[0].document.roots[0]._id)\";\n",
       "      cell.notebook.kernel.execute(cmd, {\n",
       "        iopub: {\n",
       "          output: function(msg) {\n",
       "            var id = msg.content.text.trim();\n",
       "            if (id in Bokeh.index) {\n",
       "              Bokeh.index[id].model.document.clear();\n",
       "              delete Bokeh.index[id];\n",
       "            }\n",
       "          }\n",
       "        }\n",
       "      });\n",
       "      // Destroy server and session\n",
       "      var cmd = \"import bokeh.io.notebook as ion; ion.destroy_server('\" + server_id + \"')\";\n",
       "      cell.notebook.kernel.execute(cmd);\n",
       "    }\n",
       "  }\n",
       "\n",
       "  /**\n",
       "   * Handle when a new output is added\n",
       "   */\n",
       "  function handleAddOutput(event, handle) {\n",
       "    var output_area = handle.output_area;\n",
       "    var output = handle.output;\n",
       "\n",
       "    // limit handleAddOutput to display_data with EXEC_MIME_TYPE content only\n",
       "    if ((output.output_type != \"display_data\") || (!output.data.hasOwnProperty(EXEC_MIME_TYPE))) {\n",
       "      return\n",
       "    }\n",
       "\n",
       "    var toinsert = output_area.element.find(\".\" + CLASS_NAME.split(' ')[0]);\n",
       "\n",
       "    if (output.metadata[EXEC_MIME_TYPE][\"id\"] !== undefined) {\n",
       "      toinsert[toinsert.length - 1].firstChild.textContent = output.data[JS_MIME_TYPE];\n",
       "      // store reference to embed id on output_area\n",
       "      output_area._bokeh_element_id = output.metadata[EXEC_MIME_TYPE][\"id\"];\n",
       "    }\n",
       "    if (output.metadata[EXEC_MIME_TYPE][\"server_id\"] !== undefined) {\n",
       "      var bk_div = document.createElement(\"div\");\n",
       "      bk_div.innerHTML = output.data[HTML_MIME_TYPE];\n",
       "      var script_attrs = bk_div.children[0].attributes;\n",
       "      for (var i = 0; i < script_attrs.length; i++) {\n",
       "        toinsert[toinsert.length - 1].firstChild.setAttribute(script_attrs[i].name, script_attrs[i].value);\n",
       "      }\n",
       "      // store reference to server id on output_area\n",
       "      output_area._bokeh_server_id = output.metadata[EXEC_MIME_TYPE][\"server_id\"];\n",
       "    }\n",
       "  }\n",
       "\n",
       "  function register_renderer(events, OutputArea) {\n",
       "\n",
       "    function append_mime(data, metadata, element) {\n",
       "      // create a DOM node to render to\n",
       "      var toinsert = this.create_output_subarea(\n",
       "        metadata,\n",
       "        CLASS_NAME,\n",
       "        EXEC_MIME_TYPE\n",
       "      );\n",
       "      this.keyboard_manager.register_events(toinsert);\n",
       "      // Render to node\n",
       "      var props = {data: data, metadata: metadata[EXEC_MIME_TYPE]};\n",
       "      render(props, toinsert[toinsert.length - 1]);\n",
       "      element.append(toinsert);\n",
       "      return toinsert\n",
       "    }\n",
       "\n",
       "    /* Handle when an output is cleared or removed */\n",
       "    events.on('clear_output.CodeCell', handleClearOutput);\n",
       "    events.on('delete.Cell', handleClearOutput);\n",
       "\n",
       "    /* Handle when a new output is added */\n",
       "    events.on('output_added.OutputArea', handleAddOutput);\n",
       "\n",
       "    /**\n",
       "     * Register the mime type and append_mime function with output_area\n",
       "     */\n",
       "    OutputArea.prototype.register_mime_type(EXEC_MIME_TYPE, append_mime, {\n",
       "      /* Is output safe? */\n",
       "      safe: true,\n",
       "      /* Index of renderer in `output_area.display_order` */\n",
       "      index: 0\n",
       "    });\n",
       "  }\n",
       "\n",
       "  // register the mime type if in Jupyter Notebook environment and previously unregistered\n",
       "  if (root.Jupyter !== undefined) {\n",
       "    var events = require('base/js/events');\n",
       "    var OutputArea = require('notebook/js/outputarea').OutputArea;\n",
       "\n",
       "    if (OutputArea.prototype.mime_types().indexOf(EXEC_MIME_TYPE) == -1) {\n",
       "      register_renderer(events, OutputArea);\n",
       "    }\n",
       "  }\n",
       "\n",
       "  \n",
       "  if (typeof (root._bokeh_timeout) === \"undefined\" || force === true) {\n",
       "    root._bokeh_timeout = Date.now() + 5000;\n",
       "    root._bokeh_failed_load = false;\n",
       "  }\n",
       "\n",
       "  var NB_LOAD_WARNING = {'data': {'text/html':\n",
       "     \"<div style='background-color: #fdd'>\\n\"+\n",
       "     \"<p>\\n\"+\n",
       "     \"BokehJS does not appear to have successfully loaded. If loading BokehJS from CDN, this \\n\"+\n",
       "     \"may be due to a slow or bad network connection. Possible fixes:\\n\"+\n",
       "     \"</p>\\n\"+\n",
       "     \"<ul>\\n\"+\n",
       "     \"<li>re-rerun `output_notebook()` to attempt to load from CDN again, or</li>\\n\"+\n",
       "     \"<li>use INLINE resources instead, as so:</li>\\n\"+\n",
       "     \"</ul>\\n\"+\n",
       "     \"<code>\\n\"+\n",
       "     \"from bokeh.resources import INLINE\\n\"+\n",
       "     \"output_notebook(resources=INLINE)\\n\"+\n",
       "     \"</code>\\n\"+\n",
       "     \"</div>\"}};\n",
       "\n",
       "  function display_loaded() {\n",
       "    var el = document.getElementById(\"1001\");\n",
       "    if (el != null) {\n",
       "      el.textContent = \"BokehJS is loading...\";\n",
       "    }\n",
       "    if (root.Bokeh !== undefined) {\n",
       "      if (el != null) {\n",
       "        el.textContent = \"BokehJS \" + root.Bokeh.version + \" successfully loaded.\";\n",
       "      }\n",
       "    } else if (Date.now() < root._bokeh_timeout) {\n",
       "      setTimeout(display_loaded, 100)\n",
       "    }\n",
       "  }\n",
       "\n",
       "\n",
       "  function run_callbacks() {\n",
       "    try {\n",
       "      root._bokeh_onload_callbacks.forEach(function(callback) {\n",
       "        if (callback != null)\n",
       "          callback();\n",
       "      });\n",
       "    } finally {\n",
       "      delete root._bokeh_onload_callbacks\n",
       "    }\n",
       "    console.debug(\"Bokeh: all callbacks have finished\");\n",
       "  }\n",
       "\n",
       "  function load_libs(css_urls, js_urls, callback) {\n",
       "    if (css_urls == null) css_urls = [];\n",
       "    if (js_urls == null) js_urls = [];\n",
       "\n",
       "    root._bokeh_onload_callbacks.push(callback);\n",
       "    if (root._bokeh_is_loading > 0) {\n",
       "      console.debug(\"Bokeh: BokehJS is being loaded, scheduling callback at\", now());\n",
       "      return null;\n",
       "    }\n",
       "    if (js_urls == null || js_urls.length === 0) {\n",
       "      run_callbacks();\n",
       "      return null;\n",
       "    }\n",
       "    console.debug(\"Bokeh: BokehJS not loaded, scheduling load and callback at\", now());\n",
       "    root._bokeh_is_loading = css_urls.length + js_urls.length;\n",
       "\n",
       "    function on_load() {\n",
       "      root._bokeh_is_loading--;\n",
       "      if (root._bokeh_is_loading === 0) {\n",
       "        console.debug(\"Bokeh: all BokehJS libraries/stylesheets loaded\");\n",
       "        run_callbacks()\n",
       "      }\n",
       "    }\n",
       "\n",
       "    function on_error() {\n",
       "      console.error(\"failed to load \" + url);\n",
       "    }\n",
       "\n",
       "    for (var i = 0; i < css_urls.length; i++) {\n",
       "      var url = css_urls[i];\n",
       "      const element = document.createElement(\"link\");\n",
       "      element.onload = on_load;\n",
       "      element.onerror = on_error;\n",
       "      element.rel = \"stylesheet\";\n",
       "      element.type = \"text/css\";\n",
       "      element.href = url;\n",
       "      console.debug(\"Bokeh: injecting link tag for BokehJS stylesheet: \", url);\n",
       "      document.body.appendChild(element);\n",
       "    }\n",
       "\n",
       "    for (var i = 0; i < js_urls.length; i++) {\n",
       "      var url = js_urls[i];\n",
       "      var element = document.createElement('script');\n",
       "      element.onload = on_load;\n",
       "      element.onerror = on_error;\n",
       "      element.async = false;\n",
       "      element.src = url;\n",
       "      console.debug(\"Bokeh: injecting script tag for BokehJS library: \", url);\n",
       "      document.head.appendChild(element);\n",
       "    }\n",
       "  };var element = document.getElementById(\"1001\");\n",
       "  if (element == null) {\n",
       "    console.error(\"Bokeh: ERROR: autoload.js configured with elementid '1001' but no matching script tag was found. \")\n",
       "    return false;\n",
       "  }\n",
       "\n",
       "  function inject_raw_css(css) {\n",
       "    const element = document.createElement(\"style\");\n",
       "    element.appendChild(document.createTextNode(css));\n",
       "    document.body.appendChild(element);\n",
       "  }\n",
       "\n",
       "  \n",
       "  var js_urls = [\"https://cdn.pydata.org/bokeh/release/bokeh-1.4.0.min.js\", \"https://cdn.pydata.org/bokeh/release/bokeh-widgets-1.4.0.min.js\", \"https://cdn.pydata.org/bokeh/release/bokeh-tables-1.4.0.min.js\", \"https://cdn.pydata.org/bokeh/release/bokeh-gl-1.4.0.min.js\"];\n",
       "  var css_urls = [];\n",
       "  \n",
       "\n",
       "  var inline_js = [\n",
       "    function(Bokeh) {\n",
       "      Bokeh.set_log_level(\"info\");\n",
       "    },\n",
       "    function(Bokeh) {\n",
       "    \n",
       "    \n",
       "    }\n",
       "  ];\n",
       "\n",
       "  function run_inline_js() {\n",
       "    \n",
       "    if (root.Bokeh !== undefined || force === true) {\n",
       "      \n",
       "    for (var i = 0; i < inline_js.length; i++) {\n",
       "      inline_js[i].call(root, root.Bokeh);\n",
       "    }\n",
       "    if (force === true) {\n",
       "        display_loaded();\n",
       "      }} else if (Date.now() < root._bokeh_timeout) {\n",
       "      setTimeout(run_inline_js, 100);\n",
       "    } else if (!root._bokeh_failed_load) {\n",
       "      console.log(\"Bokeh: BokehJS failed to load within specified timeout.\");\n",
       "      root._bokeh_failed_load = true;\n",
       "    } else if (force !== true) {\n",
       "      var cell = $(document.getElementById(\"1001\")).parents('.cell').data().cell;\n",
       "      cell.output_area.append_execute_result(NB_LOAD_WARNING)\n",
       "    }\n",
       "\n",
       "  }\n",
       "\n",
       "  if (root._bokeh_is_loading === 0) {\n",
       "    console.debug(\"Bokeh: BokehJS loaded, going straight to plotting\");\n",
       "    run_inline_js();\n",
       "  } else {\n",
       "    load_libs(css_urls, js_urls, function() {\n",
       "      console.debug(\"Bokeh: BokehJS plotting callback run at\", now());\n",
       "      run_inline_js();\n",
       "    });\n",
       "  }\n",
       "}(window));"
      ],
      "application/vnd.bokehjs_load.v0+json": "\n(function(root) {\n  function now() {\n    return new Date();\n  }\n\n  var force = true;\n\n  if (typeof root._bokeh_onload_callbacks === \"undefined\" || force === true) {\n    root._bokeh_onload_callbacks = [];\n    root._bokeh_is_loading = undefined;\n  }\n\n  \n\n  \n  if (typeof (root._bokeh_timeout) === \"undefined\" || force === true) {\n    root._bokeh_timeout = Date.now() + 5000;\n    root._bokeh_failed_load = false;\n  }\n\n  var NB_LOAD_WARNING = {'data': {'text/html':\n     \"<div style='background-color: #fdd'>\\n\"+\n     \"<p>\\n\"+\n     \"BokehJS does not appear to have successfully loaded. If loading BokehJS from CDN, this \\n\"+\n     \"may be due to a slow or bad network connection. Possible fixes:\\n\"+\n     \"</p>\\n\"+\n     \"<ul>\\n\"+\n     \"<li>re-rerun `output_notebook()` to attempt to load from CDN again, or</li>\\n\"+\n     \"<li>use INLINE resources instead, as so:</li>\\n\"+\n     \"</ul>\\n\"+\n     \"<code>\\n\"+\n     \"from bokeh.resources import INLINE\\n\"+\n     \"output_notebook(resources=INLINE)\\n\"+\n     \"</code>\\n\"+\n     \"</div>\"}};\n\n  function display_loaded() {\n    var el = document.getElementById(\"1001\");\n    if (el != null) {\n      el.textContent = \"BokehJS is loading...\";\n    }\n    if (root.Bokeh !== undefined) {\n      if (el != null) {\n        el.textContent = \"BokehJS \" + root.Bokeh.version + \" successfully loaded.\";\n      }\n    } else if (Date.now() < root._bokeh_timeout) {\n      setTimeout(display_loaded, 100)\n    }\n  }\n\n\n  function run_callbacks() {\n    try {\n      root._bokeh_onload_callbacks.forEach(function(callback) {\n        if (callback != null)\n          callback();\n      });\n    } finally {\n      delete root._bokeh_onload_callbacks\n    }\n    console.debug(\"Bokeh: all callbacks have finished\");\n  }\n\n  function load_libs(css_urls, js_urls, callback) {\n    if (css_urls == null) css_urls = [];\n    if (js_urls == null) js_urls = [];\n\n    root._bokeh_onload_callbacks.push(callback);\n    if (root._bokeh_is_loading > 0) {\n      console.debug(\"Bokeh: BokehJS is being loaded, scheduling callback at\", now());\n      return null;\n    }\n    if (js_urls == null || js_urls.length === 0) {\n      run_callbacks();\n      return null;\n    }\n    console.debug(\"Bokeh: BokehJS not loaded, scheduling load and callback at\", now());\n    root._bokeh_is_loading = css_urls.length + js_urls.length;\n\n    function on_load() {\n      root._bokeh_is_loading--;\n      if (root._bokeh_is_loading === 0) {\n        console.debug(\"Bokeh: all BokehJS libraries/stylesheets loaded\");\n        run_callbacks()\n      }\n    }\n\n    function on_error() {\n      console.error(\"failed to load \" + url);\n    }\n\n    for (var i = 0; i < css_urls.length; i++) {\n      var url = css_urls[i];\n      const element = document.createElement(\"link\");\n      element.onload = on_load;\n      element.onerror = on_error;\n      element.rel = \"stylesheet\";\n      element.type = \"text/css\";\n      element.href = url;\n      console.debug(\"Bokeh: injecting link tag for BokehJS stylesheet: \", url);\n      document.body.appendChild(element);\n    }\n\n    for (var i = 0; i < js_urls.length; i++) {\n      var url = js_urls[i];\n      var element = document.createElement('script');\n      element.onload = on_load;\n      element.onerror = on_error;\n      element.async = false;\n      element.src = url;\n      console.debug(\"Bokeh: injecting script tag for BokehJS library: \", url);\n      document.head.appendChild(element);\n    }\n  };var element = document.getElementById(\"1001\");\n  if (element == null) {\n    console.error(\"Bokeh: ERROR: autoload.js configured with elementid '1001' but no matching script tag was found. \")\n    return false;\n  }\n\n  function inject_raw_css(css) {\n    const element = document.createElement(\"style\");\n    element.appendChild(document.createTextNode(css));\n    document.body.appendChild(element);\n  }\n\n  \n  var js_urls = [\"https://cdn.pydata.org/bokeh/release/bokeh-1.4.0.min.js\", \"https://cdn.pydata.org/bokeh/release/bokeh-widgets-1.4.0.min.js\", \"https://cdn.pydata.org/bokeh/release/bokeh-tables-1.4.0.min.js\", \"https://cdn.pydata.org/bokeh/release/bokeh-gl-1.4.0.min.js\"];\n  var css_urls = [];\n  \n\n  var inline_js = [\n    function(Bokeh) {\n      Bokeh.set_log_level(\"info\");\n    },\n    function(Bokeh) {\n    \n    \n    }\n  ];\n\n  function run_inline_js() {\n    \n    if (root.Bokeh !== undefined || force === true) {\n      \n    for (var i = 0; i < inline_js.length; i++) {\n      inline_js[i].call(root, root.Bokeh);\n    }\n    if (force === true) {\n        display_loaded();\n      }} else if (Date.now() < root._bokeh_timeout) {\n      setTimeout(run_inline_js, 100);\n    } else if (!root._bokeh_failed_load) {\n      console.log(\"Bokeh: BokehJS failed to load within specified timeout.\");\n      root._bokeh_failed_load = true;\n    } else if (force !== true) {\n      var cell = $(document.getElementById(\"1001\")).parents('.cell').data().cell;\n      cell.output_area.append_execute_result(NB_LOAD_WARNING)\n    }\n\n  }\n\n  if (root._bokeh_is_loading === 0) {\n    console.debug(\"Bokeh: BokehJS loaded, going straight to plotting\");\n    run_inline_js();\n  } else {\n    load_libs(css_urls, js_urls, function() {\n      console.debug(\"Bokeh: BokehJS plotting callback run at\", now());\n      run_inline_js();\n    });\n  }\n}(window));"
     },
     "metadata": {},
     "output_type": "display_data"
    }
   ],
   "source": [
    "from bs4 import BeautifulSoup\n",
    "import pandas as pd\n",
    "import numpy as np \n",
    "import emoji\n",
    "import string\n",
    "import re\n",
    "import nltk\n",
    "import pickle\n",
    "from matplotlib import pyplot as plt\n",
    "%matplotlib inline\n",
    "\n",
    "#bokeh \n",
    "from bokeh.io import show, output_notebook\n",
    "from bokeh.models import ColumnDataSource, Panel, Tabs, FactorRange\n",
    "from bokeh.models import HoverTool\n",
    "from bokeh.plotting import figure\n",
    "from bokeh.models.widgets import DataTable, DateFormatter, TableColumn\n",
    "from bokeh.palettes import Spectral5\n",
    "import bokeh.layouts as layouts\n",
    "from bokeh.layouts import row\n",
    "import bokeh.models.widgets as widgets\n",
    "from bokeh.io import curdoc\n",
    "from bokeh.transform import factor_cmap\n",
    "from bokeh.transform import dodge\n",
    "output_notebook()\n",
    "\n",
    "# Set iPython's max column width to 1000\n",
    "pd.set_option('display.max_columns', 1000)\n",
    "pd.set_option('display.max_colwidth', -1)\n",
    "pd.options.display.float_format = '{:,.3f}'.format\n"
   ]
  },
  {
   "cell_type": "code",
   "execution_count": 3,
   "metadata": {},
   "outputs": [],
   "source": [
    "df = pd.read_json('fin_dis_tweet.json')"
   ]
  },
  {
   "cell_type": "code",
   "execution_count": 4,
   "metadata": {},
   "outputs": [
    {
     "data": {
      "text/html": [
       "<div>\n",
       "<style scoped>\n",
       "    .dataframe tbody tr th:only-of-type {\n",
       "        vertical-align: middle;\n",
       "    }\n",
       "\n",
       "    .dataframe tbody tr th {\n",
       "        vertical-align: top;\n",
       "    }\n",
       "\n",
       "    .dataframe thead th {\n",
       "        text-align: right;\n",
       "    }\n",
       "</style>\n",
       "<table border=\"1\" class=\"dataframe\">\n",
       "  <thead>\n",
       "    <tr style=\"text-align: right;\">\n",
       "      <th></th>\n",
       "      <th></th>\n",
       "      <th>retweetID</th>\n",
       "    </tr>\n",
       "    <tr>\n",
       "      <th>retweetID</th>\n",
       "      <th>original_text</th>\n",
       "      <th></th>\n",
       "    </tr>\n",
       "  </thead>\n",
       "  <tbody>\n",
       "    <tr>\n",
       "      <th>1,187,535,711,000,000,000.000</th>\n",
       "      <th>RT @lobo240z: Fuck a fake ID, who makes fake Disneyland annual passes</th>\n",
       "      <td>14445</td>\n",
       "    </tr>\n",
       "    <tr>\n",
       "      <th>1,158,839,596,000,000,000.000</th>\n",
       "      <th>“Quick, act like this is your first tasting of the day” #🥴 #weekend #winetasting #jumpsuit #mrturk #californiaadventure #clothedcontent https://t.co/NbpoKzBuiU</th>\n",
       "      <td>7517</td>\n",
       "    </tr>\n",
       "    <tr>\n",
       "      <th>1,188,852,344,000,000,000.000</th>\n",
       "      <th>RT @TheSocietyDude: This guy is ready for whatever Disneyland will throw at him https://t.co/ZawaczjFax</th>\n",
       "      <td>6652</td>\n",
       "    </tr>\n",
       "    <tr>\n",
       "      <th>1,185,059,536,000,000,000.000</th>\n",
       "      <th>RT @babyhanners: I wish I was at Disneyland eating a churro right now</th>\n",
       "      <td>5140</td>\n",
       "    </tr>\n",
       "    <tr>\n",
       "      <th>1,190,101,152,000,000,000.000</th>\n",
       "      <th>✨✨✨✨✨✨✨\\n　　5組10名様を\\n#東京ディズニーランド®\\n　新オープン施設の\\n プレビューにご招待！\\n✨✨✨✨✨✨✨\\n\\n新施設をいち早く体験するチャンス✧٩(ˊωˋ*)و✧\\n\\nこのツイートをリツイートして応募してね！\\n\\n#パークチケットもついてるよ🎁\\n#JALプレビューチケットキャンペーン\\n\\n▼詳細▼</th>\n",
       "      <td>3135</td>\n",
       "    </tr>\n",
       "    <tr>\n",
       "      <th>1,184,630,277,000,000,000.000</th>\n",
       "      <th>People kept stopping me all day at Tokyo Disneyland with lovely compliments and asking for pictures! There’s no face character for Tiana in the Japan parks so people really responded well to seeing one at TDL. More love for Princess Tiana in Japan yes 😍💚 https://t.co/wvEC7hVwBg</th>\n",
       "      <td>3100</td>\n",
       "    </tr>\n",
       "    <tr>\n",
       "      <th>1,179,510,293,000,000,000.000</th>\n",
       "      <th>RT @iamAdrianRomero: It’s always “wyd”, never, “lets go to Disneyland”.</th>\n",
       "      <td>3100</td>\n",
       "    </tr>\n",
       "    <tr>\n",
       "      <th>1,183,939,195,000,000,000.000</th>\n",
       "      <th>RT @Dream_GoesOn: ワンマン初回、今日から新演出…？これは泣くよ…😭\\n#TDR_now https://t.co/tHqRj5fhgs</th>\n",
       "      <td>1843</td>\n",
       "    </tr>\n",
       "    <tr>\n",
       "      <th>1,185,941,050,000,000,000.000</th>\n",
       "      <th>Yesterday I went into the Cantina at the new Star Wars land at Disneyland and the bartender leans over, sneakily gives me this, and whispers, “It’s not often we get a Resistance General in here. Thank you for your service.” I almost cried. https://t.co/JM2YpRo2aF</th>\n",
       "      <td>1814</td>\n",
       "    </tr>\n",
       "    <tr>\n",
       "      <th>1,189,617,380,000,000,000.000</th>\n",
       "      <th>RT @christinekossa: Disneyland Paris with my hubby❤️💍🏰 https://t.co/QqoYb32mmi</th>\n",
       "      <td>1590</td>\n",
       "    </tr>\n",
       "    <tr>\n",
       "      <th>1,176,213,229,000,000,000.000</th>\n",
       "      <th>Passport checks at St Pancras after getting off the train from Paris tonight.  First time I’ve seen this.  A lot of ashen faces, including mine, seeing the reality kick in.  Long queues.  Young tired children wanting to get home after a trip to Disneyland.  Welcome to Brexitland.</th>\n",
       "      <td>1396</td>\n",
       "    </tr>\n",
       "    <tr>\n",
       "      <th>1,189,573,144,000,000,000.000</th>\n",
       "      <th>The Chosen One himself, Hayden Christensen, had a most impressive visit to Star Wars: #GalaxysEdge at @Disneyland. The Force is strong with this one! https://t.co/P7BWi1vw33</th>\n",
       "      <td>1331</td>\n",
       "    </tr>\n",
       "    <tr>\n",
       "      <th>1,181,653,385,000,000,000.000</th>\n",
       "      <th>Taemin fansign highlights:\\n\\n- my name is Luna ➡ TM: are you a member of f (x)\\n- i work in Disneyland ➡ TM: can i get in for free?\\n- My name is Genesis ➡ TM: are you a hundai car? \\n- Your English is so good ➡ TM: don't ....... lie https://t.co/rRsklsq5Vk</th>\n",
       "      <td>1319</td>\n",
       "    </tr>\n",
       "    <tr>\n",
       "      <th>1,189,616,281,000,000,000.000</th>\n",
       "      <th>RT @Genius: this guy made a beat out of sounds he recorded at disneyland and it's 🔥🔥\\nhttps://t.co/bvs14ps9qM</th>\n",
       "      <td>1264</td>\n",
       "    </tr>\n",
       "    <tr>\n",
       "      <th>1,181,277,651,000,000,000.000</th>\n",
       "      <th>RT @intrnetdaughter: adults who are super into Disneyland are missing a part of their brain</th>\n",
       "      <td>1176</td>\n",
       "    </tr>\n",
       "    <tr>\n",
       "      <th>1,178,491,779,000,000,000.000</th>\n",
       "      <th>RT @deaddilf69: How is any of these pictures real https://t.co/fpCTO4AwBw</th>\n",
       "      <td>1044</td>\n",
       "    </tr>\n",
       "    <tr>\n",
       "      <th>1,178,801,532,000,000,000.000</th>\n",
       "      <th>RT @MezzoMikiD: 東京ディズニーランド\\n本日10月1日よりシンデレラ城および城内は改修工事に伴い通行できなくなっています。\\nhttps://t.co/6tEyanANLs https://t.co/qgp4JfalxU</th>\n",
       "      <td>972</td>\n",
       "    </tr>\n",
       "    <tr>\n",
       "      <th>1,189,319,906,000,000,000.000</th>\n",
       "      <th>RT @dreamingup39: ドン引きなんだけど、年パス組にはこういう人もいるのよ\\nダッフィー 毛布12500円で買う人も世の中いるから、転売はなくならない #TDR_now https://t.co/Mtr9iBNGgd</th>\n",
       "      <td>876</td>\n",
       "    </tr>\n",
       "    <tr>\n",
       "      <th>1,178,884,070,000,000,000.000</th>\n",
       "      <th>RT @markhoppus: I was trying to tell a story about the Disneyland ride “It’s a Small World” and accidentally called it “All the Small World…</th>\n",
       "      <td>868</td>\n",
       "    </tr>\n",
       "    <tr>\n",
       "      <th>1,187,574,557,000,000,000.000</th>\n",
       "      <th>RT @Gg5w3f52ZhsV2aS: おじさん家\\n#tdr_now https://t.co/eZaK9sOp2N</th>\n",
       "      <td>845</td>\n",
       "    </tr>\n",
       "  </tbody>\n",
       "</table>\n",
       "</div>"
      ],
      "text/plain": [
       "                                                                                                                                                                                                                                                                                                                        retweetID\n",
       "retweetID                     original_text                                                                                                                                                                                                                                                                                      \n",
       "1,187,535,711,000,000,000.000 RT @lobo240z: Fuck a fake ID, who makes fake Disneyland annual passes                                                                                                                                                                                                                     14445    \n",
       "1,158,839,596,000,000,000.000 “Quick, act like this is your first tasting of the day” #🥴 #weekend #winetasting #jumpsuit #mrturk #californiaadventure #clothedcontent https://t.co/NbpoKzBuiU                                                                                                                           7517     \n",
       "1,188,852,344,000,000,000.000 RT @TheSocietyDude: This guy is ready for whatever Disneyland will throw at him https://t.co/ZawaczjFax                                                                                                                                                                                   6652     \n",
       "1,185,059,536,000,000,000.000 RT @babyhanners: I wish I was at Disneyland eating a churro right now                                                                                                                                                                                                                     5140     \n",
       "1,190,101,152,000,000,000.000 ✨✨✨✨✨✨✨\\n　　5組10名様を\\n#東京ディズニーランド®\\n　新オープン施設の\\n プレビューにご招待！\\n✨✨✨✨✨✨✨\\n\\n新施設をいち早く体験するチャンス✧٩(ˊωˋ*)و✧\\n\\nこのツイートをリツイートして応募してね！\\n\\n#パークチケットもついてるよ🎁\\n#JALプレビューチケットキャンペーン\\n\\n▼詳細▼                                                                                                                   3135     \n",
       "1,184,630,277,000,000,000.000 People kept stopping me all day at Tokyo Disneyland with lovely compliments and asking for pictures! There’s no face character for Tiana in the Japan parks so people really responded well to seeing one at TDL. More love for Princess Tiana in Japan yes 😍💚 https://t.co/wvEC7hVwBg    3100     \n",
       "1,179,510,293,000,000,000.000 RT @iamAdrianRomero: It’s always “wyd”, never, “lets go to Disneyland”.                                                                                                                                                                                                                   3100     \n",
       "1,183,939,195,000,000,000.000 RT @Dream_GoesOn: ワンマン初回、今日から新演出…？これは泣くよ…😭\\n#TDR_now https://t.co/tHqRj5fhgs                                                                                                                                                                                                              1843     \n",
       "1,185,941,050,000,000,000.000 Yesterday I went into the Cantina at the new Star Wars land at Disneyland and the bartender leans over, sneakily gives me this, and whispers, “It’s not often we get a Resistance General in here. Thank you for your service.” I almost cried. https://t.co/JM2YpRo2aF                   1814     \n",
       "1,189,617,380,000,000,000.000 RT @christinekossa: Disneyland Paris with my hubby❤️💍🏰 https://t.co/QqoYb32mmi                                                                                                                                                                                                            1590     \n",
       "1,176,213,229,000,000,000.000 Passport checks at St Pancras after getting off the train from Paris tonight.  First time I’ve seen this.  A lot of ashen faces, including mine, seeing the reality kick in.  Long queues.  Young tired children wanting to get home after a trip to Disneyland.  Welcome to Brexitland.  1396     \n",
       "1,189,573,144,000,000,000.000 The Chosen One himself, Hayden Christensen, had a most impressive visit to Star Wars: #GalaxysEdge at @Disneyland. The Force is strong with this one! https://t.co/P7BWi1vw33                                                                                                             1331     \n",
       "1,181,653,385,000,000,000.000 Taemin fansign highlights:\\n\\n- my name is Luna ➡ TM: are you a member of f (x)\\n- i work in Disneyland ➡ TM: can i get in for free?\\n- My name is Genesis ➡ TM: are you a hundai car? \\n- Your English is so good ➡ TM: don't ....... lie https://t.co/rRsklsq5Vk                        1319     \n",
       "1,189,616,281,000,000,000.000 RT @Genius: this guy made a beat out of sounds he recorded at disneyland and it's 🔥🔥\\nhttps://t.co/bvs14ps9qM                                                                                                                                                                             1264     \n",
       "1,181,277,651,000,000,000.000 RT @intrnetdaughter: adults who are super into Disneyland are missing a part of their brain                                                                                                                                                                                               1176     \n",
       "1,178,491,779,000,000,000.000 RT @deaddilf69: How is any of these pictures real https://t.co/fpCTO4AwBw                                                                                                                                                                                                                 1044     \n",
       "1,178,801,532,000,000,000.000 RT @MezzoMikiD: 東京ディズニーランド\\n本日10月1日よりシンデレラ城および城内は改修工事に伴い通行できなくなっています。\\nhttps://t.co/6tEyanANLs https://t.co/qgp4JfalxU                                                                                                                                                                    972      \n",
       "1,189,319,906,000,000,000.000 RT @dreamingup39: ドン引きなんだけど、年パス組にはこういう人もいるのよ\\nダッフィー 毛布12500円で買う人も世の中いるから、転売はなくならない #TDR_now https://t.co/Mtr9iBNGgd                                                                                                                                                                       876      \n",
       "1,178,884,070,000,000,000.000 RT @markhoppus: I was trying to tell a story about the Disneyland ride “It’s a Small World” and accidentally called it “All the Small World…                                                                                                                                              868      \n",
       "1,187,574,557,000,000,000.000 RT @Gg5w3f52ZhsV2aS: おじさん家\\n#tdr_now https://t.co/eZaK9sOp2N                                                                                                                                                                                                                              845      "
      ]
     },
     "execution_count": 4,
     "metadata": {},
     "output_type": "execute_result"
    }
   ],
   "source": [
    "retweets = pd.DataFrame(df.groupby(['retweetID','original_text']).retweetID.count().sort_values(ascending=False))\n",
    "retweets.head(20)"
   ]
  },
  {
   "cell_type": "code",
   "execution_count": 5,
   "metadata": {},
   "outputs": [],
   "source": [
    "df.retweet_count.replace(np.nan,0, inplace = True)\n",
    "df2 = df.drop_duplicates(subset = 'clean_text')"
   ]
  },
  {
   "cell_type": "code",
   "execution_count": 6,
   "metadata": {},
   "outputs": [],
   "source": [
    "df2_ja = df2[df2['language'] == 'ja']\n",
    "df2_ja = df2_ja.reset_index(drop= True)"
   ]
  },
  {
   "cell_type": "code",
   "execution_count": 7,
   "metadata": {},
   "outputs": [],
   "source": [
    "df2_en = df2[df2['language'] == 'en']\n",
    "df2_en = df2_en.reset_index(drop = True)\n",
    "df2_en['word_trans'] = 'None'\n",
    "df2_en['google_trans'] = 'None'"
   ]
  },
  {
   "cell_type": "code",
   "execution_count": 8,
   "metadata": {},
   "outputs": [],
   "source": [
    "goog_trans = pd.read_csv('goog_trans.csv', header = None)"
   ]
  },
  {
   "cell_type": "code",
   "execution_count": 9,
   "metadata": {},
   "outputs": [],
   "source": [
    "word_trans = pd.read_csv('word_trans.csv', header = None)"
   ]
  },
  {
   "cell_type": "code",
   "execution_count": 10,
   "metadata": {},
   "outputs": [],
   "source": [
    "goog_trans.columns = ['index', 'goog_trans']\n",
    "word_trans.columns = ['index', 'word_trans']"
   ]
  },
  {
   "cell_type": "code",
   "execution_count": 11,
   "metadata": {},
   "outputs": [],
   "source": [
    "df2_ja['word_trans'] = word_trans['word_trans']\n",
    "df2_ja['google_trans'] = goog_trans['goog_trans']"
   ]
  },
  {
   "cell_type": "code",
   "execution_count": 12,
   "metadata": {},
   "outputs": [],
   "source": [
    "df3 = pd.concat([df2_en, df2_ja]).sort_values('created')\n",
    "df3 = df3.reset_index(drop = True)"
   ]
  },
  {
   "cell_type": "code",
   "execution_count": 13,
   "metadata": {},
   "outputs": [],
   "source": [
    "df3 = df3.drop(columns=['clean_translated_text', 'clean_text', 'text_length', 'clean_text_hashtag','clean_text_hashtag_emoji',\n",
    "                'polarity_tb', 'subjectivity_tb', 'sentiment_text_blob','vader_pos','sentiment_vader','vader_score',\n",
    "                'original_clean_text_hashtag_emoji','sentiment_asari','clean_text_hashtag_emoji_mentions',\n",
    "                 'original_clean_text_hashtag_emoji_mentions','disneyAnaheim', 'disneyTokyo','otherdisneyparks','park',\n",
    "                        'hashtag','emoji','mentions'])"
   ]
  },
  {
   "cell_type": "code",
   "execution_count": 14,
   "metadata": {},
   "outputs": [],
   "source": [
    "df3['en_ja_word'] = np.where((df3['word_trans'] == 'None'), df3['original_text'], df3['word_trans'])"
   ]
  },
  {
   "cell_type": "code",
   "execution_count": 15,
   "metadata": {},
   "outputs": [],
   "source": [
    "df3['en_ja_goog'] = np.where((df3['google_trans'] == 'None'), df3['original_text'], df3['google_trans'])"
   ]
  },
  {
   "cell_type": "code",
   "execution_count": 16,
   "metadata": {},
   "outputs": [],
   "source": [
    "df3 = df3.drop(columns = ['word_trans','google_trans'])"
   ]
  },
  {
   "cell_type": "code",
   "execution_count": 17,
   "metadata": {},
   "outputs": [],
   "source": [
    "df3['en_ja_word'] = df3['en_ja_word'].astype('str')\n",
    "df3['en_ja_goog'] = df3['en_ja_goog'].astype('str')"
   ]
  },
  {
   "cell_type": "code",
   "execution_count": 18,
   "metadata": {},
   "outputs": [],
   "source": [
    "#extract link for tweet\n",
    "def tweet_link(link):\n",
    "    words = link.split()\n",
    "    links = [word for word in words if word.startswith('http')]\n",
    "    return links"
   ]
  },
  {
   "cell_type": "code",
   "execution_count": 19,
   "metadata": {},
   "outputs": [],
   "source": [
    "df3['tweet_link'] = df3['original_text'].apply(tweet_link)"
   ]
  },
  {
   "cell_type": "code",
   "execution_count": 20,
   "metadata": {},
   "outputs": [],
   "source": [
    "#extract Hashtags\n",
    "def hashtags(string):\n",
    "    words = string.split()\n",
    "    hashtags = [word for word in words if word.startswith('#')]\n",
    "    return hashtags"
   ]
  },
  {
   "cell_type": "code",
   "execution_count": 21,
   "metadata": {},
   "outputs": [],
   "source": [
    "df3['hashtag'] = df3['original_text'].apply(hashtags)"
   ]
  },
  {
   "cell_type": "code",
   "execution_count": 22,
   "metadata": {},
   "outputs": [],
   "source": [
    "#hashtag count\n",
    "def hash_count(string):\n",
    "    words = string.split()\n",
    "    hashtags = [word for word in words if word.startswith('#')]\n",
    "    return len(hashtags)"
   ]
  },
  {
   "cell_type": "code",
   "execution_count": 23,
   "metadata": {},
   "outputs": [],
   "source": [
    "df3['hash_count'] = df3['original_text'].apply(hash_count)"
   ]
  },
  {
   "cell_type": "code",
   "execution_count": 24,
   "metadata": {},
   "outputs": [],
   "source": [
    "#Extract mention\n",
    "def mention(string):\n",
    "    words = string.split()\n",
    "    mention = [word for word in words if word.startswith('@')]\n",
    "    return mention"
   ]
  },
  {
   "cell_type": "code",
   "execution_count": 25,
   "metadata": {},
   "outputs": [],
   "source": [
    "df3['mention'] = df3['original_text'].apply(mention)\n",
    "df3['mention_count']  = df3['mention'].apply(len)"
   ]
  },
  {
   "cell_type": "code",
   "execution_count": 26,
   "metadata": {},
   "outputs": [],
   "source": [
    "#extracting the emojis\n",
    "emojis_list = map(lambda x: ''.join(x.split()), emoji.UNICODE_EMOJI.keys())\n",
    "r = re.compile('|'.join(re.escape(p) for p in emojis_list))\n",
    "#English\n",
    "df3['emoji'] = df3['original_text'].str.findall(r)"
   ]
  },
  {
   "cell_type": "code",
   "execution_count": 27,
   "metadata": {},
   "outputs": [],
   "source": [
    "#Emoji count\n",
    "df3['emoji_count'] = df3['emoji'].apply(len)"
   ]
  },
  {
   "cell_type": "code",
   "execution_count": 28,
   "metadata": {},
   "outputs": [
    {
     "data": {
      "text/html": [
       "<div>\n",
       "<style scoped>\n",
       "    .dataframe tbody tr th:only-of-type {\n",
       "        vertical-align: middle;\n",
       "    }\n",
       "\n",
       "    .dataframe tbody tr th {\n",
       "        vertical-align: top;\n",
       "    }\n",
       "\n",
       "    .dataframe thead th {\n",
       "        text-align: right;\n",
       "    }\n",
       "</style>\n",
       "<table border=\"1\" class=\"dataframe\">\n",
       "  <thead>\n",
       "    <tr style=\"text-align: right;\">\n",
       "      <th></th>\n",
       "      <th>en_ja_word</th>\n",
       "      <th>en_ja_goog</th>\n",
       "    </tr>\n",
       "  </thead>\n",
       "  <tbody>\n",
       "    <tr>\n",
       "      <th>0</th>\n",
       "      <td>RT @tdrblognote: Is this the new Mickey flower bed? If you're going to make an event photo location, it's the World Bazaar side. There is no space on the Mickey side to put the photo location. #TDR_now https://t.co/xYEQmaDLHm He Sia</td>\n",
       "      <td>RT @tdrblognote: This is the new Mickey flower beds Is - is a separate type. If you are making event photo locations, are you on the World Bazaar side? There is no space for photo location on Mickey side. #TDR_now https://t.co/xYEQmaDLHm</td>\n",
       "    </tr>\n",
       "    <tr>\n",
       "      <th>1</th>\n",
       "      <td>@OrangeGrove55 Galaxy’s Edge at Walt Disney World isn’t a failure, but like Disneyland it’s underperforming. But how can it not when they set it up to fail by not opening Rise with the land and not having Mickey’s Runaway Railway open. People are holding back. How many? Who knows?</td>\n",
       "      <td>@OrangeGrove55 Galaxy’s Edge at Walt Disney World isn’t a failure, but like Disneyland it’s underperforming. But how can it not when they set it up to fail by not opening Rise with the land and not having Mickey’s Runaway Railway open. People are holding back. How many? Who knows?</td>\n",
       "    </tr>\n",
       "    <tr>\n",
       "      <th>2</th>\n",
       "      <td>RT @hp_yec: I thought it was different from yesterday, but Mickey flower bed was back! Come home! #TDR_now https://t.co/KUib5PtJlT\\n\\n\\n</td>\n",
       "      <td>RT @hp_yec: When I thought something was different from yesterday, I \\nwas back at Mickey Flowerbed! \\nwelcome home! \\n\\n#TDR_now https://t.co/KUib5PtJlT</td>\n",
       "    </tr>\n",
       "    <tr>\n",
       "      <th>3</th>\n",
       "      <td>RT @gourmetdyy: New #Halloween themed cups! #ShanghaiDisneyland  #SHDL #上海ディズニーランド #Disney #Disneypark #Disneyland  #Duffy https://t.co/2fa…</td>\n",
       "      <td>RT @gourmetdyy: New #Halloween themed cups! #ShanghaiDisneyland  #SHDL #上海ディズニーランド #Disney #Disneypark #Disneyland  #Duffy https://t.co/2fa…</td>\n",
       "    </tr>\n",
       "    <tr>\n",
       "      <th>4</th>\n",
       "      <td>Why would Disney need to promote #StarWars: #GalaxysEdge so much if everything is hunky-dory?</td>\n",
       "      <td>Why would Disney need to promote #StarWars: #GalaxysEdge so much if everything is hunky-dory?</td>\n",
       "    </tr>\n",
       "    <tr>\n",
       "      <th>5</th>\n",
       "      <td>RT @MezzoMikiD: Mickey flower bed renewed \\nfrom Tokyo Disneyland today has appeared https://t.co/6tEyanANLs\\nhttps://t.co/SxFWw679bW</td>\n",
       "      <td>RT @MezzoMikiD: Tokyo Disneyland \\nMickey flowerbed renewed from today has appeared ☆ \\nhttps://t.co/6tEyanANLs https://t.co/SxFWw679bW</td>\n",
       "    </tr>\n",
       "    <tr>\n",
       "      <th>6</th>\n",
       "      <td>You could win a vacation for four to a galaxy far, far away. Enter now: https://t.co/lTGaULfzkH @SouthwestAir @WaltDisneyWorld @Disneyland #StarWars #Sweepstakes #NoPurchaseNecessary</td>\n",
       "      <td>You could win a vacation for four to a galaxy far, far away. Enter now: https://t.co/lTGaULfzkH @SouthwestAir @WaltDisneyWorld @Disneyland #StarWars #Sweepstakes #NoPurchaseNecessary</td>\n",
       "    </tr>\n",
       "    <tr>\n",
       "      <th>7</th>\n",
       "      <td>RT @_erikagirl00: a bitch just wants to go to Disneyland..</td>\n",
       "      <td>RT @_erikagirl00: a bitch just wants to go to Disneyland..</td>\n",
       "    </tr>\n",
       "    <tr>\n",
       "      <th>8</th>\n",
       "      <td>RT @EricMMrozek: Why would Disney need to promote #StarWars: #GalaxysEdge so much if everything is hunky-dory? https://t.co/WSTNWb85Za</td>\n",
       "      <td>RT @EricMMrozek: Why would Disney need to promote #StarWars: #GalaxysEdge so much if everything is hunky-dory? https://t.co/WSTNWb85Za</td>\n",
       "    </tr>\n",
       "    <tr>\n",
       "      <th>9</th>\n",
       "      <td>To Popcorn Bucket or not to Popcorn Bucket? That is the question...The answer is always to Popcorn Bucket!🎃😈#halloweentime #disneyland https://t.co/mq9rzy72qT</td>\n",
       "      <td>To Popcorn Bucket or not to Popcorn Bucket? That is the question...The answer is always to Popcorn Bucket!🎃😈#halloweentime #disneyland https://t.co/mq9rzy72qT</td>\n",
       "    </tr>\n",
       "    <tr>\n",
       "      <th>10</th>\n",
       "      <td>RT @kelseyr1101: My diet consists of Starbucks and Disneyland Churros</td>\n",
       "      <td>RT @kelseyr1101: My diet consists of Starbucks and Disneyland Churros</td>\n",
       "    </tr>\n",
       "    <tr>\n",
       "      <th>11</th>\n",
       "      <td>New #Halloween popcorn bucket~\\n#ShanghaiDisneyland  #SHDL #上海ディズニーランド #Disney #Disneypark #Disneyland    #Duffy #stellalou #shelliemay #Gelatoni https://t.co/8SFtdzGLBl</td>\n",
       "      <td>New #Halloween popcorn bucket~\\n#ShanghaiDisneyland  #SHDL #上海ディズニーランド #Disney #Disneypark #Disneyland    #Duffy #stellalou #shelliemay #Gelatoni https://t.co/8SFtdzGLBl</td>\n",
       "    </tr>\n",
       "    <tr>\n",
       "      <th>12</th>\n",
       "      <td>Late night sugar rush with my princess!! \\n\\n#trending #trend #makeup #instamakeup #instashopping #wakeuptomakeup #makeupqueen #younique #bossbabe #momlife #momtrepreneur #disney #disneyland #disneymom… https://t.co/FQ64lj9dTB</td>\n",
       "      <td>Late night sugar rush with my princess!! \\n\\n#trending #trend #makeup #instamakeup #instashopping #wakeuptomakeup #makeupqueen #younique #bossbabe #momlife #momtrepreneur #disney #disneyland #disneymom… https://t.co/FQ64lj9dTB</td>\n",
       "    </tr>\n",
       "    <tr>\n",
       "      <th>13</th>\n",
       "      <td>Passport checks at St Pancras after getting off the train from Paris tonight.  First time I’ve seen this.  A lot of ashen faces, including mine, seeing the reality kick in.  Long queues.  Young tired children wanting to get home after a trip to Disneyland.  Welcome to Brexitland.</td>\n",
       "      <td>Passport checks at St Pancras after getting off the train from Paris tonight.  First time I’ve seen this.  A lot of ashen faces, including mine, seeing the reality kick in.  Long queues.  Young tired children wanting to get home after a trip to Disneyland.  Welcome to Brexitland.</td>\n",
       "    </tr>\n",
       "    <tr>\n",
       "      <th>14</th>\n",
       "      <td>i want to go to disneyland</td>\n",
       "      <td>i want to go to disneyland</td>\n",
       "    </tr>\n",
       "    <tr>\n",
       "      <th>15</th>\n",
       "      <td>Disney’s Grand Californian Hotel &amp;amp; Spa at the @Disneyland Resort is introducing its all-new upscale experience – Tenaya Stone Spa – opening in spring 2020! https://t.co/0MO7J9YhiY https://t.co/gU4QmTBkXk</td>\n",
       "      <td>Disney’s Grand Californian Hotel &amp;amp; Spa at the @Disneyland Resort is introducing its all-new upscale experience – Tenaya Stone Spa – opening in spring 2020! https://t.co/0MO7J9YhiY https://t.co/gU4QmTBkXk</td>\n",
       "    </tr>\n",
       "    <tr>\n",
       "      <th>16</th>\n",
       "      <td>RT @fairejk: im ready to have my heart broken https://t.co/gZSwM3uM6Z</td>\n",
       "      <td>RT @fairejk: im ready to have my heart broken https://t.co/gZSwM3uM6Z</td>\n",
       "    </tr>\n",
       "    <tr>\n",
       "      <th>17</th>\n",
       "      <td>RT @aochann_disney': Mickey Flower Bed is back! https://t.co/7EhG9Y98fB #TDR_now</td>\n",
       "      <td>RT @aochann_disney: Mickey Flowerbed is back! \\n#TDR_now https://t.co/7EhG9Y98fB</td>\n",
       "    </tr>\n",
       "    <tr>\n",
       "      <th>18</th>\n",
       "      <td>.@TheGoldbergsABC are on vacation mode and are heading to #Disneyland! Join us today only for a special sneak peek of the “Vacation” episode in the Main Street Opera House on Main Street, U.S.A. now until 9pm! This is not a road trip you want to miss! (No registration required) https://t.co/L218Krf5iw</td>\n",
       "      <td>.@TheGoldbergsABC are on vacation mode and are heading to #Disneyland! Join us today only for a special sneak peek of the “Vacation” episode in the Main Street Opera House on Main Street, U.S.A. now until 9pm! This is not a road trip you want to miss! (No registration required) https://t.co/L218Krf5iw</td>\n",
       "    </tr>\n",
       "    <tr>\n",
       "      <th>19</th>\n",
       "      <td>Oh, my God! Has your face changed??</td>\n",
       "      <td>That! ! Have you changed your face? ?</td>\n",
       "    </tr>\n",
       "  </tbody>\n",
       "</table>\n",
       "</div>"
      ],
      "text/plain": [
       "                                                                                                                                                                                                                                                                                                        en_ja_word  \\\n",
       "0   RT @tdrblognote: Is this the new Mickey flower bed? If you're going to make an event photo location, it's the World Bazaar side. There is no space on the Mickey side to put the photo location. #TDR_now https://t.co/xYEQmaDLHm He Sia                                                                         \n",
       "1   @OrangeGrove55 Galaxy’s Edge at Walt Disney World isn’t a failure, but like Disneyland it’s underperforming. But how can it not when they set it up to fail by not opening Rise with the land and not having Mickey’s Runaway Railway open. People are holding back. How many? Who knows?                        \n",
       "2   RT @hp_yec: I thought it was different from yesterday, but Mickey flower bed was back! Come home! #TDR_now https://t.co/KUib5PtJlT\\n\\n\\n                                                                                                                                                                         \n",
       "3   RT @gourmetdyy: New #Halloween themed cups! #ShanghaiDisneyland  #SHDL #上海ディズニーランド #Disney #Disneypark #Disneyland  #Duffy https://t.co/2fa…                                                                                                                                                                     \n",
       "4   Why would Disney need to promote #StarWars: #GalaxysEdge so much if everything is hunky-dory?                                                                                                                                                                                                                    \n",
       "5   RT @MezzoMikiD: Mickey flower bed renewed \\nfrom Tokyo Disneyland today has appeared https://t.co/6tEyanANLs\\nhttps://t.co/SxFWw679bW                                                                                                                                                                            \n",
       "6   You could win a vacation for four to a galaxy far, far away. Enter now: https://t.co/lTGaULfzkH @SouthwestAir @WaltDisneyWorld @Disneyland #StarWars #Sweepstakes #NoPurchaseNecessary                                                                                                                           \n",
       "7   RT @_erikagirl00: a bitch just wants to go to Disneyland..                                                                                                                                                                                                                                                       \n",
       "8   RT @EricMMrozek: Why would Disney need to promote #StarWars: #GalaxysEdge so much if everything is hunky-dory? https://t.co/WSTNWb85Za                                                                                                                                                                           \n",
       "9   To Popcorn Bucket or not to Popcorn Bucket? That is the question...The answer is always to Popcorn Bucket!🎃😈#halloweentime #disneyland https://t.co/mq9rzy72qT                                                                                                                                                   \n",
       "10  RT @kelseyr1101: My diet consists of Starbucks and Disneyland Churros                                                                                                                                                                                                                                            \n",
       "11  New #Halloween popcorn bucket~\\n#ShanghaiDisneyland  #SHDL #上海ディズニーランド #Disney #Disneypark #Disneyland    #Duffy #stellalou #shelliemay #Gelatoni https://t.co/8SFtdzGLBl                                                                                                                                        \n",
       "12  Late night sugar rush with my princess!! \\n\\n#trending #trend #makeup #instamakeup #instashopping #wakeuptomakeup #makeupqueen #younique #bossbabe #momlife #momtrepreneur #disney #disneyland #disneymom… https://t.co/FQ64lj9dTB                                                                               \n",
       "13  Passport checks at St Pancras after getting off the train from Paris tonight.  First time I’ve seen this.  A lot of ashen faces, including mine, seeing the reality kick in.  Long queues.  Young tired children wanting to get home after a trip to Disneyland.  Welcome to Brexitland.                         \n",
       "14  i want to go to disneyland                                                                                                                                                                                                                                                                                       \n",
       "15  Disney’s Grand Californian Hotel &amp; Spa at the @Disneyland Resort is introducing its all-new upscale experience – Tenaya Stone Spa – opening in spring 2020! https://t.co/0MO7J9YhiY https://t.co/gU4QmTBkXk                                                                                                  \n",
       "16  RT @fairejk: im ready to have my heart broken https://t.co/gZSwM3uM6Z                                                                                                                                                                                                                                            \n",
       "17  RT @aochann_disney': Mickey Flower Bed is back! https://t.co/7EhG9Y98fB #TDR_now                                                                                                                                                                                                                                 \n",
       "18  .@TheGoldbergsABC are on vacation mode and are heading to #Disneyland! Join us today only for a special sneak peek of the “Vacation” episode in the Main Street Opera House on Main Street, U.S.A. now until 9pm! This is not a road trip you want to miss! (No registration required) https://t.co/L218Krf5iw   \n",
       "19  Oh, my God! Has your face changed??                                                                                                                                                                                                                                                                              \n",
       "\n",
       "                                                                                                                                                                                                                                                                                                        en_ja_goog  \n",
       "0   RT @tdrblognote: This is the new Mickey flower beds Is - is a separate type. If you are making event photo locations, are you on the World Bazaar side? There is no space for photo location on Mickey side. #TDR_now https://t.co/xYEQmaDLHm                                                                   \n",
       "1   @OrangeGrove55 Galaxy’s Edge at Walt Disney World isn’t a failure, but like Disneyland it’s underperforming. But how can it not when they set it up to fail by not opening Rise with the land and not having Mickey’s Runaway Railway open. People are holding back. How many? Who knows?                       \n",
       "2   RT @hp_yec: When I thought something was different from yesterday, I \\nwas back at Mickey Flowerbed! \\nwelcome home! \\n\\n#TDR_now https://t.co/KUib5PtJlT                                                                                                                                                       \n",
       "3   RT @gourmetdyy: New #Halloween themed cups! #ShanghaiDisneyland  #SHDL #上海ディズニーランド #Disney #Disneypark #Disneyland  #Duffy https://t.co/2fa…                                                                                                                                                                    \n",
       "4   Why would Disney need to promote #StarWars: #GalaxysEdge so much if everything is hunky-dory?                                                                                                                                                                                                                   \n",
       "5   RT @MezzoMikiD: Tokyo Disneyland \\nMickey flowerbed renewed from today has appeared ☆ \\nhttps://t.co/6tEyanANLs https://t.co/SxFWw679bW                                                                                                                                                                         \n",
       "6   You could win a vacation for four to a galaxy far, far away. Enter now: https://t.co/lTGaULfzkH @SouthwestAir @WaltDisneyWorld @Disneyland #StarWars #Sweepstakes #NoPurchaseNecessary                                                                                                                          \n",
       "7   RT @_erikagirl00: a bitch just wants to go to Disneyland..                                                                                                                                                                                                                                                      \n",
       "8   RT @EricMMrozek: Why would Disney need to promote #StarWars: #GalaxysEdge so much if everything is hunky-dory? https://t.co/WSTNWb85Za                                                                                                                                                                          \n",
       "9   To Popcorn Bucket or not to Popcorn Bucket? That is the question...The answer is always to Popcorn Bucket!🎃😈#halloweentime #disneyland https://t.co/mq9rzy72qT                                                                                                                                                  \n",
       "10  RT @kelseyr1101: My diet consists of Starbucks and Disneyland Churros                                                                                                                                                                                                                                           \n",
       "11  New #Halloween popcorn bucket~\\n#ShanghaiDisneyland  #SHDL #上海ディズニーランド #Disney #Disneypark #Disneyland    #Duffy #stellalou #shelliemay #Gelatoni https://t.co/8SFtdzGLBl                                                                                                                                       \n",
       "12  Late night sugar rush with my princess!! \\n\\n#trending #trend #makeup #instamakeup #instashopping #wakeuptomakeup #makeupqueen #younique #bossbabe #momlife #momtrepreneur #disney #disneyland #disneymom… https://t.co/FQ64lj9dTB                                                                              \n",
       "13  Passport checks at St Pancras after getting off the train from Paris tonight.  First time I’ve seen this.  A lot of ashen faces, including mine, seeing the reality kick in.  Long queues.  Young tired children wanting to get home after a trip to Disneyland.  Welcome to Brexitland.                        \n",
       "14  i want to go to disneyland                                                                                                                                                                                                                                                                                      \n",
       "15  Disney’s Grand Californian Hotel &amp; Spa at the @Disneyland Resort is introducing its all-new upscale experience – Tenaya Stone Spa – opening in spring 2020! https://t.co/0MO7J9YhiY https://t.co/gU4QmTBkXk                                                                                                 \n",
       "16  RT @fairejk: im ready to have my heart broken https://t.co/gZSwM3uM6Z                                                                                                                                                                                                                                           \n",
       "17  RT @aochann_disney: Mickey Flowerbed is back! \\n#TDR_now https://t.co/7EhG9Y98fB                                                                                                                                                                                                                                \n",
       "18  .@TheGoldbergsABC are on vacation mode and are heading to #Disneyland! Join us today only for a special sneak peek of the “Vacation” episode in the Main Street Opera House on Main Street, U.S.A. now until 9pm! This is not a road trip you want to miss! (No registration required) https://t.co/L218Krf5iw  \n",
       "19  That! ! Have you changed your face? ?                                                                                                                                                                                                                                                                           "
      ]
     },
     "execution_count": 28,
     "metadata": {},
     "output_type": "execute_result"
    }
   ],
   "source": [
    "#Translation is about the same so we will stick with our word translation \n",
    "df3[['en_ja_word','en_ja_goog']].head(20)"
   ]
  },
  {
   "cell_type": "code",
   "execution_count": 29,
   "metadata": {},
   "outputs": [],
   "source": [
    "stopwords = nltk.corpus.stopwords.words('english')\n",
    "wn = nltk.WordNetLemmatizer()\n",
    "punc = lambda x: re.sub(\"!|,|\\?|\\'|-|\\\"|&|。|\\)|\\(|！|，|\\.*|/|\\[|\\]|\\u2026|\\d|:|~|、|？|☆|’|– |【|】|「|」|《|》|※| “|”|＊|→||[\\b\\.\\b]{3}||@||@ |#|# |\", '',x)\n",
    "\n",
    "#Clean\n",
    "def clean_text(soup):\n",
    "    soup = BeautifulSoup(soup, 'lxml')\n",
    "    souped = soup.get_text()\n",
    "    stripped = re.sub(r'https?://[A-Za-z0-9./]+', '', souped)\n",
    "    words = stripped.split() \n",
    "    mention = [word for word in words if not word.startswith('@')]\n",
    "    RT = [word for word in mention if not word.startswith('RT')]\n",
    "    text = \" \".join([wn.lemmatize(word) for word in RT if word not in stopwords])\n",
    "    punct = \"\".join([word.lower() for word in text if word not in string.punctuation])\n",
    "    short_words = ' '.join([w for w in punct.split() if len(w)>2])\n",
    "    ja_punct = ''.join([punc(word) for word in short_words])\n",
    "    tokens = re.split('\\W+', ja_punct)\n",
    "    return (\" \".join(tokens)).strip()"
   ]
  },
  {
   "cell_type": "code",
   "execution_count": 30,
   "metadata": {},
   "outputs": [
    {
     "name": "stderr",
     "output_type": "stream",
     "text": [
      "/Users/justin/anaconda3/lib/python3.7/site-packages/bs4/__init__.py:335: UserWarning: \"https://t.co/wk51gpaVdJ\" looks like a URL. Beautiful Soup is not an HTTP client. You should probably use an HTTP client like requests to get the document behind the URL, and feed that document to Beautiful Soup.\n",
      "  ' that document to Beautiful Soup.' % decoded_markup\n",
      "/Users/justin/anaconda3/lib/python3.7/site-packages/bs4/__init__.py:335: UserWarning: \"https://t.co/iEwFr5J96y\n",
      "\n",
      "Whoops!\" looks like a URL. Beautiful Soup is not an HTTP client. You should probably use an HTTP client like requests to get the document behind the URL, and feed that document to Beautiful Soup.\n",
      "  ' that document to Beautiful Soup.' % decoded_markup\n"
     ]
    }
   ],
   "source": [
    "df3['clean_text'] = df3['en_ja_word'].apply(clean_text)"
   ]
  },
  {
   "cell_type": "code",
   "execution_count": 31,
   "metadata": {},
   "outputs": [
    {
     "data": {
      "text/plain": [
       "0     new mickey flower bed going make event photo location world bazaar side there space mickey side put photo location tdrnow sia                                                                                      \n",
       "1     galaxys edge walt disney world isnt failure like disneyland its underperforming but set fail opening rise land mickeys runaway railway open people holding back how many who knows                                 \n",
       "2     thought different yesterday mickey flower bed back come home tdrnow                                                                                                                                                \n",
       "3     new halloween themed cups shanghaidisneyland shdl 上海ディズニーランド disney disneypark disneyland duffy                                                                                                                    \n",
       "4     why would disney need promote starwars galaxysedge much everything hunkydory                                                                                                                                       \n",
       "5     mickey flower bed renewed tokyo disneyland today appeared                                                                                                                                                          \n",
       "6     you could win vacation four galaxy far far away enter now starwars sweepstakes nopurchasenecessary                                                                                                                 \n",
       "7     bitch want disneyland                                                                                                                                                                                              \n",
       "8     why would disney need promote starwars galaxysedge much everything hunkydory                                                                                                                                       \n",
       "9     popcorn bucket popcorn bucket that questionthe answer always popcorn bucket halloweentime disneyland                                                                                                               \n",
       "10    diet consists starbucks disneyland churros                                                                                                                                                                         \n",
       "11    new halloween popcorn bucket shanghaidisneyland shdl 上海ディズニーランド disney disneypark disneyland duffy stellalou shelliemay gelatoni                                                                                   \n",
       "12    late night sugar rush princess trending trend makeup instamakeup instashopping wakeuptomakeup makeupqueen younique bossbabe momlife momtrepreneur disney disneyland disneymom                                      \n",
       "13    passport check pancras getting train paris tonight first time ive seen this lot ashen faces including mine seeing reality kick long queues young tired child wanting get home trip disneyland welcome brexitland   \n",
       "14    want disneyland                                                                                                                                                                                                    \n",
       "15    disneys grand californian hotel spa resort introducing allnew upscale experience tenaya stone spa opening spring                                                                                                   \n",
       "16    ready heart broken                                                                                                                                                                                                 \n",
       "17    mickey flower bed back tdrnow                                                                                                                                                                                      \n",
       "18    thegoldbergsabc vacation mode heading disneyland join today special sneak peek vacation episode main street opera house main street usa pm this road trip want miss registration required                          \n",
       "19    god has face changed                                                                                                                                                                                               \n",
       "20    since asked this id tomorrowland space mtn horizons wall dark ride rerouted monorail thru land reworked tron electronica end line bar people mover hyperionlite theater astro orbitor remember xk                  \n",
       "21    need disneyland                                                                                                                                                                                                    \n",
       "22    ohhh already feel heart shattering                                                                                                                                                                                 \n",
       "23    encounter information tokyo disneyland hihi jets yusuke takahashi dribo please best rest performance and tell you thank you responded smile seems friend man together                                              \n",
       "24    having deep conversation disneyland best                                                                                                                                                                           \n",
       "25    isnt mickey statue back castle tdrnow                                                                                                                                                                              \n",
       "26    want                                                                                                                                                                                                               \n",
       "27    you want miss the main street electrical parade almost gone last day season september only disneyland resort                                                                                                       \n",
       "28    halloween good common cushion discontinued tdrnow tdrmd                                                                                                                                                            \n",
       "29    want arrive for grandfather love take picture guest dressed costume person took commemorative photo grandfather inseptember hear halloween time every year lot people talked gathered around grandfather know ディズニー\n",
       "Name: clean_text, dtype: object"
      ]
     },
     "execution_count": 31,
     "metadata": {},
     "output_type": "execute_result"
    }
   ],
   "source": [
    "df3['clean_text'][0:30]"
   ]
  },
  {
   "cell_type": "code",
   "execution_count": 32,
   "metadata": {},
   "outputs": [],
   "source": [
    "#Add in our R sentiment for range of emotion\n",
    "r_sent_word = pd.read_csv('r_sent_word.csv', index_col = 0)\n",
    "r_sent_word = r_sent_word.reset_index(drop = True)"
   ]
  },
  {
   "cell_type": "code",
   "execution_count": 33,
   "metadata": {},
   "outputs": [],
   "source": [
    "r_sent_word_counts = pd.DataFrame(r_sent_word.astype(bool).sum().reset_index())\n",
    "r_sent_word_counts = r_sent_word_counts.rename(columns = {'index':'sentiment',0:'count'})"
   ]
  },
  {
   "cell_type": "code",
   "execution_count": 34,
   "metadata": {},
   "outputs": [
    {
     "data": {
      "text/html": [
       "\n",
       "\n",
       "\n",
       "\n",
       "\n",
       "\n",
       "  <div class=\"bk-root\" id=\"ea869113-296d-4526-9cf2-7ee1e0c7ad34\" data-root-id=\"1045\"></div>\n"
      ]
     },
     "metadata": {},
     "output_type": "display_data"
    },
    {
     "data": {
      "application/javascript": [
       "(function(root) {\n",
       "  function embed_document(root) {\n",
       "    \n",
       "  var docs_json = {\"8f58d162-6138-433e-b0b5-3bea37b0b071\":{\"roots\":{\"references\":[{\"attributes\":{\"children\":[{\"id\":\"1003\",\"subtype\":\"Figure\",\"type\":\"Plot\"},{\"id\":\"1043\",\"type\":\"DataTable\"}]},\"id\":\"1045\",\"type\":\"Row\"},{\"attributes\":{},\"id\":\"1051\",\"type\":\"Selection\"},{\"attributes\":{\"callback\":null,\"tooltips\":[[\"sentiment\",\"@sentiment\"],[\"Total Count\",\"@count\"]]},\"id\":\"1038\",\"type\":\"HoverTool\"},{\"attributes\":{},\"id\":\"1019\",\"type\":\"BasicTicker\"},{\"attributes\":{\"columns\":[{\"id\":\"1041\",\"type\":\"TableColumn\"},{\"id\":\"1042\",\"type\":\"TableColumn\"}],\"height\":700,\"source\":{\"id\":\"1040\",\"type\":\"ColumnDataSource\"},\"view\":{\"id\":\"1044\",\"type\":\"CDSView\"},\"width\":700},\"id\":\"1043\",\"type\":\"DataTable\"},{\"attributes\":{},\"id\":\"1047\",\"type\":\"CategoricalTickFormatter\"},{\"attributes\":{},\"id\":\"1056\",\"type\":\"StringFormatter\"},{\"attributes\":{\"align\":\"center\",\"text\":\"R Sentiment Count\",\"text_font_size\":{\"value\":\"20pt\"}},\"id\":\"1004\",\"type\":\"Title\"},{\"attributes\":{},\"id\":\"1010\",\"type\":\"CategoricalScale\"},{\"attributes\":{\"source\":{\"id\":\"1040\",\"type\":\"ColumnDataSource\"}},\"id\":\"1044\",\"type\":\"CDSView\"},{\"attributes\":{\"overlay\":{\"id\":\"1059\",\"type\":\"BoxAnnotation\"}},\"id\":\"1025\",\"type\":\"BoxZoomTool\"},{\"attributes\":{},\"id\":\"1052\",\"type\":\"UnionRenderers\"},{\"attributes\":{\"grid_line_color\":null,\"ticker\":{\"id\":\"1015\",\"type\":\"CategoricalTicker\"}},\"id\":\"1017\",\"type\":\"Grid\"},{\"attributes\":{},\"id\":\"1012\",\"type\":\"LinearScale\"},{\"attributes\":{},\"id\":\"1055\",\"type\":\"StringEditor\"},{\"attributes\":{\"below\":[{\"id\":\"1014\",\"type\":\"CategoricalAxis\"}],\"center\":[{\"id\":\"1017\",\"type\":\"Grid\"},{\"id\":\"1022\",\"type\":\"Grid\"}],\"left\":[{\"id\":\"1018\",\"type\":\"LinearAxis\"}],\"plot_height\":700,\"plot_width\":700,\"renderers\":[{\"id\":\"1035\",\"type\":\"GlyphRenderer\"}],\"title\":{\"id\":\"1004\",\"type\":\"Title\"},\"toolbar\":{\"id\":\"1027\",\"type\":\"Toolbar\"},\"toolbar_location\":\"below\",\"x_range\":{\"id\":\"1006\",\"type\":\"FactorRange\"},\"x_scale\":{\"id\":\"1010\",\"type\":\"CategoricalScale\"},\"y_range\":{\"id\":\"1008\",\"type\":\"Range1d\"},\"y_scale\":{\"id\":\"1012\",\"type\":\"LinearScale\"}},\"id\":\"1003\",\"subtype\":\"Figure\",\"type\":\"Plot\"},{\"attributes\":{\"use_scientific\":false},\"id\":\"1037\",\"type\":\"BasicTickFormatter\"},{\"attributes\":{\"callback\":null,\"factors\":[\"anger\",\"anticipation\",\"disgust\",\"fear\",\"joy\",\"sadness\",\"surprise\",\"trust\",\"negative\",\"positive\"]},\"id\":\"1006\",\"type\":\"FactorRange\"},{\"attributes\":{\"data_source\":{\"id\":\"1002\",\"type\":\"ColumnDataSource\"},\"glyph\":{\"id\":\"1033\",\"type\":\"VBar\"},\"hover_glyph\":null,\"muted_glyph\":null,\"nonselection_glyph\":{\"id\":\"1034\",\"type\":\"VBar\"},\"selection_glyph\":null,\"view\":{\"id\":\"1036\",\"type\":\"CDSView\"}},\"id\":\"1035\",\"type\":\"GlyphRenderer\"},{\"attributes\":{\"callback\":null,\"end\":50000},\"id\":\"1008\",\"type\":\"Range1d\"},{\"attributes\":{\"editor\":{\"id\":\"1053\",\"type\":\"StringEditor\"},\"field\":\"sentiment\",\"formatter\":{\"id\":\"1054\",\"type\":\"StringFormatter\"},\"title\":\"Sentiment\"},\"id\":\"1041\",\"type\":\"TableColumn\"},{\"attributes\":{\"dimension\":1,\"ticker\":{\"id\":\"1019\",\"type\":\"BasicTicker\"}},\"id\":\"1022\",\"type\":\"Grid\"},{\"attributes\":{\"editor\":{\"id\":\"1055\",\"type\":\"StringEditor\"},\"field\":\"count\",\"formatter\":{\"id\":\"1056\",\"type\":\"StringFormatter\"},\"title\":\"Count\"},\"id\":\"1042\",\"type\":\"TableColumn\"},{\"attributes\":{\"active_drag\":\"auto\",\"active_inspect\":\"auto\",\"active_multi\":null,\"active_scroll\":\"auto\",\"active_tap\":\"auto\",\"tools\":[{\"id\":\"1023\",\"type\":\"PanTool\"},{\"id\":\"1024\",\"type\":\"WheelZoomTool\"},{\"id\":\"1025\",\"type\":\"BoxZoomTool\"},{\"id\":\"1026\",\"type\":\"ResetTool\"},{\"id\":\"1038\",\"type\":\"HoverTool\"}]},\"id\":\"1027\",\"type\":\"Toolbar\"},{\"attributes\":{},\"id\":\"1024\",\"type\":\"WheelZoomTool\"},{\"attributes\":{\"callback\":null,\"data\":{\"count\":[13331,33016,10719,16645,28734,15442,18106,25758,26603,42646],\"index\":[0,1,2,3,4,5,6,7,8,9],\"sentiment\":[\"anger\",\"anticipation\",\"disgust\",\"fear\",\"joy\",\"sadness\",\"surprise\",\"trust\",\"negative\",\"positive\"]},\"selected\":{\"id\":\"1051\",\"type\":\"Selection\"},\"selection_policy\":{\"id\":\"1052\",\"type\":\"UnionRenderers\"}},\"id\":\"1040\",\"type\":\"ColumnDataSource\"},{\"attributes\":{\"source\":{\"id\":\"1002\",\"type\":\"ColumnDataSource\"}},\"id\":\"1036\",\"type\":\"CDSView\"},{\"attributes\":{},\"id\":\"1053\",\"type\":\"StringEditor\"},{\"attributes\":{\"axis_label\":\"Sentiment\",\"axis_label_text_color\":{\"value\":\"black\"},\"axis_label_text_font_size\":{\"value\":\"15pt\"},\"formatter\":{\"id\":\"1047\",\"type\":\"CategoricalTickFormatter\"},\"major_label_orientation\":\"vertical\",\"major_label_text_font_size\":{\"value\":\"15pt\"},\"ticker\":{\"id\":\"1015\",\"type\":\"CategoricalTicker\"}},\"id\":\"1014\",\"type\":\"CategoricalAxis\"},{\"attributes\":{},\"id\":\"1023\",\"type\":\"PanTool\"},{\"attributes\":{\"bottom_units\":\"screen\",\"fill_alpha\":{\"value\":0.5},\"fill_color\":{\"value\":\"lightgrey\"},\"left_units\":\"screen\",\"level\":\"overlay\",\"line_alpha\":{\"value\":1.0},\"line_color\":{\"value\":\"black\"},\"line_dash\":[4,4],\"line_width\":{\"value\":2},\"render_mode\":\"css\",\"right_units\":\"screen\",\"top_units\":\"screen\"},\"id\":\"1059\",\"type\":\"BoxAnnotation\"},{\"attributes\":{},\"id\":\"1026\",\"type\":\"ResetTool\"},{\"attributes\":{\"callback\":null,\"data\":{\"count\":[13331,33016,10719,16645,28734,15442,18106,25758,26603,42646],\"sentiment\":[\"anger\",\"anticipation\",\"disgust\",\"fear\",\"joy\",\"sadness\",\"surprise\",\"trust\",\"negative\",\"positive\"]},\"selected\":{\"id\":\"1057\",\"type\":\"Selection\"},\"selection_policy\":{\"id\":\"1058\",\"type\":\"UnionRenderers\"}},\"id\":\"1002\",\"type\":\"ColumnDataSource\"},{\"attributes\":{\"fill_color\":{\"value\":\"red\"},\"line_color\":{\"value\":\"red\"},\"top\":{\"field\":\"count\"},\"width\":{\"value\":0.9},\"x\":{\"field\":\"sentiment\"}},\"id\":\"1033\",\"type\":\"VBar\"},{\"attributes\":{},\"id\":\"1054\",\"type\":\"StringFormatter\"},{\"attributes\":{},\"id\":\"1057\",\"type\":\"Selection\"},{\"attributes\":{\"fill_alpha\":{\"value\":0.1},\"fill_color\":{\"value\":\"#1f77b4\"},\"line_alpha\":{\"value\":0.1},\"line_color\":{\"value\":\"#1f77b4\"},\"top\":{\"field\":\"count\"},\"width\":{\"value\":0.9},\"x\":{\"field\":\"sentiment\"}},\"id\":\"1034\",\"type\":\"VBar\"},{\"attributes\":{},\"id\":\"1015\",\"type\":\"CategoricalTicker\"},{\"attributes\":{},\"id\":\"1058\",\"type\":\"UnionRenderers\"},{\"attributes\":{\"axis_label\":\"Count\",\"axis_label_text_color\":{\"value\":\"black\"},\"axis_label_text_font_size\":{\"value\":\"15pt\"},\"formatter\":{\"id\":\"1037\",\"type\":\"BasicTickFormatter\"},\"major_label_text_font_size\":{\"value\":\"15pt\"},\"ticker\":{\"id\":\"1019\",\"type\":\"BasicTicker\"}},\"id\":\"1018\",\"type\":\"LinearAxis\"}],\"root_ids\":[\"1045\"]},\"title\":\"Bokeh Application\",\"version\":\"1.4.0\"}};\n",
       "  var render_items = [{\"docid\":\"8f58d162-6138-433e-b0b5-3bea37b0b071\",\"roots\":{\"1045\":\"ea869113-296d-4526-9cf2-7ee1e0c7ad34\"}}];\n",
       "  root.Bokeh.embed.embed_items_notebook(docs_json, render_items);\n",
       "\n",
       "  }\n",
       "  if (root.Bokeh !== undefined) {\n",
       "    embed_document(root);\n",
       "  } else {\n",
       "    var attempts = 0;\n",
       "    var timer = setInterval(function(root) {\n",
       "      if (root.Bokeh !== undefined) {\n",
       "        clearInterval(timer);\n",
       "        embed_document(root);\n",
       "      } else {\n",
       "        attempts++;\n",
       "        if (attempts > 100) {\n",
       "          clearInterval(timer);\n",
       "          console.log(\"Bokeh: ERROR: Unable to run BokehJS code because BokehJS library is missing\");\n",
       "        }\n",
       "      }\n",
       "    }, 10, root)\n",
       "  }\n",
       "})(window);"
      ],
      "application/vnd.bokehjs_exec.v0+json": ""
     },
     "metadata": {
      "application/vnd.bokehjs_exec.v0+json": {
       "id": "1045"
      }
     },
     "output_type": "display_data"
    }
   ],
   "source": [
    "#Bokeh Chart \n",
    "sentiment = list(r_sent_word_counts['sentiment'])\n",
    "count = list(r_sent_word_counts['count'])\n",
    "\n",
    "\n",
    "source = ColumnDataSource(data=dict(sentiment=sentiment, count=count))\n",
    "\n",
    "p = figure(x_range=sentiment, y_range=(0,50000),  plot_width=700, plot_height=700, title=\"R Sentiment Count\",\n",
    "           toolbar_location='below', tools=\"pan,wheel_zoom,box_zoom,reset\")\n",
    "\n",
    "\n",
    "p.vbar(x='sentiment', top='count', width=0.9, color = 'red', source=source)\n",
    "p.title.align = 'center'\n",
    "p.xgrid.grid_line_color = None\n",
    "p.xaxis.major_label_orientation = \"vertical\"\n",
    "p.left[0].formatter.use_scientific = False\n",
    "p.add_tools(HoverTool(tooltips=[(\"sentiment\", \"@sentiment\"), (\"Total Count\", \"@count\")]))\n",
    "\n",
    "\n",
    "p.title.text_font_size = '20pt'\n",
    "p.xaxis.axis_label=\"Sentiment\"\n",
    "p.xaxis.axis_label_text_font_size = \"15pt\"\n",
    "p.xaxis.major_label_text_font_size = \"15pt\"\n",
    "p.xaxis.axis_label_text_color = \"black\"\n",
    "p.yaxis.axis_label=\"Count\"\n",
    "p.yaxis.axis_label_text_font_size = \"15pt\"\n",
    "p.yaxis.major_label_text_font_size = \"15pt\"\n",
    "p.yaxis.axis_label_text_color = \"black\"\n",
    "\n",
    "\n",
    "tbsource = ColumnDataSource(r_sent_word_counts)\n",
    "\n",
    "columns = [TableColumn(field = 'sentiment', title = 'Sentiment'),\n",
    "          TableColumn(field = 'count', title = 'Count')]\n",
    "data_table = DataTable(source = tbsource, columns = columns, width = 700, height = 700)\n",
    "\n",
    "layout = row(p, data_table)\n",
    "\n",
    "show(layout)"
   ]
  },
  {
   "cell_type": "code",
   "execution_count": 35,
   "metadata": {},
   "outputs": [],
   "source": [
    "df3 = pd.concat([df3,r_sent_word],axis =1 )"
   ]
  },
  {
   "cell_type": "code",
   "execution_count": 36,
   "metadata": {},
   "outputs": [],
   "source": [
    "# load in our R tie breaker sentiment\n",
    "r_sent = pd.read_csv('r_senti_word.csv', index_col=0)\n",
    "r_sent = r_sent.reset_index(drop = True)\n",
    "df3['r_sentiment'] = r_sent"
   ]
  },
  {
   "cell_type": "code",
   "execution_count": 37,
   "metadata": {},
   "outputs": [],
   "source": [
    "from vaderSentiment.vaderSentiment import SentimentIntensityAnalyzer\n",
    "analyser = SentimentIntensityAnalyzer()\n",
    "\n",
    "def sentiment_analyzer_scores(sentence):\n",
    "    score = analyser.polarity_scores(sentence)\n",
    "    if score['compound']>= 0.05:\n",
    "        return 'positive'\n",
    "    elif score['compound'] <= -0.05:\n",
    "        return 'negative'\n",
    "    else:\n",
    "        return 'neutral'"
   ]
  },
  {
   "cell_type": "code",
   "execution_count": 38,
   "metadata": {},
   "outputs": [],
   "source": [
    "vader = lambda x: sentiment_analyzer_scores(x)\n",
    "df3['vader_score_word'] = [vader(x) for x in df3['clean_text']]"
   ]
  },
  {
   "cell_type": "code",
   "execution_count": 39,
   "metadata": {},
   "outputs": [],
   "source": [
    "from textblob import TextBlob\n",
    "\n",
    "def get_tweet_sentiment(tweet):\n",
    "    # create TextBlob object of passed tweet text\n",
    "    analysis = TextBlob(tweet)\n",
    "    # set sentiment\n",
    "    if analysis.sentiment.polarity > 0:\n",
    "        return 'positive'\n",
    "    elif analysis.sentiment.polarity == 0:\n",
    "        return 'neutral'\n",
    "    else:\n",
    "        return 'negative'"
   ]
  },
  {
   "cell_type": "code",
   "execution_count": 40,
   "metadata": {},
   "outputs": [],
   "source": [
    "df3['tb_word'] = df3['clean_text'].apply(lambda tweet: get_tweet_sentiment(tweet))"
   ]
  },
  {
   "cell_type": "code",
   "execution_count": 41,
   "metadata": {},
   "outputs": [],
   "source": [
    "#Creating the tie breaker between textblob,vader and r_sentiment\n",
    "\n",
    "test = np.where((df3['vader_score_word'] == df3['tb_word']), df3['vader_score_word'], 'not sure')\n",
    "test2 = np.where((df3['tb_word'] == df3['r_sentiment']), df3['tb_word'], 'not sure')\n",
    "test3 = np.where((df3['vader_score_word'] == df3['r_sentiment']), df3['vader_score_word'], 'not sure')\n",
    "\n",
    "\n",
    "test = pd.DataFrame(test)\n",
    "test.rename(columns = {0:'vaderVstb'}, inplace = True)\n",
    "test['tbVsr'] = test2\n",
    "test['vaderVsr'] = test3\n",
    "\n",
    "\n",
    "t2 = np.where(test['vaderVstb'] == 'not sure', test['tbVsr'], test['vaderVstb'])\n",
    "t2 = pd.DataFrame(t2)\n",
    "t2.rename(columns = {0:'compare1'}, inplace = True)\n",
    "t2['compare2'] = np.where(t2['compare1'] == 'not sure', test['vaderVsr'], t2['compare1'])\n",
    "\n",
    "#Remaining 5510 rows still not sure.  Since vader analyzes emoticons better we will use vader as the final tie breaker\n",
    "t2['compare3'] = np.where(t2['compare2'] == 'not sure', df3['vader_score_word'], t2['compare2'])\n",
    "df3.loc[:,'label'] = t2.loc[:,'compare3']"
   ]
  },
  {
   "cell_type": "code",
   "execution_count": 42,
   "metadata": {},
   "outputs": [],
   "source": [
    "#Feature Creation \n",
    "def count_punct(text):\n",
    "    count = sum([1 for char in text if char in string.punctuation])\n",
    "    return count"
   ]
  },
  {
   "cell_type": "code",
   "execution_count": 43,
   "metadata": {},
   "outputs": [],
   "source": [
    "df3['punc_count'] = df3['original_text'].apply(lambda tweet: count_punct(tweet))\n",
    "#counting length of tweet\n",
    "df3['tweet_len'] = df3['en_ja_word'].apply(lambda tweet: len(tweet) - tweet.count(' '))"
   ]
  },
  {
   "cell_type": "code",
   "execution_count": 44,
   "metadata": {},
   "outputs": [
    {
     "data": {
      "text/plain": [
       "count   87,510.000\n",
       "mean    103.565   \n",
       "std     63.420    \n",
       "min     0.000     \n",
       "25%     56.000    \n",
       "50%     92.000    \n",
       "75%     130.000   \n",
       "max     873.000   \n",
       "Name: tweet_len, dtype: float64"
      ]
     },
     "execution_count": 44,
     "metadata": {},
     "output_type": "execute_result"
    }
   ],
   "source": [
    "df3['tweet_len'].describe()"
   ]
  },
  {
   "cell_type": "code",
   "execution_count": 45,
   "metadata": {},
   "outputs": [],
   "source": [
    "#number of capitlizatized words\n",
    "def count_cap(text):\n",
    "    count = sum([1 for c in text if c.isupper()])\n",
    "    return count"
   ]
  },
  {
   "cell_type": "code",
   "execution_count": 46,
   "metadata": {},
   "outputs": [],
   "source": [
    "df3['cap_count'] = df3['en_ja_word'].apply(count_cap)"
   ]
  },
  {
   "cell_type": "code",
   "execution_count": 47,
   "metadata": {},
   "outputs": [
    {
     "name": "stderr",
     "output_type": "stream",
     "text": [
      "/Users/justin/anaconda3/lib/python3.7/site-packages/matplotlib/axes/_axes.py:6521: MatplotlibDeprecationWarning: \n",
      "The 'normed' kwarg was deprecated in Matplotlib 2.1 and will be removed in 3.1. Use 'density' instead.\n",
      "  alternative=\"'density'\", removal=\"3.1\")\n"
     ]
    },
    {
     "data": {
      "image/png": "[encoded data removed]",
      "text/plain": [
       "<Figure size 432x288 with 1 Axes>"
      ]
     },
     "metadata": {
      "needs_background": "light"
     },
     "output_type": "display_data"
    }
   ],
   "source": [
    "#feature evaluation\n",
    "#tweet length\n",
    "bins = np.linspace(0,200,25)\n",
    "plt.hist(df3[df3['label']=='positive']['tweet_len'], bins, alpha =0.5,normed = True, label ='positive')\n",
    "plt.hist(df3[df3['label']=='negative']['tweet_len'], bins, alpha =0.5,normed = True, label ='negative')\n",
    "plt.hist(df3[df3['label']=='neutral']['tweet_len'], bins, alpha =0.5,normed = True, label ='neutral')\n",
    "plt.legend(loc='upper left')\n",
    "plt.show()\n",
    "\n"
   ]
  },
  {
   "cell_type": "code",
   "execution_count": 48,
   "metadata": {},
   "outputs": [
    {
     "data": {
      "image/png": "[encoded data removed]",
      "text/plain": [
       "<Figure size 432x288 with 1 Axes>"
      ]
     },
     "metadata": {
      "needs_background": "light"
     },
     "output_type": "display_data"
    }
   ],
   "source": [
    "#punctuation count\n",
    "bins = np.linspace(0,30,15)\n",
    "plt.hist(df3[df3['label']=='positive']['punc_count'], bins, alpha =0.5,normed = True, label ='positive')\n",
    "plt.hist(df3[df3['label']=='negative']['punc_count'], bins, alpha =0.5,normed = True, label ='negative')\n",
    "plt.hist(df3[df3['label']=='neutral']['punc_count'], bins, alpha =0.5,normed = True, label ='neutral')\n",
    "plt.legend(loc='upper left')\n",
    "plt.show()"
   ]
  },
  {
   "cell_type": "code",
   "execution_count": 49,
   "metadata": {},
   "outputs": [
    {
     "data": {
      "image/png": "[encoded data removed]",
      "text/plain": [
       "<Figure size 432x288 with 1 Axes>"
      ]
     },
     "metadata": {
      "needs_background": "light"
     },
     "output_type": "display_data"
    }
   ],
   "source": [
    "#number of hashtags in a tweet \n",
    "bins = np.linspace(0,10,5)\n",
    "plt.hist(df3[df3['label']=='positive']['hash_count'], bins, alpha =0.5,normed = True, label ='positive')\n",
    "plt.hist(df3[df3['label']=='negative']['hash_count'], bins, alpha =0.5,normed = True, label ='negative')\n",
    "plt.hist(df3[df3['label']=='neutral']['hash_count'], bins, alpha =0.5,normed = True, label ='neutral')\n",
    "plt.legend(loc='upper left')\n",
    "plt.show()"
   ]
  },
  {
   "cell_type": "code",
   "execution_count": 50,
   "metadata": {},
   "outputs": [
    {
     "data": {
      "text/plain": [
       "Index(['user_screen_name', 'user_favorite', 'user_follower', 'retweet',\n",
       "       'retweet_count', 'retweet_fav_count', 'original_text', 'language',\n",
       "       'created', 'retweet_created', 'source', 'retweet_source', 'location',\n",
       "       'retweetID', 'en_ja_word', 'en_ja_goog', 'tweet_link', 'hashtag',\n",
       "       'hash_count', 'mention', 'mention_count', 'emoji', 'emoji_count',\n",
       "       'clean_text', 'anger', 'anticipation', 'disgust', 'fear', 'joy',\n",
       "       'sadness', 'surprise', 'trust', 'negative', 'positive', 'r_sentiment',\n",
       "       'vader_score_word', 'tb_word', 'label', 'punc_count', 'tweet_len',\n",
       "       'cap_count'],\n",
       "      dtype='object')"
      ]
     },
     "execution_count": 50,
     "metadata": {},
     "output_type": "execute_result"
    }
   ],
   "source": [
    "df3.columns"
   ]
  },
  {
   "cell_type": "code",
   "execution_count": 51,
   "metadata": {},
   "outputs": [
    {
     "data": {
      "image/png": "[encoded data removed]",
      "text/plain": [
       "<Figure size 432x288 with 1 Axes>"
      ]
     },
     "metadata": {
      "needs_background": "light"
     },
     "output_type": "display_data"
    }
   ],
   "source": [
    "bins = np.linspace(0,50,25)\n",
    "plt.hist(df3[df3['label']=='positive']['cap_count'], bins, alpha =0.5,normed = True, label ='positive')\n",
    "plt.hist(df3[df3['label']=='negative']['cap_count'], bins, alpha =0.5,normed = True, label ='negative')\n",
    "plt.hist(df3[df3['label']=='neutral']['cap_count'], bins, alpha =0.5,normed = True, label ='neutral')\n",
    "plt.legend(loc='upper left')\n",
    "plt.show()"
   ]
  },
  {
   "cell_type": "code",
   "execution_count": 52,
   "metadata": {},
   "outputs": [
    {
     "data": {
      "image/png": "[encoded data removed]",
      "text/plain": [
       "<Figure size 432x288 with 1 Axes>"
      ]
     },
     "metadata": {
      "needs_background": "light"
     },
     "output_type": "display_data"
    }
   ],
   "source": [
    "bins = np.linspace(0,1000,100)\n",
    "plt.hist(df3[df3['label']=='positive']['user_favorite'], bins, alpha =0.5,normed = True, label ='positive')\n",
    "plt.hist(df3[df3['label']=='negative']['user_favorite'], bins, alpha =0.5,normed = True, label ='negative')\n",
    "plt.hist(df3[df3['label']=='neutral']['user_favorite'], bins, alpha =0.5,normed = True, label ='neutral')\n",
    "plt.legend(loc='upper left')\n",
    "plt.show()"
   ]
  },
  {
   "cell_type": "code",
   "execution_count": 53,
   "metadata": {},
   "outputs": [
    {
     "data": {
      "image/png": "[encoded data removed]",
      "text/plain": [
       "<Figure size 432x288 with 1 Axes>"
      ]
     },
     "metadata": {
      "needs_background": "light"
     },
     "output_type": "display_data"
    }
   ],
   "source": [
    "bins = np.linspace(0,1000,100)\n",
    "plt.hist(df3[df3['label']=='positive']['user_follower'], bins, alpha =0.5,normed = True, label ='positive')\n",
    "plt.hist(df3[df3['label']=='negative']['user_follower'], bins, alpha =0.5,normed = True, label ='negative')\n",
    "plt.hist(df3[df3['label']=='neutral']['user_follower'], bins, alpha =0.5,normed = True, label ='neutral')\n",
    "plt.legend(loc='upper left')\n",
    "plt.show()\n"
   ]
  },
  {
   "cell_type": "code",
   "execution_count": 58,
   "metadata": {},
   "outputs": [],
   "source": [
    "heatmap = df3[['user_favorite', 'user_follower', 'anger', 'hash_count', 'mention_count', 'anticipation', 'disgust', 'fear',\n",
    "              'joy', 'sadness', 'surprise', 'trust', 'positive', 'negative', 'punc_count', 'tweet_len', 'cap_count']]\n",
    "corr = heatmap.corr()"
   ]
  },
  {
   "cell_type": "code",
   "execution_count": 59,
   "metadata": {},
   "outputs": [
    {
     "data": {
      "text/html": [
       "<style  type=\"text/css\" >\n",
       "    #T_d9e10426_3841_11ea_9dda_acde48001122row0_col0 {\n",
       "            background-color:  #b40426;\n",
       "            color:  #f1f1f1;\n",
       "        }    #T_d9e10426_3841_11ea_9dda_acde48001122row0_col1 {\n",
       "            background-color:  #3c4ec2;\n",
       "            color:  #f1f1f1;\n",
       "        }    #T_d9e10426_3841_11ea_9dda_acde48001122row0_col2 {\n",
       "            background-color:  #445acc;\n",
       "            color:  #f1f1f1;\n",
       "        }    #T_d9e10426_3841_11ea_9dda_acde48001122row0_col3 {\n",
       "            background-color:  #4257c9;\n",
       "            color:  #f1f1f1;\n",
       "        }    #T_d9e10426_3841_11ea_9dda_acde48001122row0_col4 {\n",
       "            background-color:  #5572df;\n",
       "            color:  #000000;\n",
       "        }    #T_d9e10426_3841_11ea_9dda_acde48001122row0_col5 {\n",
       "            background-color:  #3b4cc0;\n",
       "            color:  #f1f1f1;\n",
       "        }    #T_d9e10426_3841_11ea_9dda_acde48001122row0_col6 {\n",
       "            background-color:  #465ecf;\n",
       "            color:  #f1f1f1;\n",
       "        }    #T_d9e10426_3841_11ea_9dda_acde48001122row0_col7 {\n",
       "            background-color:  #3c4ec2;\n",
       "            color:  #f1f1f1;\n",
       "        }    #T_d9e10426_3841_11ea_9dda_acde48001122row0_col8 {\n",
       "            background-color:  #3b4cc0;\n",
       "            color:  #f1f1f1;\n",
       "        }    #T_d9e10426_3841_11ea_9dda_acde48001122row0_col9 {\n",
       "            background-color:  #3c4ec2;\n",
       "            color:  #f1f1f1;\n",
       "        }    #T_d9e10426_3841_11ea_9dda_acde48001122row0_col10 {\n",
       "            background-color:  #3b4cc0;\n",
       "            color:  #f1f1f1;\n",
       "        }    #T_d9e10426_3841_11ea_9dda_acde48001122row0_col11 {\n",
       "            background-color:  #3b4cc0;\n",
       "            color:  #f1f1f1;\n",
       "        }    #T_d9e10426_3841_11ea_9dda_acde48001122row0_col12 {\n",
       "            background-color:  #3b4cc0;\n",
       "            color:  #f1f1f1;\n",
       "        }    #T_d9e10426_3841_11ea_9dda_acde48001122row0_col13 {\n",
       "            background-color:  #3e51c5;\n",
       "            color:  #f1f1f1;\n",
       "        }    #T_d9e10426_3841_11ea_9dda_acde48001122row0_col14 {\n",
       "            background-color:  #3f53c6;\n",
       "            color:  #f1f1f1;\n",
       "        }    #T_d9e10426_3841_11ea_9dda_acde48001122row0_col15 {\n",
       "            background-color:  #3b4cc0;\n",
       "            color:  #f1f1f1;\n",
       "        }    #T_d9e10426_3841_11ea_9dda_acde48001122row0_col16 {\n",
       "            background-color:  #4055c8;\n",
       "            color:  #f1f1f1;\n",
       "        }    #T_d9e10426_3841_11ea_9dda_acde48001122row1_col0 {\n",
       "            background-color:  #3e51c5;\n",
       "            color:  #f1f1f1;\n",
       "        }    #T_d9e10426_3841_11ea_9dda_acde48001122row1_col1 {\n",
       "            background-color:  #b40426;\n",
       "            color:  #f1f1f1;\n",
       "        }    #T_d9e10426_3841_11ea_9dda_acde48001122row1_col2 {\n",
       "            background-color:  #4257c9;\n",
       "            color:  #f1f1f1;\n",
       "        }    #T_d9e10426_3841_11ea_9dda_acde48001122row1_col3 {\n",
       "            background-color:  #4358cb;\n",
       "            color:  #f1f1f1;\n",
       "        }    #T_d9e10426_3841_11ea_9dda_acde48001122row1_col4 {\n",
       "            background-color:  #455cce;\n",
       "            color:  #f1f1f1;\n",
       "        }    #T_d9e10426_3841_11ea_9dda_acde48001122row1_col5 {\n",
       "            background-color:  #3f53c6;\n",
       "            color:  #f1f1f1;\n",
       "        }    #T_d9e10426_3841_11ea_9dda_acde48001122row1_col6 {\n",
       "            background-color:  #465ecf;\n",
       "            color:  #f1f1f1;\n",
       "        }    #T_d9e10426_3841_11ea_9dda_acde48001122row1_col7 {\n",
       "            background-color:  #3c4ec2;\n",
       "            color:  #f1f1f1;\n",
       "        }    #T_d9e10426_3841_11ea_9dda_acde48001122row1_col8 {\n",
       "            background-color:  #3d50c3;\n",
       "            color:  #f1f1f1;\n",
       "        }    #T_d9e10426_3841_11ea_9dda_acde48001122row1_col9 {\n",
       "            background-color:  #3e51c5;\n",
       "            color:  #f1f1f1;\n",
       "        }    #T_d9e10426_3841_11ea_9dda_acde48001122row1_col10 {\n",
       "            background-color:  #3c4ec2;\n",
       "            color:  #f1f1f1;\n",
       "        }    #T_d9e10426_3841_11ea_9dda_acde48001122row1_col11 {\n",
       "            background-color:  #3b4cc0;\n",
       "            color:  #f1f1f1;\n",
       "        }    #T_d9e10426_3841_11ea_9dda_acde48001122row1_col12 {\n",
       "            background-color:  #3d50c3;\n",
       "            color:  #f1f1f1;\n",
       "        }    #T_d9e10426_3841_11ea_9dda_acde48001122row1_col13 {\n",
       "            background-color:  #3f53c6;\n",
       "            color:  #f1f1f1;\n",
       "        }    #T_d9e10426_3841_11ea_9dda_acde48001122row1_col14 {\n",
       "            background-color:  #3c4ec2;\n",
       "            color:  #f1f1f1;\n",
       "        }    #T_d9e10426_3841_11ea_9dda_acde48001122row1_col15 {\n",
       "            background-color:  #3b4cc0;\n",
       "            color:  #f1f1f1;\n",
       "        }    #T_d9e10426_3841_11ea_9dda_acde48001122row1_col16 {\n",
       "            background-color:  #3b4cc0;\n",
       "            color:  #f1f1f1;\n",
       "        }    #T_d9e10426_3841_11ea_9dda_acde48001122row2_col0 {\n",
       "            background-color:  #4055c8;\n",
       "            color:  #f1f1f1;\n",
       "        }    #T_d9e10426_3841_11ea_9dda_acde48001122row2_col1 {\n",
       "            background-color:  #3c4ec2;\n",
       "            color:  #f1f1f1;\n",
       "        }    #T_d9e10426_3841_11ea_9dda_acde48001122row2_col2 {\n",
       "            background-color:  #b40426;\n",
       "            color:  #f1f1f1;\n",
       "        }    #T_d9e10426_3841_11ea_9dda_acde48001122row2_col3 {\n",
       "            background-color:  #3d50c3;\n",
       "            color:  #f1f1f1;\n",
       "        }    #T_d9e10426_3841_11ea_9dda_acde48001122row2_col4 {\n",
       "            background-color:  #455cce;\n",
       "            color:  #f1f1f1;\n",
       "        }    #T_d9e10426_3841_11ea_9dda_acde48001122row2_col5 {\n",
       "            background-color:  #6b8df0;\n",
       "            color:  #000000;\n",
       "        }    #T_d9e10426_3841_11ea_9dda_acde48001122row2_col6 {\n",
       "            background-color:  #f3c7b1;\n",
       "            color:  #000000;\n",
       "        }    #T_d9e10426_3841_11ea_9dda_acde48001122row2_col7 {\n",
       "            background-color:  #e8d6cc;\n",
       "            color:  #000000;\n",
       "        }    #T_d9e10426_3841_11ea_9dda_acde48001122row2_col8 {\n",
       "            background-color:  #6384eb;\n",
       "            color:  #000000;\n",
       "        }    #T_d9e10426_3841_11ea_9dda_acde48001122row2_col9 {\n",
       "            background-color:  #e1dad6;\n",
       "            color:  #000000;\n",
       "        }    #T_d9e10426_3841_11ea_9dda_acde48001122row2_col10 {\n",
       "            background-color:  #7da0f9;\n",
       "            color:  #000000;\n",
       "        }    #T_d9e10426_3841_11ea_9dda_acde48001122row2_col11 {\n",
       "            background-color:  #6e90f2;\n",
       "            color:  #000000;\n",
       "        }    #T_d9e10426_3841_11ea_9dda_acde48001122row2_col12 {\n",
       "            background-color:  #6a8bef;\n",
       "            color:  #000000;\n",
       "        }    #T_d9e10426_3841_11ea_9dda_acde48001122row2_col13 {\n",
       "            background-color:  #f4c5ad;\n",
       "            color:  #000000;\n",
       "        }    #T_d9e10426_3841_11ea_9dda_acde48001122row2_col14 {\n",
       "            background-color:  #3e51c5;\n",
       "            color:  #f1f1f1;\n",
       "        }    #T_d9e10426_3841_11ea_9dda_acde48001122row2_col15 {\n",
       "            background-color:  #7396f5;\n",
       "            color:  #000000;\n",
       "        }    #T_d9e10426_3841_11ea_9dda_acde48001122row2_col16 {\n",
       "            background-color:  #4358cb;\n",
       "            color:  #f1f1f1;\n",
       "        }    #T_d9e10426_3841_11ea_9dda_acde48001122row3_col0 {\n",
       "            background-color:  #3b4cc0;\n",
       "            color:  #f1f1f1;\n",
       "        }    #T_d9e10426_3841_11ea_9dda_acde48001122row3_col1 {\n",
       "            background-color:  #3b4cc0;\n",
       "            color:  #f1f1f1;\n",
       "        }    #T_d9e10426_3841_11ea_9dda_acde48001122row3_col2 {\n",
       "            background-color:  #3b4cc0;\n",
       "            color:  #f1f1f1;\n",
       "        }    #T_d9e10426_3841_11ea_9dda_acde48001122row3_col3 {\n",
       "            background-color:  #b40426;\n",
       "            color:  #f1f1f1;\n",
       "        }    #T_d9e10426_3841_11ea_9dda_acde48001122row3_col4 {\n",
       "            background-color:  #3b4cc0;\n",
       "            color:  #f1f1f1;\n",
       "        }    #T_d9e10426_3841_11ea_9dda_acde48001122row3_col5 {\n",
       "            background-color:  #5b7ae5;\n",
       "            color:  #000000;\n",
       "        }    #T_d9e10426_3841_11ea_9dda_acde48001122row3_col6 {\n",
       "            background-color:  #3b4cc0;\n",
       "            color:  #f1f1f1;\n",
       "        }    #T_d9e10426_3841_11ea_9dda_acde48001122row3_col7 {\n",
       "            background-color:  #3e51c5;\n",
       "            color:  #f1f1f1;\n",
       "        }    #T_d9e10426_3841_11ea_9dda_acde48001122row3_col8 {\n",
       "            background-color:  #5a78e4;\n",
       "            color:  #000000;\n",
       "        }    #T_d9e10426_3841_11ea_9dda_acde48001122row3_col9 {\n",
       "            background-color:  #3e51c5;\n",
       "            color:  #f1f1f1;\n",
       "        }    #T_d9e10426_3841_11ea_9dda_acde48001122row3_col10 {\n",
       "            background-color:  #4c66d6;\n",
       "            color:  #000000;\n",
       "        }    #T_d9e10426_3841_11ea_9dda_acde48001122row3_col11 {\n",
       "            background-color:  #465ecf;\n",
       "            color:  #f1f1f1;\n",
       "        }    #T_d9e10426_3841_11ea_9dda_acde48001122row3_col12 {\n",
       "            background-color:  #5e7de7;\n",
       "            color:  #000000;\n",
       "        }    #T_d9e10426_3841_11ea_9dda_acde48001122row3_col13 {\n",
       "            background-color:  #4257c9;\n",
       "            color:  #f1f1f1;\n",
       "        }    #T_d9e10426_3841_11ea_9dda_acde48001122row3_col14 {\n",
       "            background-color:  #f1ccb8;\n",
       "            color:  #000000;\n",
       "        }    #T_d9e10426_3841_11ea_9dda_acde48001122row3_col15 {\n",
       "            background-color:  #c9d7f0;\n",
       "            color:  #000000;\n",
       "        }    #T_d9e10426_3841_11ea_9dda_acde48001122row3_col16 {\n",
       "            background-color:  #89acfd;\n",
       "            color:  #000000;\n",
       "        }    #T_d9e10426_3841_11ea_9dda_acde48001122row4_col0 {\n",
       "            background-color:  #4f69d9;\n",
       "            color:  #000000;\n",
       "        }    #T_d9e10426_3841_11ea_9dda_acde48001122row4_col1 {\n",
       "            background-color:  #3c4ec2;\n",
       "            color:  #f1f1f1;\n",
       "        }    #T_d9e10426_3841_11ea_9dda_acde48001122row4_col2 {\n",
       "            background-color:  #4358cb;\n",
       "            color:  #f1f1f1;\n",
       "        }    #T_d9e10426_3841_11ea_9dda_acde48001122row4_col3 {\n",
       "            background-color:  #3b4cc0;\n",
       "            color:  #f1f1f1;\n",
       "        }    #T_d9e10426_3841_11ea_9dda_acde48001122row4_col4 {\n",
       "            background-color:  #b40426;\n",
       "            color:  #f1f1f1;\n",
       "        }    #T_d9e10426_3841_11ea_9dda_acde48001122row4_col5 {\n",
       "            background-color:  #3b4cc0;\n",
       "            color:  #f1f1f1;\n",
       "        }    #T_d9e10426_3841_11ea_9dda_acde48001122row4_col6 {\n",
       "            background-color:  #465ecf;\n",
       "            color:  #f1f1f1;\n",
       "        }    #T_d9e10426_3841_11ea_9dda_acde48001122row4_col7 {\n",
       "            background-color:  #3b4cc0;\n",
       "            color:  #f1f1f1;\n",
       "        }    #T_d9e10426_3841_11ea_9dda_acde48001122row4_col8 {\n",
       "            background-color:  #3c4ec2;\n",
       "            color:  #f1f1f1;\n",
       "        }    #T_d9e10426_3841_11ea_9dda_acde48001122row4_col9 {\n",
       "            background-color:  #3b4cc0;\n",
       "            color:  #f1f1f1;\n",
       "        }    #T_d9e10426_3841_11ea_9dda_acde48001122row4_col10 {\n",
       "            background-color:  #3b4cc0;\n",
       "            color:  #f1f1f1;\n",
       "        }    #T_d9e10426_3841_11ea_9dda_acde48001122row4_col11 {\n",
       "            background-color:  #3c4ec2;\n",
       "            color:  #f1f1f1;\n",
       "        }    #T_d9e10426_3841_11ea_9dda_acde48001122row4_col12 {\n",
       "            background-color:  #3c4ec2;\n",
       "            color:  #f1f1f1;\n",
       "        }    #T_d9e10426_3841_11ea_9dda_acde48001122row4_col13 {\n",
       "            background-color:  #3b4cc0;\n",
       "            color:  #f1f1f1;\n",
       "        }    #T_d9e10426_3841_11ea_9dda_acde48001122row4_col14 {\n",
       "            background-color:  #90b2fe;\n",
       "            color:  #000000;\n",
       "        }    #T_d9e10426_3841_11ea_9dda_acde48001122row4_col15 {\n",
       "            background-color:  #7da0f9;\n",
       "            color:  #000000;\n",
       "        }    #T_d9e10426_3841_11ea_9dda_acde48001122row4_col16 {\n",
       "            background-color:  #799cf8;\n",
       "            color:  #000000;\n",
       "        }    #T_d9e10426_3841_11ea_9dda_acde48001122row5_col0 {\n",
       "            background-color:  #3b4cc0;\n",
       "            color:  #f1f1f1;\n",
       "        }    #T_d9e10426_3841_11ea_9dda_acde48001122row5_col1 {\n",
       "            background-color:  #3d50c3;\n",
       "            color:  #f1f1f1;\n",
       "        }    #T_d9e10426_3841_11ea_9dda_acde48001122row5_col2 {\n",
       "            background-color:  #6e90f2;\n",
       "            color:  #000000;\n",
       "        }    #T_d9e10426_3841_11ea_9dda_acde48001122row5_col3 {\n",
       "            background-color:  #6180e9;\n",
       "            color:  #000000;\n",
       "        }    #T_d9e10426_3841_11ea_9dda_acde48001122row5_col4 {\n",
       "            background-color:  #4055c8;\n",
       "            color:  #f1f1f1;\n",
       "        }    #T_d9e10426_3841_11ea_9dda_acde48001122row5_col5 {\n",
       "            background-color:  #b40426;\n",
       "            color:  #f1f1f1;\n",
       "        }    #T_d9e10426_3841_11ea_9dda_acde48001122row5_col6 {\n",
       "            background-color:  #6788ee;\n",
       "            color:  #000000;\n",
       "        }    #T_d9e10426_3841_11ea_9dda_acde48001122row5_col7 {\n",
       "            background-color:  #82a6fb;\n",
       "            color:  #000000;\n",
       "        }    #T_d9e10426_3841_11ea_9dda_acde48001122row5_col8 {\n",
       "            background-color:  #f7ba9f;\n",
       "            color:  #000000;\n",
       "        }    #T_d9e10426_3841_11ea_9dda_acde48001122row5_col9 {\n",
       "            background-color:  #6c8ff1;\n",
       "            color:  #000000;\n",
       "        }    #T_d9e10426_3841_11ea_9dda_acde48001122row5_col10 {\n",
       "            background-color:  #e1dad6;\n",
       "            color:  #000000;\n",
       "        }    #T_d9e10426_3841_11ea_9dda_acde48001122row5_col11 {\n",
       "            background-color:  #dbdcde;\n",
       "            color:  #000000;\n",
       "        }    #T_d9e10426_3841_11ea_9dda_acde48001122row5_col12 {\n",
       "            background-color:  #f1ccb8;\n",
       "            color:  #000000;\n",
       "        }    #T_d9e10426_3841_11ea_9dda_acde48001122row5_col13 {\n",
       "            background-color:  #86a9fc;\n",
       "            color:  #000000;\n",
       "        }    #T_d9e10426_3841_11ea_9dda_acde48001122row5_col14 {\n",
       "            background-color:  #7597f6;\n",
       "            color:  #000000;\n",
       "        }    #T_d9e10426_3841_11ea_9dda_acde48001122row5_col15 {\n",
       "            background-color:  #bed2f6;\n",
       "            color:  #000000;\n",
       "        }    #T_d9e10426_3841_11ea_9dda_acde48001122row5_col16 {\n",
       "            background-color:  #6f92f3;\n",
       "            color:  #000000;\n",
       "        }    #T_d9e10426_3841_11ea_9dda_acde48001122row6_col0 {\n",
       "            background-color:  #4257c9;\n",
       "            color:  #f1f1f1;\n",
       "        }    #T_d9e10426_3841_11ea_9dda_acde48001122row6_col1 {\n",
       "            background-color:  #3e51c5;\n",
       "            color:  #f1f1f1;\n",
       "        }    #T_d9e10426_3841_11ea_9dda_acde48001122row6_col2 {\n",
       "            background-color:  #f3c8b2;\n",
       "            color:  #000000;\n",
       "        }    #T_d9e10426_3841_11ea_9dda_acde48001122row6_col3 {\n",
       "            background-color:  #3b4cc0;\n",
       "            color:  #f1f1f1;\n",
       "        }    #T_d9e10426_3841_11ea_9dda_acde48001122row6_col4 {\n",
       "            background-color:  #465ecf;\n",
       "            color:  #f1f1f1;\n",
       "        }    #T_d9e10426_3841_11ea_9dda_acde48001122row6_col5 {\n",
       "            background-color:  #6282ea;\n",
       "            color:  #000000;\n",
       "        }    #T_d9e10426_3841_11ea_9dda_acde48001122row6_col6 {\n",
       "            background-color:  #b40426;\n",
       "            color:  #f1f1f1;\n",
       "        }    #T_d9e10426_3841_11ea_9dda_acde48001122row6_col7 {\n",
       "            background-color:  #d9dce1;\n",
       "            color:  #000000;\n",
       "        }    #T_d9e10426_3841_11ea_9dda_acde48001122row6_col8 {\n",
       "            background-color:  #5d7ce6;\n",
       "            color:  #000000;\n",
       "        }    #T_d9e10426_3841_11ea_9dda_acde48001122row6_col9 {\n",
       "            background-color:  #dfdbd9;\n",
       "            color:  #000000;\n",
       "        }    #T_d9e10426_3841_11ea_9dda_acde48001122row6_col10 {\n",
       "            background-color:  #6f92f3;\n",
       "            color:  #000000;\n",
       "        }    #T_d9e10426_3841_11ea_9dda_acde48001122row6_col11 {\n",
       "            background-color:  #6687ed;\n",
       "            color:  #000000;\n",
       "        }    #T_d9e10426_3841_11ea_9dda_acde48001122row6_col12 {\n",
       "            background-color:  #5f7fe8;\n",
       "            color:  #000000;\n",
       "        }    #T_d9e10426_3841_11ea_9dda_acde48001122row6_col13 {\n",
       "            background-color:  #edd1c2;\n",
       "            color:  #000000;\n",
       "        }    #T_d9e10426_3841_11ea_9dda_acde48001122row6_col14 {\n",
       "            background-color:  #3b4cc0;\n",
       "            color:  #f1f1f1;\n",
       "        }    #T_d9e10426_3841_11ea_9dda_acde48001122row6_col15 {\n",
       "            background-color:  #6384eb;\n",
       "            color:  #000000;\n",
       "        }    #T_d9e10426_3841_11ea_9dda_acde48001122row6_col16 {\n",
       "            background-color:  #3f53c6;\n",
       "            color:  #f1f1f1;\n",
       "        }    #T_d9e10426_3841_11ea_9dda_acde48001122row7_col0 {\n",
       "            background-color:  #4055c8;\n",
       "            color:  #f1f1f1;\n",
       "        }    #T_d9e10426_3841_11ea_9dda_acde48001122row7_col1 {\n",
       "            background-color:  #3d50c3;\n",
       "            color:  #f1f1f1;\n",
       "        }    #T_d9e10426_3841_11ea_9dda_acde48001122row7_col2 {\n",
       "            background-color:  #ead4c8;\n",
       "            color:  #000000;\n",
       "        }    #T_d9e10426_3841_11ea_9dda_acde48001122row7_col3 {\n",
       "            background-color:  #4961d2;\n",
       "            color:  #f1f1f1;\n",
       "        }    #T_d9e10426_3841_11ea_9dda_acde48001122row7_col4 {\n",
       "            background-color:  #455cce;\n",
       "            color:  #f1f1f1;\n",
       "        }    #T_d9e10426_3841_11ea_9dda_acde48001122row7_col5 {\n",
       "            background-color:  #86a9fc;\n",
       "            color:  #000000;\n",
       "        }    #T_d9e10426_3841_11ea_9dda_acde48001122row7_col6 {\n",
       "            background-color:  #dddcdc;\n",
       "            color:  #000000;\n",
       "        }    #T_d9e10426_3841_11ea_9dda_acde48001122row7_col7 {\n",
       "            background-color:  #b40426;\n",
       "            color:  #f1f1f1;\n",
       "        }    #T_d9e10426_3841_11ea_9dda_acde48001122row7_col8 {\n",
       "            background-color:  #6c8ff1;\n",
       "            color:  #000000;\n",
       "        }    #T_d9e10426_3841_11ea_9dda_acde48001122row7_col9 {\n",
       "            background-color:  #eed0c0;\n",
       "            color:  #000000;\n",
       "        }    #T_d9e10426_3841_11ea_9dda_acde48001122row7_col10 {\n",
       "            background-color:  #86a9fc;\n",
       "            color:  #000000;\n",
       "        }    #T_d9e10426_3841_11ea_9dda_acde48001122row7_col11 {\n",
       "            background-color:  #688aef;\n",
       "            color:  #000000;\n",
       "        }    #T_d9e10426_3841_11ea_9dda_acde48001122row7_col12 {\n",
       "            background-color:  #799cf8;\n",
       "            color:  #000000;\n",
       "        }    #T_d9e10426_3841_11ea_9dda_acde48001122row7_col13 {\n",
       "            background-color:  #f7ba9f;\n",
       "            color:  #000000;\n",
       "        }    #T_d9e10426_3841_11ea_9dda_acde48001122row7_col14 {\n",
       "            background-color:  #536edd;\n",
       "            color:  #000000;\n",
       "        }    #T_d9e10426_3841_11ea_9dda_acde48001122row7_col15 {\n",
       "            background-color:  #89acfd;\n",
       "            color:  #000000;\n",
       "        }    #T_d9e10426_3841_11ea_9dda_acde48001122row7_col16 {\n",
       "            background-color:  #5977e3;\n",
       "            color:  #000000;\n",
       "        }    #T_d9e10426_3841_11ea_9dda_acde48001122row8_col0 {\n",
       "            background-color:  #3d50c3;\n",
       "            color:  #f1f1f1;\n",
       "        }    #T_d9e10426_3841_11ea_9dda_acde48001122row8_col1 {\n",
       "            background-color:  #3d50c3;\n",
       "            color:  #f1f1f1;\n",
       "        }    #T_d9e10426_3841_11ea_9dda_acde48001122row8_col2 {\n",
       "            background-color:  #6a8bef;\n",
       "            color:  #000000;\n",
       "        }    #T_d9e10426_3841_11ea_9dda_acde48001122row8_col3 {\n",
       "            background-color:  #6384eb;\n",
       "            color:  #000000;\n",
       "        }    #T_d9e10426_3841_11ea_9dda_acde48001122row8_col4 {\n",
       "            background-color:  #455cce;\n",
       "            color:  #f1f1f1;\n",
       "        }    #T_d9e10426_3841_11ea_9dda_acde48001122row8_col5 {\n",
       "            background-color:  #f7b99e;\n",
       "            color:  #000000;\n",
       "        }    #T_d9e10426_3841_11ea_9dda_acde48001122row8_col6 {\n",
       "            background-color:  #6687ed;\n",
       "            color:  #000000;\n",
       "        }    #T_d9e10426_3841_11ea_9dda_acde48001122row8_col7 {\n",
       "            background-color:  #6b8df0;\n",
       "            color:  #000000;\n",
       "        }    #T_d9e10426_3841_11ea_9dda_acde48001122row8_col8 {\n",
       "            background-color:  #b40426;\n",
       "            color:  #f1f1f1;\n",
       "        }    #T_d9e10426_3841_11ea_9dda_acde48001122row8_col9 {\n",
       "            background-color:  #688aef;\n",
       "            color:  #000000;\n",
       "        }    #T_d9e10426_3841_11ea_9dda_acde48001122row8_col10 {\n",
       "            background-color:  #ead5c9;\n",
       "            color:  #000000;\n",
       "        }    #T_d9e10426_3841_11ea_9dda_acde48001122row8_col11 {\n",
       "            background-color:  #f5c0a7;\n",
       "            color:  #000000;\n",
       "        }    #T_d9e10426_3841_11ea_9dda_acde48001122row8_col12 {\n",
       "            background-color:  #f08b6e;\n",
       "            color:  #000000;\n",
       "        }    #T_d9e10426_3841_11ea_9dda_acde48001122row8_col13 {\n",
       "            background-color:  #6a8bef;\n",
       "            color:  #000000;\n",
       "        }    #T_d9e10426_3841_11ea_9dda_acde48001122row8_col14 {\n",
       "            background-color:  #7396f5;\n",
       "            color:  #000000;\n",
       "        }    #T_d9e10426_3841_11ea_9dda_acde48001122row8_col15 {\n",
       "            background-color:  #b2ccfb;\n",
       "            color:  #000000;\n",
       "        }    #T_d9e10426_3841_11ea_9dda_acde48001122row8_col16 {\n",
       "            background-color:  #6687ed;\n",
       "            color:  #000000;\n",
       "        }    #T_d9e10426_3841_11ea_9dda_acde48001122row9_col0 {\n",
       "            background-color:  #3f53c6;\n",
       "            color:  #f1f1f1;\n",
       "        }    #T_d9e10426_3841_11ea_9dda_acde48001122row9_col1 {\n",
       "            background-color:  #3e51c5;\n",
       "            color:  #f1f1f1;\n",
       "        }    #T_d9e10426_3841_11ea_9dda_acde48001122row9_col2 {\n",
       "            background-color:  #e4d9d2;\n",
       "            color:  #000000;\n",
       "        }    #T_d9e10426_3841_11ea_9dda_acde48001122row9_col3 {\n",
       "            background-color:  #465ecf;\n",
       "            color:  #f1f1f1;\n",
       "        }    #T_d9e10426_3841_11ea_9dda_acde48001122row9_col4 {\n",
       "            background-color:  #4358cb;\n",
       "            color:  #f1f1f1;\n",
       "        }    #T_d9e10426_3841_11ea_9dda_acde48001122row9_col5 {\n",
       "            background-color:  #6f92f3;\n",
       "            color:  #000000;\n",
       "        }    #T_d9e10426_3841_11ea_9dda_acde48001122row9_col6 {\n",
       "            background-color:  #e2dad5;\n",
       "            color:  #000000;\n",
       "        }    #T_d9e10426_3841_11ea_9dda_acde48001122row9_col7 {\n",
       "            background-color:  #edd1c2;\n",
       "            color:  #000000;\n",
       "        }    #T_d9e10426_3841_11ea_9dda_acde48001122row9_col8 {\n",
       "            background-color:  #6788ee;\n",
       "            color:  #000000;\n",
       "        }    #T_d9e10426_3841_11ea_9dda_acde48001122row9_col9 {\n",
       "            background-color:  #b40426;\n",
       "            color:  #f1f1f1;\n",
       "        }    #T_d9e10426_3841_11ea_9dda_acde48001122row9_col10 {\n",
       "            background-color:  #6f92f3;\n",
       "            color:  #000000;\n",
       "        }    #T_d9e10426_3841_11ea_9dda_acde48001122row9_col11 {\n",
       "            background-color:  #6788ee;\n",
       "            color:  #000000;\n",
       "        }    #T_d9e10426_3841_11ea_9dda_acde48001122row9_col12 {\n",
       "            background-color:  #6e90f2;\n",
       "            color:  #000000;\n",
       "        }    #T_d9e10426_3841_11ea_9dda_acde48001122row9_col13 {\n",
       "            background-color:  #f7b89c;\n",
       "            color:  #000000;\n",
       "        }    #T_d9e10426_3841_11ea_9dda_acde48001122row9_col14 {\n",
       "            background-color:  #485fd1;\n",
       "            color:  #f1f1f1;\n",
       "        }    #T_d9e10426_3841_11ea_9dda_acde48001122row9_col15 {\n",
       "            background-color:  #81a4fb;\n",
       "            color:  #000000;\n",
       "        }    #T_d9e10426_3841_11ea_9dda_acde48001122row9_col16 {\n",
       "            background-color:  #4c66d6;\n",
       "            color:  #000000;\n",
       "        }    #T_d9e10426_3841_11ea_9dda_acde48001122row10_col0 {\n",
       "            background-color:  #3e51c5;\n",
       "            color:  #f1f1f1;\n",
       "        }    #T_d9e10426_3841_11ea_9dda_acde48001122row10_col1 {\n",
       "            background-color:  #3c4ec2;\n",
       "            color:  #f1f1f1;\n",
       "        }    #T_d9e10426_3841_11ea_9dda_acde48001122row10_col2 {\n",
       "            background-color:  #84a7fc;\n",
       "            color:  #000000;\n",
       "        }    #T_d9e10426_3841_11ea_9dda_acde48001122row10_col3 {\n",
       "            background-color:  #5673e0;\n",
       "            color:  #000000;\n",
       "        }    #T_d9e10426_3841_11ea_9dda_acde48001122row10_col4 {\n",
       "            background-color:  #445acc;\n",
       "            color:  #f1f1f1;\n",
       "        }    #T_d9e10426_3841_11ea_9dda_acde48001122row10_col5 {\n",
       "            background-color:  #e2dad5;\n",
       "            color:  #000000;\n",
       "        }    #T_d9e10426_3841_11ea_9dda_acde48001122row10_col6 {\n",
       "            background-color:  #779af7;\n",
       "            color:  #000000;\n",
       "        }    #T_d9e10426_3841_11ea_9dda_acde48001122row10_col7 {\n",
       "            background-color:  #85a8fc;\n",
       "            color:  #000000;\n",
       "        }    #T_d9e10426_3841_11ea_9dda_acde48001122row10_col8 {\n",
       "            background-color:  #ead5c9;\n",
       "            color:  #000000;\n",
       "        }    #T_d9e10426_3841_11ea_9dda_acde48001122row10_col9 {\n",
       "            background-color:  #7093f3;\n",
       "            color:  #000000;\n",
       "        }    #T_d9e10426_3841_11ea_9dda_acde48001122row10_col10 {\n",
       "            background-color:  #b40426;\n",
       "            color:  #f1f1f1;\n",
       "        }    #T_d9e10426_3841_11ea_9dda_acde48001122row10_col11 {\n",
       "            background-color:  #bfd3f6;\n",
       "            color:  #000000;\n",
       "        }    #T_d9e10426_3841_11ea_9dda_acde48001122row10_col12 {\n",
       "            background-color:  #d4dbe6;\n",
       "            color:  #000000;\n",
       "        }    #T_d9e10426_3841_11ea_9dda_acde48001122row10_col13 {\n",
       "            background-color:  #81a4fb;\n",
       "            color:  #000000;\n",
       "        }    #T_d9e10426_3841_11ea_9dda_acde48001122row10_col14 {\n",
       "            background-color:  #5f7fe8;\n",
       "            color:  #000000;\n",
       "        }    #T_d9e10426_3841_11ea_9dda_acde48001122row10_col15 {\n",
       "            background-color:  #93b5fe;\n",
       "            color:  #000000;\n",
       "        }    #T_d9e10426_3841_11ea_9dda_acde48001122row10_col16 {\n",
       "            background-color:  #5a78e4;\n",
       "            color:  #000000;\n",
       "        }    #T_d9e10426_3841_11ea_9dda_acde48001122row11_col0 {\n",
       "            background-color:  #3e51c5;\n",
       "            color:  #f1f1f1;\n",
       "        }    #T_d9e10426_3841_11ea_9dda_acde48001122row11_col1 {\n",
       "            background-color:  #3d50c3;\n",
       "            color:  #f1f1f1;\n",
       "        }    #T_d9e10426_3841_11ea_9dda_acde48001122row11_col2 {\n",
       "            background-color:  #7597f6;\n",
       "            color:  #000000;\n",
       "        }    #T_d9e10426_3841_11ea_9dda_acde48001122row11_col3 {\n",
       "            background-color:  #516ddb;\n",
       "            color:  #000000;\n",
       "        }    #T_d9e10426_3841_11ea_9dda_acde48001122row11_col4 {\n",
       "            background-color:  #465ecf;\n",
       "            color:  #f1f1f1;\n",
       "        }    #T_d9e10426_3841_11ea_9dda_acde48001122row11_col5 {\n",
       "            background-color:  #dddcdc;\n",
       "            color:  #000000;\n",
       "        }    #T_d9e10426_3841_11ea_9dda_acde48001122row11_col6 {\n",
       "            background-color:  #7093f3;\n",
       "            color:  #000000;\n",
       "        }    #T_d9e10426_3841_11ea_9dda_acde48001122row11_col7 {\n",
       "            background-color:  #688aef;\n",
       "            color:  #000000;\n",
       "        }    #T_d9e10426_3841_11ea_9dda_acde48001122row11_col8 {\n",
       "            background-color:  #f5c0a7;\n",
       "            color:  #000000;\n",
       "        }    #T_d9e10426_3841_11ea_9dda_acde48001122row11_col9 {\n",
       "            background-color:  #6a8bef;\n",
       "            color:  #000000;\n",
       "        }    #T_d9e10426_3841_11ea_9dda_acde48001122row11_col10 {\n",
       "            background-color:  #c0d4f5;\n",
       "            color:  #000000;\n",
       "        }    #T_d9e10426_3841_11ea_9dda_acde48001122row11_col11 {\n",
       "            background-color:  #b40426;\n",
       "            color:  #f1f1f1;\n",
       "        }    #T_d9e10426_3841_11ea_9dda_acde48001122row11_col12 {\n",
       "            background-color:  #f7bca1;\n",
       "            color:  #000000;\n",
       "        }    #T_d9e10426_3841_11ea_9dda_acde48001122row11_col13 {\n",
       "            background-color:  #6b8df0;\n",
       "            color:  #000000;\n",
       "        }    #T_d9e10426_3841_11ea_9dda_acde48001122row11_col14 {\n",
       "            background-color:  #6485ec;\n",
       "            color:  #000000;\n",
       "        }    #T_d9e10426_3841_11ea_9dda_acde48001122row11_col15 {\n",
       "            background-color:  #b2ccfb;\n",
       "            color:  #000000;\n",
       "        }    #T_d9e10426_3841_11ea_9dda_acde48001122row11_col16 {\n",
       "            background-color:  #6180e9;\n",
       "            color:  #000000;\n",
       "        }    #T_d9e10426_3841_11ea_9dda_acde48001122row12_col0 {\n",
       "            background-color:  #3d50c3;\n",
       "            color:  #f1f1f1;\n",
       "        }    #T_d9e10426_3841_11ea_9dda_acde48001122row12_col1 {\n",
       "            background-color:  #3d50c3;\n",
       "            color:  #f1f1f1;\n",
       "        }    #T_d9e10426_3841_11ea_9dda_acde48001122row12_col2 {\n",
       "            background-color:  #7093f3;\n",
       "            color:  #000000;\n",
       "        }    #T_d9e10426_3841_11ea_9dda_acde48001122row12_col3 {\n",
       "            background-color:  #688aef;\n",
       "            color:  #000000;\n",
       "        }    #T_d9e10426_3841_11ea_9dda_acde48001122row12_col4 {\n",
       "            background-color:  #455cce;\n",
       "            color:  #f1f1f1;\n",
       "        }    #T_d9e10426_3841_11ea_9dda_acde48001122row12_col5 {\n",
       "            background-color:  #f2cbb7;\n",
       "            color:  #000000;\n",
       "        }    #T_d9e10426_3841_11ea_9dda_acde48001122row12_col6 {\n",
       "            background-color:  #6788ee;\n",
       "            color:  #000000;\n",
       "        }    #T_d9e10426_3841_11ea_9dda_acde48001122row12_col7 {\n",
       "            background-color:  #779af7;\n",
       "            color:  #000000;\n",
       "        }    #T_d9e10426_3841_11ea_9dda_acde48001122row12_col8 {\n",
       "            background-color:  #f08b6e;\n",
       "            color:  #000000;\n",
       "        }    #T_d9e10426_3841_11ea_9dda_acde48001122row12_col9 {\n",
       "            background-color:  #6f92f3;\n",
       "            color:  #000000;\n",
       "        }    #T_d9e10426_3841_11ea_9dda_acde48001122row12_col10 {\n",
       "            background-color:  #d4dbe6;\n",
       "            color:  #000000;\n",
       "        }    #T_d9e10426_3841_11ea_9dda_acde48001122row12_col11 {\n",
       "            background-color:  #f7bca1;\n",
       "            color:  #000000;\n",
       "        }    #T_d9e10426_3841_11ea_9dda_acde48001122row12_col12 {\n",
       "            background-color:  #b40426;\n",
       "            color:  #f1f1f1;\n",
       "        }    #T_d9e10426_3841_11ea_9dda_acde48001122row12_col13 {\n",
       "            background-color:  #779af7;\n",
       "            color:  #000000;\n",
       "        }    #T_d9e10426_3841_11ea_9dda_acde48001122row12_col14 {\n",
       "            background-color:  #85a8fc;\n",
       "            color:  #000000;\n",
       "        }    #T_d9e10426_3841_11ea_9dda_acde48001122row12_col15 {\n",
       "            background-color:  #dadce0;\n",
       "            color:  #000000;\n",
       "        }    #T_d9e10426_3841_11ea_9dda_acde48001122row12_col16 {\n",
       "            background-color:  #7b9ff9;\n",
       "            color:  #000000;\n",
       "        }    #T_d9e10426_3841_11ea_9dda_acde48001122row13_col0 {\n",
       "            background-color:  #3f53c6;\n",
       "            color:  #f1f1f1;\n",
       "        }    #T_d9e10426_3841_11ea_9dda_acde48001122row13_col1 {\n",
       "            background-color:  #3d50c3;\n",
       "            color:  #f1f1f1;\n",
       "        }    #T_d9e10426_3841_11ea_9dda_acde48001122row13_col2 {\n",
       "            background-color:  #f5c4ac;\n",
       "            color:  #000000;\n",
       "        }    #T_d9e10426_3841_11ea_9dda_acde48001122row13_col3 {\n",
       "            background-color:  #4961d2;\n",
       "            color:  #f1f1f1;\n",
       "        }    #T_d9e10426_3841_11ea_9dda_acde48001122row13_col4 {\n",
       "            background-color:  #4257c9;\n",
       "            color:  #f1f1f1;\n",
       "        }    #T_d9e10426_3841_11ea_9dda_acde48001122row13_col5 {\n",
       "            background-color:  #88abfd;\n",
       "            color:  #000000;\n",
       "        }    #T_d9e10426_3841_11ea_9dda_acde48001122row13_col6 {\n",
       "            background-color:  #efcebd;\n",
       "            color:  #000000;\n",
       "        }    #T_d9e10426_3841_11ea_9dda_acde48001122row13_col7 {\n",
       "            background-color:  #f7bca1;\n",
       "            color:  #000000;\n",
       "        }    #T_d9e10426_3841_11ea_9dda_acde48001122row13_col8 {\n",
       "            background-color:  #6788ee;\n",
       "            color:  #000000;\n",
       "        }    #T_d9e10426_3841_11ea_9dda_acde48001122row13_col9 {\n",
       "            background-color:  #f7b99e;\n",
       "            color:  #000000;\n",
       "        }    #T_d9e10426_3841_11ea_9dda_acde48001122row13_col10 {\n",
       "            background-color:  #80a3fa;\n",
       "            color:  #000000;\n",
       "        }    #T_d9e10426_3841_11ea_9dda_acde48001122row13_col11 {\n",
       "            background-color:  #6788ee;\n",
       "            color:  #000000;\n",
       "        }    #T_d9e10426_3841_11ea_9dda_acde48001122row13_col12 {\n",
       "            background-color:  #7597f6;\n",
       "            color:  #000000;\n",
       "        }    #T_d9e10426_3841_11ea_9dda_acde48001122row13_col13 {\n",
       "            background-color:  #b40426;\n",
       "            color:  #f1f1f1;\n",
       "        }    #T_d9e10426_3841_11ea_9dda_acde48001122row13_col14 {\n",
       "            background-color:  #4f69d9;\n",
       "            color:  #000000;\n",
       "        }    #T_d9e10426_3841_11ea_9dda_acde48001122row13_col15 {\n",
       "            background-color:  #98b9ff;\n",
       "            color:  #000000;\n",
       "        }    #T_d9e10426_3841_11ea_9dda_acde48001122row13_col16 {\n",
       "            background-color:  #5673e0;\n",
       "            color:  #000000;\n",
       "        }    #T_d9e10426_3841_11ea_9dda_acde48001122row14_col0 {\n",
       "            background-color:  #455cce;\n",
       "            color:  #f1f1f1;\n",
       "        }    #T_d9e10426_3841_11ea_9dda_acde48001122row14_col1 {\n",
       "            background-color:  #3f53c6;\n",
       "            color:  #f1f1f1;\n",
       "        }    #T_d9e10426_3841_11ea_9dda_acde48001122row14_col2 {\n",
       "            background-color:  #465ecf;\n",
       "            color:  #f1f1f1;\n",
       "        }    #T_d9e10426_3841_11ea_9dda_acde48001122row14_col3 {\n",
       "            background-color:  #f3c8b2;\n",
       "            color:  #000000;\n",
       "        }    #T_d9e10426_3841_11ea_9dda_acde48001122row14_col4 {\n",
       "            background-color:  #9bbcff;\n",
       "            color:  #000000;\n",
       "        }    #T_d9e10426_3841_11ea_9dda_acde48001122row14_col5 {\n",
       "            background-color:  #799cf8;\n",
       "            color:  #000000;\n",
       "        }    #T_d9e10426_3841_11ea_9dda_acde48001122row14_col6 {\n",
       "            background-color:  #455cce;\n",
       "            color:  #f1f1f1;\n",
       "        }    #T_d9e10426_3841_11ea_9dda_acde48001122row14_col7 {\n",
       "            background-color:  #5470de;\n",
       "            color:  #000000;\n",
       "        }    #T_d9e10426_3841_11ea_9dda_acde48001122row14_col8 {\n",
       "            background-color:  #7699f6;\n",
       "            color:  #000000;\n",
       "        }    #T_d9e10426_3841_11ea_9dda_acde48001122row14_col9 {\n",
       "            background-color:  #4b64d5;\n",
       "            color:  #f1f1f1;\n",
       "        }    #T_d9e10426_3841_11ea_9dda_acde48001122row14_col10 {\n",
       "            background-color:  #6282ea;\n",
       "            color:  #000000;\n",
       "        }    #T_d9e10426_3841_11ea_9dda_acde48001122row14_col11 {\n",
       "            background-color:  #6687ed;\n",
       "            color:  #000000;\n",
       "        }    #T_d9e10426_3841_11ea_9dda_acde48001122row14_col12 {\n",
       "            background-color:  #86a9fc;\n",
       "            color:  #000000;\n",
       "        }    #T_d9e10426_3841_11ea_9dda_acde48001122row14_col13 {\n",
       "            background-color:  #5470de;\n",
       "            color:  #000000;\n",
       "        }    #T_d9e10426_3841_11ea_9dda_acde48001122row14_col14 {\n",
       "            background-color:  #b40426;\n",
       "            color:  #f1f1f1;\n",
       "        }    #T_d9e10426_3841_11ea_9dda_acde48001122row14_col15 {\n",
       "            background-color:  #f7b497;\n",
       "            color:  #000000;\n",
       "        }    #T_d9e10426_3841_11ea_9dda_acde48001122row14_col16 {\n",
       "            background-color:  #dfdbd9;\n",
       "            color:  #000000;\n",
       "        }    #T_d9e10426_3841_11ea_9dda_acde48001122row15_col0 {\n",
       "            background-color:  #4257c9;\n",
       "            color:  #f1f1f1;\n",
       "        }    #T_d9e10426_3841_11ea_9dda_acde48001122row15_col1 {\n",
       "            background-color:  #3f53c6;\n",
       "            color:  #f1f1f1;\n",
       "        }    #T_d9e10426_3841_11ea_9dda_acde48001122row15_col2 {\n",
       "            background-color:  #7da0f9;\n",
       "            color:  #000000;\n",
       "        }    #T_d9e10426_3841_11ea_9dda_acde48001122row15_col3 {\n",
       "            background-color:  #d1dae9;\n",
       "            color:  #000000;\n",
       "        }    #T_d9e10426_3841_11ea_9dda_acde48001122row15_col4 {\n",
       "            background-color:  #89acfd;\n",
       "            color:  #000000;\n",
       "        }    #T_d9e10426_3841_11ea_9dda_acde48001122row15_col5 {\n",
       "            background-color:  #c3d5f4;\n",
       "            color:  #000000;\n",
       "        }    #T_d9e10426_3841_11ea_9dda_acde48001122row15_col6 {\n",
       "            background-color:  #6f92f3;\n",
       "            color:  #000000;\n",
       "        }    #T_d9e10426_3841_11ea_9dda_acde48001122row15_col7 {\n",
       "            background-color:  #8caffe;\n",
       "            color:  #000000;\n",
       "        }    #T_d9e10426_3841_11ea_9dda_acde48001122row15_col8 {\n",
       "            background-color:  #b5cdfa;\n",
       "            color:  #000000;\n",
       "        }    #T_d9e10426_3841_11ea_9dda_acde48001122row15_col9 {\n",
       "            background-color:  #85a8fc;\n",
       "            color:  #000000;\n",
       "        }    #T_d9e10426_3841_11ea_9dda_acde48001122row15_col10 {\n",
       "            background-color:  #97b8ff;\n",
       "            color:  #000000;\n",
       "        }    #T_d9e10426_3841_11ea_9dda_acde48001122row15_col11 {\n",
       "            background-color:  #b5cdfa;\n",
       "            color:  #000000;\n",
       "        }    #T_d9e10426_3841_11ea_9dda_acde48001122row15_col12 {\n",
       "            background-color:  #dcdddd;\n",
       "            color:  #000000;\n",
       "        }    #T_d9e10426_3841_11ea_9dda_acde48001122row15_col13 {\n",
       "            background-color:  #9ebeff;\n",
       "            color:  #000000;\n",
       "        }    #T_d9e10426_3841_11ea_9dda_acde48001122row15_col14 {\n",
       "            background-color:  #f7b497;\n",
       "            color:  #000000;\n",
       "        }    #T_d9e10426_3841_11ea_9dda_acde48001122row15_col15 {\n",
       "            background-color:  #b40426;\n",
       "            color:  #f1f1f1;\n",
       "        }    #T_d9e10426_3841_11ea_9dda_acde48001122row15_col16 {\n",
       "            background-color:  #dbdcde;\n",
       "            color:  #000000;\n",
       "        }    #T_d9e10426_3841_11ea_9dda_acde48001122row16_col0 {\n",
       "            background-color:  #465ecf;\n",
       "            color:  #f1f1f1;\n",
       "        }    #T_d9e10426_3841_11ea_9dda_acde48001122row16_col1 {\n",
       "            background-color:  #3e51c5;\n",
       "            color:  #f1f1f1;\n",
       "        }    #T_d9e10426_3841_11ea_9dda_acde48001122row16_col2 {\n",
       "            background-color:  #4c66d6;\n",
       "            color:  #000000;\n",
       "        }    #T_d9e10426_3841_11ea_9dda_acde48001122row16_col3 {\n",
       "            background-color:  #96b7ff;\n",
       "            color:  #000000;\n",
       "        }    #T_d9e10426_3841_11ea_9dda_acde48001122row16_col4 {\n",
       "            background-color:  #85a8fc;\n",
       "            color:  #000000;\n",
       "        }    #T_d9e10426_3841_11ea_9dda_acde48001122row16_col5 {\n",
       "            background-color:  #7699f6;\n",
       "            color:  #000000;\n",
       "        }    #T_d9e10426_3841_11ea_9dda_acde48001122row16_col6 {\n",
       "            background-color:  #4b64d5;\n",
       "            color:  #f1f1f1;\n",
       "        }    #T_d9e10426_3841_11ea_9dda_acde48001122row16_col7 {\n",
       "            background-color:  #5b7ae5;\n",
       "            color:  #000000;\n",
       "        }    #T_d9e10426_3841_11ea_9dda_acde48001122row16_col8 {\n",
       "            background-color:  #688aef;\n",
       "            color:  #000000;\n",
       "        }    #T_d9e10426_3841_11ea_9dda_acde48001122row16_col9 {\n",
       "            background-color:  #506bda;\n",
       "            color:  #000000;\n",
       "        }    #T_d9e10426_3841_11ea_9dda_acde48001122row16_col10 {\n",
       "            background-color:  #5e7de7;\n",
       "            color:  #000000;\n",
       "        }    #T_d9e10426_3841_11ea_9dda_acde48001122row16_col11 {\n",
       "            background-color:  #6384eb;\n",
       "            color:  #000000;\n",
       "        }    #T_d9e10426_3841_11ea_9dda_acde48001122row16_col12 {\n",
       "            background-color:  #7ea1fa;\n",
       "            color:  #000000;\n",
       "        }    #T_d9e10426_3841_11ea_9dda_acde48001122row16_col13 {\n",
       "            background-color:  #5b7ae5;\n",
       "            color:  #000000;\n",
       "        }    #T_d9e10426_3841_11ea_9dda_acde48001122row16_col14 {\n",
       "            background-color:  #e0dbd8;\n",
       "            color:  #000000;\n",
       "        }    #T_d9e10426_3841_11ea_9dda_acde48001122row16_col15 {\n",
       "            background-color:  #dbdcde;\n",
       "            color:  #000000;\n",
       "        }    #T_d9e10426_3841_11ea_9dda_acde48001122row16_col16 {\n",
       "            background-color:  #b40426;\n",
       "            color:  #f1f1f1;\n",
       "        }</style><table id=\"T_d9e10426_3841_11ea_9dda_acde48001122\" ><thead>    <tr>        <th class=\"blank level0\" ></th>        <th class=\"col_heading level0 col0\" >user_favorite</th>        <th class=\"col_heading level0 col1\" >user_follower</th>        <th class=\"col_heading level0 col2\" >anger</th>        <th class=\"col_heading level0 col3\" >hash_count</th>        <th class=\"col_heading level0 col4\" >mention_count</th>        <th class=\"col_heading level0 col5\" >anticipation</th>        <th class=\"col_heading level0 col6\" >disgust</th>        <th class=\"col_heading level0 col7\" >fear</th>        <th class=\"col_heading level0 col8\" >joy</th>        <th class=\"col_heading level0 col9\" >sadness</th>        <th class=\"col_heading level0 col10\" >surprise</th>        <th class=\"col_heading level0 col11\" >trust</th>        <th class=\"col_heading level0 col12\" >positive</th>        <th class=\"col_heading level0 col13\" >negative</th>        <th class=\"col_heading level0 col14\" >punc_count</th>        <th class=\"col_heading level0 col15\" >tweet_len</th>        <th class=\"col_heading level0 col16\" >cap_count</th>    </tr></thead><tbody>\n",
       "                <tr>\n",
       "                        <th id=\"T_d9e10426_3841_11ea_9dda_acde48001122level0_row0\" class=\"row_heading level0 row0\" >user_favorite</th>\n",
       "                        <td id=\"T_d9e10426_3841_11ea_9dda_acde48001122row0_col0\" class=\"data row0 col0\" >1</td>\n",
       "                        <td id=\"T_d9e10426_3841_11ea_9dda_acde48001122row0_col1\" class=\"data row0 col1\" >-0.0032</td>\n",
       "                        <td id=\"T_d9e10426_3841_11ea_9dda_acde48001122row0_col2\" class=\"data row0 col2\" >0.0053</td>\n",
       "                        <td id=\"T_d9e10426_3841_11ea_9dda_acde48001122row0_col3\" class=\"data row0 col3\" >-0.014</td>\n",
       "                        <td id=\"T_d9e10426_3841_11ea_9dda_acde48001122row0_col4\" class=\"data row0 col4\" >0.054</td>\n",
       "                        <td id=\"T_d9e10426_3841_11ea_9dda_acde48001122row0_col5\" class=\"data row0 col5\" >-0.017</td>\n",
       "                        <td id=\"T_d9e10426_3841_11ea_9dda_acde48001122row0_col6\" class=\"data row0 col6\" >0.0076</td>\n",
       "                        <td id=\"T_d9e10426_3841_11ea_9dda_acde48001122row0_col7\" class=\"data row0 col7\" >0.0058</td>\n",
       "                        <td id=\"T_d9e10426_3841_11ea_9dda_acde48001122row0_col8\" class=\"data row0 col8\" >-0.0052</td>\n",
       "                        <td id=\"T_d9e10426_3841_11ea_9dda_acde48001122row0_col9\" class=\"data row0 col9\" >-7.7e-05</td>\n",
       "                        <td id=\"T_d9e10426_3841_11ea_9dda_acde48001122row0_col10\" class=\"data row0 col10\" >-0.0042</td>\n",
       "                        <td id=\"T_d9e10426_3841_11ea_9dda_acde48001122row0_col11\" class=\"data row0 col11\" >-0.0015</td>\n",
       "                        <td id=\"T_d9e10426_3841_11ea_9dda_acde48001122row0_col12\" class=\"data row0 col12\" >-0.0062</td>\n",
       "                        <td id=\"T_d9e10426_3841_11ea_9dda_acde48001122row0_col13\" class=\"data row0 col13\" >-0.00068</td>\n",
       "                        <td id=\"T_d9e10426_3841_11ea_9dda_acde48001122row0_col14\" class=\"data row0 col14\" >0.021</td>\n",
       "                        <td id=\"T_d9e10426_3841_11ea_9dda_acde48001122row0_col15\" class=\"data row0 col15\" >0.0081</td>\n",
       "                        <td id=\"T_d9e10426_3841_11ea_9dda_acde48001122row0_col16\" class=\"data row0 col16\" >0.027</td>\n",
       "            </tr>\n",
       "            <tr>\n",
       "                        <th id=\"T_d9e10426_3841_11ea_9dda_acde48001122level0_row1\" class=\"row_heading level0 row1\" >user_follower</th>\n",
       "                        <td id=\"T_d9e10426_3841_11ea_9dda_acde48001122row1_col0\" class=\"data row1 col0\" >-0.0032</td>\n",
       "                        <td id=\"T_d9e10426_3841_11ea_9dda_acde48001122row1_col1\" class=\"data row1 col1\" >1</td>\n",
       "                        <td id=\"T_d9e10426_3841_11ea_9dda_acde48001122row1_col2\" class=\"data row1 col2\" >-0.00015</td>\n",
       "                        <td id=\"T_d9e10426_3841_11ea_9dda_acde48001122row1_col3\" class=\"data row1 col3\" >-0.0072</td>\n",
       "                        <td id=\"T_d9e10426_3841_11ea_9dda_acde48001122row1_col4\" class=\"data row1 col4\" >-0.00083</td>\n",
       "                        <td id=\"T_d9e10426_3841_11ea_9dda_acde48001122row1_col5\" class=\"data row1 col5\" >0.002</td>\n",
       "                        <td id=\"T_d9e10426_3841_11ea_9dda_acde48001122row1_col6\" class=\"data row1 col6\" >0.0048</td>\n",
       "                        <td id=\"T_d9e10426_3841_11ea_9dda_acde48001122row1_col7\" class=\"data row1 col7\" >0.0036</td>\n",
       "                        <td id=\"T_d9e10426_3841_11ea_9dda_acde48001122row1_col8\" class=\"data row1 col8\" >0.0042</td>\n",
       "                        <td id=\"T_d9e10426_3841_11ea_9dda_acde48001122row1_col9\" class=\"data row1 col9\" >0.0059</td>\n",
       "                        <td id=\"T_d9e10426_3841_11ea_9dda_acde48001122row1_col10\" class=\"data row1 col10\" >-0.00021</td>\n",
       "                        <td id=\"T_d9e10426_3841_11ea_9dda_acde48001122row1_col11\" class=\"data row1 col11\" >0.00086</td>\n",
       "                        <td id=\"T_d9e10426_3841_11ea_9dda_acde48001122row1_col12\" class=\"data row1 col12\" >0.0038</td>\n",
       "                        <td id=\"T_d9e10426_3841_11ea_9dda_acde48001122row1_col13\" class=\"data row1 col13\" >0.0044</td>\n",
       "                        <td id=\"T_d9e10426_3841_11ea_9dda_acde48001122row1_col14\" class=\"data row1 col14\" >0.0098</td>\n",
       "                        <td id=\"T_d9e10426_3841_11ea_9dda_acde48001122row1_col15\" class=\"data row1 col15\" >0.0097</td>\n",
       "                        <td id=\"T_d9e10426_3841_11ea_9dda_acde48001122row1_col16\" class=\"data row1 col16\" >0.0059</td>\n",
       "            </tr>\n",
       "            <tr>\n",
       "                        <th id=\"T_d9e10426_3841_11ea_9dda_acde48001122level0_row2\" class=\"row_heading level0 row2\" >anger</th>\n",
       "                        <td id=\"T_d9e10426_3841_11ea_9dda_acde48001122row2_col0\" class=\"data row2 col0\" >0.0053</td>\n",
       "                        <td id=\"T_d9e10426_3841_11ea_9dda_acde48001122row2_col1\" class=\"data row2 col1\" >-0.00015</td>\n",
       "                        <td id=\"T_d9e10426_3841_11ea_9dda_acde48001122row2_col2\" class=\"data row2 col2\" >1</td>\n",
       "                        <td id=\"T_d9e10426_3841_11ea_9dda_acde48001122row2_col3\" class=\"data row2 col3\" >-0.027</td>\n",
       "                        <td id=\"T_d9e10426_3841_11ea_9dda_acde48001122row2_col4\" class=\"data row2 col4\" >0.0021</td>\n",
       "                        <td id=\"T_d9e10426_3841_11ea_9dda_acde48001122row2_col5\" class=\"data row2 col5\" >0.14</td>\n",
       "                        <td id=\"T_d9e10426_3841_11ea_9dda_acde48001122row2_col6\" class=\"data row2 col6\" >0.6</td>\n",
       "                        <td id=\"T_d9e10426_3841_11ea_9dda_acde48001122row2_col7\" class=\"data row2 col7\" >0.54</td>\n",
       "                        <td id=\"T_d9e10426_3841_11ea_9dda_acde48001122row2_col8\" class=\"data row2 col8\" >0.13</td>\n",
       "                        <td id=\"T_d9e10426_3841_11ea_9dda_acde48001122row2_col9\" class=\"data row2 col9\" >0.52</td>\n",
       "                        <td id=\"T_d9e10426_3841_11ea_9dda_acde48001122row2_col10\" class=\"data row2 col10\" >0.2</td>\n",
       "                        <td id=\"T_d9e10426_3841_11ea_9dda_acde48001122row2_col11\" class=\"data row2 col11\" >0.16</td>\n",
       "                        <td id=\"T_d9e10426_3841_11ea_9dda_acde48001122row2_col12\" class=\"data row2 col12\" >0.15</td>\n",
       "                        <td id=\"T_d9e10426_3841_11ea_9dda_acde48001122row2_col13\" class=\"data row2 col13\" >0.62</td>\n",
       "                        <td id=\"T_d9e10426_3841_11ea_9dda_acde48001122row2_col14\" class=\"data row2 col14\" >0.016</td>\n",
       "                        <td id=\"T_d9e10426_3841_11ea_9dda_acde48001122row2_col15\" class=\"data row2 col15\" >0.18</td>\n",
       "                        <td id=\"T_d9e10426_3841_11ea_9dda_acde48001122row2_col16\" class=\"data row2 col16\" >0.037</td>\n",
       "            </tr>\n",
       "            <tr>\n",
       "                        <th id=\"T_d9e10426_3841_11ea_9dda_acde48001122level0_row3\" class=\"row_heading level0 row3\" >hash_count</th>\n",
       "                        <td id=\"T_d9e10426_3841_11ea_9dda_acde48001122row3_col0\" class=\"data row3 col0\" >-0.014</td>\n",
       "                        <td id=\"T_d9e10426_3841_11ea_9dda_acde48001122row3_col1\" class=\"data row3 col1\" >-0.0072</td>\n",
       "                        <td id=\"T_d9e10426_3841_11ea_9dda_acde48001122row3_col2\" class=\"data row3 col2\" >-0.027</td>\n",
       "                        <td id=\"T_d9e10426_3841_11ea_9dda_acde48001122row3_col3\" class=\"data row3 col3\" >1</td>\n",
       "                        <td id=\"T_d9e10426_3841_11ea_9dda_acde48001122row3_col4\" class=\"data row3 col4\" >-0.038</td>\n",
       "                        <td id=\"T_d9e10426_3841_11ea_9dda_acde48001122row3_col5\" class=\"data row3 col5\" >0.091</td>\n",
       "                        <td id=\"T_d9e10426_3841_11ea_9dda_acde48001122row3_col6\" class=\"data row3 col6\" >-0.037</td>\n",
       "                        <td id=\"T_d9e10426_3841_11ea_9dda_acde48001122row3_col7\" class=\"data row3 col7\" >0.012</td>\n",
       "                        <td id=\"T_d9e10426_3841_11ea_9dda_acde48001122row3_col8\" class=\"data row3 col8\" >0.098</td>\n",
       "                        <td id=\"T_d9e10426_3841_11ea_9dda_acde48001122row3_col9\" class=\"data row3 col9\" >0.0054</td>\n",
       "                        <td id=\"T_d9e10426_3841_11ea_9dda_acde48001122row3_col10\" class=\"data row3 col10\" >0.056</td>\n",
       "                        <td id=\"T_d9e10426_3841_11ea_9dda_acde48001122row3_col11\" class=\"data row3 col11\" >0.041</td>\n",
       "                        <td id=\"T_d9e10426_3841_11ea_9dda_acde48001122row3_col12\" class=\"data row3 col12\" >0.11</td>\n",
       "                        <td id=\"T_d9e10426_3841_11ea_9dda_acde48001122row3_col13\" class=\"data row3 col13\" >0.012</td>\n",
       "                        <td id=\"T_d9e10426_3841_11ea_9dda_acde48001122row3_col14\" class=\"data row3 col14\" >0.6</td>\n",
       "                        <td id=\"T_d9e10426_3841_11ea_9dda_acde48001122row3_col15\" class=\"data row3 col15\" >0.43</td>\n",
       "                        <td id=\"T_d9e10426_3841_11ea_9dda_acde48001122row3_col16\" class=\"data row3 col16\" >0.25</td>\n",
       "            </tr>\n",
       "            <tr>\n",
       "                        <th id=\"T_d9e10426_3841_11ea_9dda_acde48001122level0_row4\" class=\"row_heading level0 row4\" >mention_count</th>\n",
       "                        <td id=\"T_d9e10426_3841_11ea_9dda_acde48001122row4_col0\" class=\"data row4 col0\" >0.054</td>\n",
       "                        <td id=\"T_d9e10426_3841_11ea_9dda_acde48001122row4_col1\" class=\"data row4 col1\" >-0.00083</td>\n",
       "                        <td id=\"T_d9e10426_3841_11ea_9dda_acde48001122row4_col2\" class=\"data row4 col2\" >0.0021</td>\n",
       "                        <td id=\"T_d9e10426_3841_11ea_9dda_acde48001122row4_col3\" class=\"data row4 col3\" >-0.038</td>\n",
       "                        <td id=\"T_d9e10426_3841_11ea_9dda_acde48001122row4_col4\" class=\"data row4 col4\" >1</td>\n",
       "                        <td id=\"T_d9e10426_3841_11ea_9dda_acde48001122row4_col5\" class=\"data row4 col5\" >-0.016</td>\n",
       "                        <td id=\"T_d9e10426_3841_11ea_9dda_acde48001122row4_col6\" class=\"data row4 col6\" >0.0038</td>\n",
       "                        <td id=\"T_d9e10426_3841_11ea_9dda_acde48001122row4_col7\" class=\"data row4 col7\" >-0.0016</td>\n",
       "                        <td id=\"T_d9e10426_3841_11ea_9dda_acde48001122row4_col8\" class=\"data row4 col8\" >5.5e-05</td>\n",
       "                        <td id=\"T_d9e10426_3841_11ea_9dda_acde48001122row4_col9\" class=\"data row4 col9\" >-0.0078</td>\n",
       "                        <td id=\"T_d9e10426_3841_11ea_9dda_acde48001122row4_col10\" class=\"data row4 col10\" >-0.005</td>\n",
       "                        <td id=\"T_d9e10426_3841_11ea_9dda_acde48001122row4_col11\" class=\"data row4 col11\" >0.0038</td>\n",
       "                        <td id=\"T_d9e10426_3841_11ea_9dda_acde48001122row4_col12\" class=\"data row4 col12\" >-0.0014</td>\n",
       "                        <td id=\"T_d9e10426_3841_11ea_9dda_acde48001122row4_col13\" class=\"data row4 col13\" >-0.013</td>\n",
       "                        <td id=\"T_d9e10426_3841_11ea_9dda_acde48001122row4_col14\" class=\"data row4 col14\" >0.26</td>\n",
       "                        <td id=\"T_d9e10426_3841_11ea_9dda_acde48001122row4_col15\" class=\"data row4 col15\" >0.21</td>\n",
       "                        <td id=\"T_d9e10426_3841_11ea_9dda_acde48001122row4_col16\" class=\"data row4 col16\" >0.2</td>\n",
       "            </tr>\n",
       "            <tr>\n",
       "                        <th id=\"T_d9e10426_3841_11ea_9dda_acde48001122level0_row5\" class=\"row_heading level0 row5\" >anticipation</th>\n",
       "                        <td id=\"T_d9e10426_3841_11ea_9dda_acde48001122row5_col0\" class=\"data row5 col0\" >-0.017</td>\n",
       "                        <td id=\"T_d9e10426_3841_11ea_9dda_acde48001122row5_col1\" class=\"data row5 col1\" >0.002</td>\n",
       "                        <td id=\"T_d9e10426_3841_11ea_9dda_acde48001122row5_col2\" class=\"data row5 col2\" >0.14</td>\n",
       "                        <td id=\"T_d9e10426_3841_11ea_9dda_acde48001122row5_col3\" class=\"data row5 col3\" >0.091</td>\n",
       "                        <td id=\"T_d9e10426_3841_11ea_9dda_acde48001122row5_col4\" class=\"data row5 col4\" >-0.016</td>\n",
       "                        <td id=\"T_d9e10426_3841_11ea_9dda_acde48001122row5_col5\" class=\"data row5 col5\" >1</td>\n",
       "                        <td id=\"T_d9e10426_3841_11ea_9dda_acde48001122row5_col6\" class=\"data row5 col6\" >0.11</td>\n",
       "                        <td id=\"T_d9e10426_3841_11ea_9dda_acde48001122row5_col7\" class=\"data row5 col7\" >0.22</td>\n",
       "                        <td id=\"T_d9e10426_3841_11ea_9dda_acde48001122row5_col8\" class=\"data row5 col8\" >0.66</td>\n",
       "                        <td id=\"T_d9e10426_3841_11ea_9dda_acde48001122row5_col9\" class=\"data row5 col9\" >0.15</td>\n",
       "                        <td id=\"T_d9e10426_3841_11ea_9dda_acde48001122row5_col10\" class=\"data row5 col10\" >0.51</td>\n",
       "                        <td id=\"T_d9e10426_3841_11ea_9dda_acde48001122row5_col11\" class=\"data row5 col11\" >0.49</td>\n",
       "                        <td id=\"T_d9e10426_3841_11ea_9dda_acde48001122row5_col12\" class=\"data row5 col12\" >0.59</td>\n",
       "                        <td id=\"T_d9e10426_3841_11ea_9dda_acde48001122row5_col13\" class=\"data row5 col13\" >0.22</td>\n",
       "                        <td id=\"T_d9e10426_3841_11ea_9dda_acde48001122row5_col14\" class=\"data row5 col14\" >0.18</td>\n",
       "                        <td id=\"T_d9e10426_3841_11ea_9dda_acde48001122row5_col15\" class=\"data row5 col15\" >0.4</td>\n",
       "                        <td id=\"T_d9e10426_3841_11ea_9dda_acde48001122row5_col16\" class=\"data row5 col16\" >0.17</td>\n",
       "            </tr>\n",
       "            <tr>\n",
       "                        <th id=\"T_d9e10426_3841_11ea_9dda_acde48001122level0_row6\" class=\"row_heading level0 row6\" >disgust</th>\n",
       "                        <td id=\"T_d9e10426_3841_11ea_9dda_acde48001122row6_col0\" class=\"data row6 col0\" >0.0076</td>\n",
       "                        <td id=\"T_d9e10426_3841_11ea_9dda_acde48001122row6_col1\" class=\"data row6 col1\" >0.0048</td>\n",
       "                        <td id=\"T_d9e10426_3841_11ea_9dda_acde48001122row6_col2\" class=\"data row6 col2\" >0.6</td>\n",
       "                        <td id=\"T_d9e10426_3841_11ea_9dda_acde48001122row6_col3\" class=\"data row6 col3\" >-0.037</td>\n",
       "                        <td id=\"T_d9e10426_3841_11ea_9dda_acde48001122row6_col4\" class=\"data row6 col4\" >0.0038</td>\n",
       "                        <td id=\"T_d9e10426_3841_11ea_9dda_acde48001122row6_col5\" class=\"data row6 col5\" >0.11</td>\n",
       "                        <td id=\"T_d9e10426_3841_11ea_9dda_acde48001122row6_col6\" class=\"data row6 col6\" >1</td>\n",
       "                        <td id=\"T_d9e10426_3841_11ea_9dda_acde48001122row6_col7\" class=\"data row6 col7\" >0.49</td>\n",
       "                        <td id=\"T_d9e10426_3841_11ea_9dda_acde48001122row6_col8\" class=\"data row6 col8\" >0.11</td>\n",
       "                        <td id=\"T_d9e10426_3841_11ea_9dda_acde48001122row6_col9\" class=\"data row6 col9\" >0.5</td>\n",
       "                        <td id=\"T_d9e10426_3841_11ea_9dda_acde48001122row6_col10\" class=\"data row6 col10\" >0.16</td>\n",
       "                        <td id=\"T_d9e10426_3841_11ea_9dda_acde48001122row6_col11\" class=\"data row6 col11\" >0.14</td>\n",
       "                        <td id=\"T_d9e10426_3841_11ea_9dda_acde48001122row6_col12\" class=\"data row6 col12\" >0.11</td>\n",
       "                        <td id=\"T_d9e10426_3841_11ea_9dda_acde48001122row6_col13\" class=\"data row6 col13\" >0.57</td>\n",
       "                        <td id=\"T_d9e10426_3841_11ea_9dda_acde48001122row6_col14\" class=\"data row6 col14\" >0.0024</td>\n",
       "                        <td id=\"T_d9e10426_3841_11ea_9dda_acde48001122row6_col15\" class=\"data row6 col15\" >0.14</td>\n",
       "                        <td id=\"T_d9e10426_3841_11ea_9dda_acde48001122row6_col16\" class=\"data row6 col16\" >0.022</td>\n",
       "            </tr>\n",
       "            <tr>\n",
       "                        <th id=\"T_d9e10426_3841_11ea_9dda_acde48001122level0_row7\" class=\"row_heading level0 row7\" >fear</th>\n",
       "                        <td id=\"T_d9e10426_3841_11ea_9dda_acde48001122row7_col0\" class=\"data row7 col0\" >0.0058</td>\n",
       "                        <td id=\"T_d9e10426_3841_11ea_9dda_acde48001122row7_col1\" class=\"data row7 col1\" >0.0036</td>\n",
       "                        <td id=\"T_d9e10426_3841_11ea_9dda_acde48001122row7_col2\" class=\"data row7 col2\" >0.54</td>\n",
       "                        <td id=\"T_d9e10426_3841_11ea_9dda_acde48001122row7_col3\" class=\"data row7 col3\" >0.012</td>\n",
       "                        <td id=\"T_d9e10426_3841_11ea_9dda_acde48001122row7_col4\" class=\"data row7 col4\" >-0.0016</td>\n",
       "                        <td id=\"T_d9e10426_3841_11ea_9dda_acde48001122row7_col5\" class=\"data row7 col5\" >0.22</td>\n",
       "                        <td id=\"T_d9e10426_3841_11ea_9dda_acde48001122row7_col6\" class=\"data row7 col6\" >0.49</td>\n",
       "                        <td id=\"T_d9e10426_3841_11ea_9dda_acde48001122row7_col7\" class=\"data row7 col7\" >1</td>\n",
       "                        <td id=\"T_d9e10426_3841_11ea_9dda_acde48001122row7_col8\" class=\"data row7 col8\" >0.15</td>\n",
       "                        <td id=\"T_d9e10426_3841_11ea_9dda_acde48001122row7_col9\" class=\"data row7 col9\" >0.57</td>\n",
       "                        <td id=\"T_d9e10426_3841_11ea_9dda_acde48001122row7_col10\" class=\"data row7 col10\" >0.23</td>\n",
       "                        <td id=\"T_d9e10426_3841_11ea_9dda_acde48001122row7_col11\" class=\"data row7 col11\" >0.15</td>\n",
       "                        <td id=\"T_d9e10426_3841_11ea_9dda_acde48001122row7_col12\" class=\"data row7 col12\" >0.19</td>\n",
       "                        <td id=\"T_d9e10426_3841_11ea_9dda_acde48001122row7_col13\" class=\"data row7 col13\" >0.65</td>\n",
       "                        <td id=\"T_d9e10426_3841_11ea_9dda_acde48001122row7_col14\" class=\"data row7 col14\" >0.084</td>\n",
       "                        <td id=\"T_d9e10426_3841_11ea_9dda_acde48001122row7_col15\" class=\"data row7 col15\" >0.25</td>\n",
       "                        <td id=\"T_d9e10426_3841_11ea_9dda_acde48001122row7_col16\" class=\"data row7 col16\" >0.11</td>\n",
       "            </tr>\n",
       "            <tr>\n",
       "                        <th id=\"T_d9e10426_3841_11ea_9dda_acde48001122level0_row8\" class=\"row_heading level0 row8\" >joy</th>\n",
       "                        <td id=\"T_d9e10426_3841_11ea_9dda_acde48001122row8_col0\" class=\"data row8 col0\" >-0.0052</td>\n",
       "                        <td id=\"T_d9e10426_3841_11ea_9dda_acde48001122row8_col1\" class=\"data row8 col1\" >0.0042</td>\n",
       "                        <td id=\"T_d9e10426_3841_11ea_9dda_acde48001122row8_col2\" class=\"data row8 col2\" >0.13</td>\n",
       "                        <td id=\"T_d9e10426_3841_11ea_9dda_acde48001122row8_col3\" class=\"data row8 col3\" >0.098</td>\n",
       "                        <td id=\"T_d9e10426_3841_11ea_9dda_acde48001122row8_col4\" class=\"data row8 col4\" >5.5e-05</td>\n",
       "                        <td id=\"T_d9e10426_3841_11ea_9dda_acde48001122row8_col5\" class=\"data row8 col5\" >0.66</td>\n",
       "                        <td id=\"T_d9e10426_3841_11ea_9dda_acde48001122row8_col6\" class=\"data row8 col6\" >0.11</td>\n",
       "                        <td id=\"T_d9e10426_3841_11ea_9dda_acde48001122row8_col7\" class=\"data row8 col7\" >0.15</td>\n",
       "                        <td id=\"T_d9e10426_3841_11ea_9dda_acde48001122row8_col8\" class=\"data row8 col8\" >1</td>\n",
       "                        <td id=\"T_d9e10426_3841_11ea_9dda_acde48001122row8_col9\" class=\"data row8 col9\" >0.14</td>\n",
       "                        <td id=\"T_d9e10426_3841_11ea_9dda_acde48001122row8_col10\" class=\"data row8 col10\" >0.55</td>\n",
       "                        <td id=\"T_d9e10426_3841_11ea_9dda_acde48001122row8_col11\" class=\"data row8 col11\" >0.64</td>\n",
       "                        <td id=\"T_d9e10426_3841_11ea_9dda_acde48001122row8_col12\" class=\"data row8 col12\" >0.78</td>\n",
       "                        <td id=\"T_d9e10426_3841_11ea_9dda_acde48001122row8_col13\" class=\"data row8 col13\" >0.14</td>\n",
       "                        <td id=\"T_d9e10426_3841_11ea_9dda_acde48001122row8_col14\" class=\"data row8 col14\" >0.18</td>\n",
       "                        <td id=\"T_d9e10426_3841_11ea_9dda_acde48001122row8_col15\" class=\"data row8 col15\" >0.36</td>\n",
       "                        <td id=\"T_d9e10426_3841_11ea_9dda_acde48001122row8_col16\" class=\"data row8 col16\" >0.14</td>\n",
       "            </tr>\n",
       "            <tr>\n",
       "                        <th id=\"T_d9e10426_3841_11ea_9dda_acde48001122level0_row9\" class=\"row_heading level0 row9\" >sadness</th>\n",
       "                        <td id=\"T_d9e10426_3841_11ea_9dda_acde48001122row9_col0\" class=\"data row9 col0\" >-7.7e-05</td>\n",
       "                        <td id=\"T_d9e10426_3841_11ea_9dda_acde48001122row9_col1\" class=\"data row9 col1\" >0.0059</td>\n",
       "                        <td id=\"T_d9e10426_3841_11ea_9dda_acde48001122row9_col2\" class=\"data row9 col2\" >0.52</td>\n",
       "                        <td id=\"T_d9e10426_3841_11ea_9dda_acde48001122row9_col3\" class=\"data row9 col3\" >0.0054</td>\n",
       "                        <td id=\"T_d9e10426_3841_11ea_9dda_acde48001122row9_col4\" class=\"data row9 col4\" >-0.0078</td>\n",
       "                        <td id=\"T_d9e10426_3841_11ea_9dda_acde48001122row9_col5\" class=\"data row9 col5\" >0.15</td>\n",
       "                        <td id=\"T_d9e10426_3841_11ea_9dda_acde48001122row9_col6\" class=\"data row9 col6\" >0.5</td>\n",
       "                        <td id=\"T_d9e10426_3841_11ea_9dda_acde48001122row9_col7\" class=\"data row9 col7\" >0.57</td>\n",
       "                        <td id=\"T_d9e10426_3841_11ea_9dda_acde48001122row9_col8\" class=\"data row9 col8\" >0.14</td>\n",
       "                        <td id=\"T_d9e10426_3841_11ea_9dda_acde48001122row9_col9\" class=\"data row9 col9\" >1</td>\n",
       "                        <td id=\"T_d9e10426_3841_11ea_9dda_acde48001122row9_col10\" class=\"data row9 col10\" >0.16</td>\n",
       "                        <td id=\"T_d9e10426_3841_11ea_9dda_acde48001122row9_col11\" class=\"data row9 col11\" >0.14</td>\n",
       "                        <td id=\"T_d9e10426_3841_11ea_9dda_acde48001122row9_col12\" class=\"data row9 col12\" >0.16</td>\n",
       "                        <td id=\"T_d9e10426_3841_11ea_9dda_acde48001122row9_col13\" class=\"data row9 col13\" >0.66</td>\n",
       "                        <td id=\"T_d9e10426_3841_11ea_9dda_acde48001122row9_col14\" class=\"data row9 col14\" >0.049</td>\n",
       "                        <td id=\"T_d9e10426_3841_11ea_9dda_acde48001122row9_col15\" class=\"data row9 col15\" >0.22</td>\n",
       "                        <td id=\"T_d9e10426_3841_11ea_9dda_acde48001122row9_col16\" class=\"data row9 col16\" >0.066</td>\n",
       "            </tr>\n",
       "            <tr>\n",
       "                        <th id=\"T_d9e10426_3841_11ea_9dda_acde48001122level0_row10\" class=\"row_heading level0 row10\" >surprise</th>\n",
       "                        <td id=\"T_d9e10426_3841_11ea_9dda_acde48001122row10_col0\" class=\"data row10 col0\" >-0.0042</td>\n",
       "                        <td id=\"T_d9e10426_3841_11ea_9dda_acde48001122row10_col1\" class=\"data row10 col1\" >-0.00021</td>\n",
       "                        <td id=\"T_d9e10426_3841_11ea_9dda_acde48001122row10_col2\" class=\"data row10 col2\" >0.2</td>\n",
       "                        <td id=\"T_d9e10426_3841_11ea_9dda_acde48001122row10_col3\" class=\"data row10 col3\" >0.056</td>\n",
       "                        <td id=\"T_d9e10426_3841_11ea_9dda_acde48001122row10_col4\" class=\"data row10 col4\" >-0.005</td>\n",
       "                        <td id=\"T_d9e10426_3841_11ea_9dda_acde48001122row10_col5\" class=\"data row10 col5\" >0.51</td>\n",
       "                        <td id=\"T_d9e10426_3841_11ea_9dda_acde48001122row10_col6\" class=\"data row10 col6\" >0.16</td>\n",
       "                        <td id=\"T_d9e10426_3841_11ea_9dda_acde48001122row10_col7\" class=\"data row10 col7\" >0.23</td>\n",
       "                        <td id=\"T_d9e10426_3841_11ea_9dda_acde48001122row10_col8\" class=\"data row10 col8\" >0.55</td>\n",
       "                        <td id=\"T_d9e10426_3841_11ea_9dda_acde48001122row10_col9\" class=\"data row10 col9\" >0.16</td>\n",
       "                        <td id=\"T_d9e10426_3841_11ea_9dda_acde48001122row10_col10\" class=\"data row10 col10\" >1</td>\n",
       "                        <td id=\"T_d9e10426_3841_11ea_9dda_acde48001122row10_col11\" class=\"data row10 col11\" >0.4</td>\n",
       "                        <td id=\"T_d9e10426_3841_11ea_9dda_acde48001122row10_col12\" class=\"data row10 col12\" >0.46</td>\n",
       "                        <td id=\"T_d9e10426_3841_11ea_9dda_acde48001122row10_col13\" class=\"data row10 col13\" >0.21</td>\n",
       "                        <td id=\"T_d9e10426_3841_11ea_9dda_acde48001122row10_col14\" class=\"data row10 col14\" >0.12</td>\n",
       "                        <td id=\"T_d9e10426_3841_11ea_9dda_acde48001122row10_col15\" class=\"data row10 col15\" >0.28</td>\n",
       "                        <td id=\"T_d9e10426_3841_11ea_9dda_acde48001122row10_col16\" class=\"data row10 col16\" >0.11</td>\n",
       "            </tr>\n",
       "            <tr>\n",
       "                        <th id=\"T_d9e10426_3841_11ea_9dda_acde48001122level0_row11\" class=\"row_heading level0 row11\" >trust</th>\n",
       "                        <td id=\"T_d9e10426_3841_11ea_9dda_acde48001122row11_col0\" class=\"data row11 col0\" >-0.0015</td>\n",
       "                        <td id=\"T_d9e10426_3841_11ea_9dda_acde48001122row11_col1\" class=\"data row11 col1\" >0.00086</td>\n",
       "                        <td id=\"T_d9e10426_3841_11ea_9dda_acde48001122row11_col2\" class=\"data row11 col2\" >0.16</td>\n",
       "                        <td id=\"T_d9e10426_3841_11ea_9dda_acde48001122row11_col3\" class=\"data row11 col3\" >0.041</td>\n",
       "                        <td id=\"T_d9e10426_3841_11ea_9dda_acde48001122row11_col4\" class=\"data row11 col4\" >0.0038</td>\n",
       "                        <td id=\"T_d9e10426_3841_11ea_9dda_acde48001122row11_col5\" class=\"data row11 col5\" >0.49</td>\n",
       "                        <td id=\"T_d9e10426_3841_11ea_9dda_acde48001122row11_col6\" class=\"data row11 col6\" >0.14</td>\n",
       "                        <td id=\"T_d9e10426_3841_11ea_9dda_acde48001122row11_col7\" class=\"data row11 col7\" >0.15</td>\n",
       "                        <td id=\"T_d9e10426_3841_11ea_9dda_acde48001122row11_col8\" class=\"data row11 col8\" >0.64</td>\n",
       "                        <td id=\"T_d9e10426_3841_11ea_9dda_acde48001122row11_col9\" class=\"data row11 col9\" >0.14</td>\n",
       "                        <td id=\"T_d9e10426_3841_11ea_9dda_acde48001122row11_col10\" class=\"data row11 col10\" >0.4</td>\n",
       "                        <td id=\"T_d9e10426_3841_11ea_9dda_acde48001122row11_col11\" class=\"data row11 col11\" >1</td>\n",
       "                        <td id=\"T_d9e10426_3841_11ea_9dda_acde48001122row11_col12\" class=\"data row11 col12\" >0.65</td>\n",
       "                        <td id=\"T_d9e10426_3841_11ea_9dda_acde48001122row11_col13\" class=\"data row11 col13\" >0.14</td>\n",
       "                        <td id=\"T_d9e10426_3841_11ea_9dda_acde48001122row11_col14\" class=\"data row11 col14\" >0.14</td>\n",
       "                        <td id=\"T_d9e10426_3841_11ea_9dda_acde48001122row11_col15\" class=\"data row11 col15\" >0.36</td>\n",
       "                        <td id=\"T_d9e10426_3841_11ea_9dda_acde48001122row11_col16\" class=\"data row11 col16\" >0.13</td>\n",
       "            </tr>\n",
       "            <tr>\n",
       "                        <th id=\"T_d9e10426_3841_11ea_9dda_acde48001122level0_row12\" class=\"row_heading level0 row12\" >positive</th>\n",
       "                        <td id=\"T_d9e10426_3841_11ea_9dda_acde48001122row12_col0\" class=\"data row12 col0\" >-0.0062</td>\n",
       "                        <td id=\"T_d9e10426_3841_11ea_9dda_acde48001122row12_col1\" class=\"data row12 col1\" >0.0038</td>\n",
       "                        <td id=\"T_d9e10426_3841_11ea_9dda_acde48001122row12_col2\" class=\"data row12 col2\" >0.15</td>\n",
       "                        <td id=\"T_d9e10426_3841_11ea_9dda_acde48001122row12_col3\" class=\"data row12 col3\" >0.11</td>\n",
       "                        <td id=\"T_d9e10426_3841_11ea_9dda_acde48001122row12_col4\" class=\"data row12 col4\" >-0.0014</td>\n",
       "                        <td id=\"T_d9e10426_3841_11ea_9dda_acde48001122row12_col5\" class=\"data row12 col5\" >0.59</td>\n",
       "                        <td id=\"T_d9e10426_3841_11ea_9dda_acde48001122row12_col6\" class=\"data row12 col6\" >0.11</td>\n",
       "                        <td id=\"T_d9e10426_3841_11ea_9dda_acde48001122row12_col7\" class=\"data row12 col7\" >0.19</td>\n",
       "                        <td id=\"T_d9e10426_3841_11ea_9dda_acde48001122row12_col8\" class=\"data row12 col8\" >0.78</td>\n",
       "                        <td id=\"T_d9e10426_3841_11ea_9dda_acde48001122row12_col9\" class=\"data row12 col9\" >0.16</td>\n",
       "                        <td id=\"T_d9e10426_3841_11ea_9dda_acde48001122row12_col10\" class=\"data row12 col10\" >0.46</td>\n",
       "                        <td id=\"T_d9e10426_3841_11ea_9dda_acde48001122row12_col11\" class=\"data row12 col11\" >0.65</td>\n",
       "                        <td id=\"T_d9e10426_3841_11ea_9dda_acde48001122row12_col12\" class=\"data row12 col12\" >1</td>\n",
       "                        <td id=\"T_d9e10426_3841_11ea_9dda_acde48001122row12_col13\" class=\"data row12 col13\" >0.18</td>\n",
       "                        <td id=\"T_d9e10426_3841_11ea_9dda_acde48001122row12_col14\" class=\"data row12 col14\" >0.23</td>\n",
       "                        <td id=\"T_d9e10426_3841_11ea_9dda_acde48001122row12_col15\" class=\"data row12 col15\" >0.5</td>\n",
       "                        <td id=\"T_d9e10426_3841_11ea_9dda_acde48001122row12_col16\" class=\"data row12 col16\" >0.2</td>\n",
       "            </tr>\n",
       "            <tr>\n",
       "                        <th id=\"T_d9e10426_3841_11ea_9dda_acde48001122level0_row13\" class=\"row_heading level0 row13\" >negative</th>\n",
       "                        <td id=\"T_d9e10426_3841_11ea_9dda_acde48001122row13_col0\" class=\"data row13 col0\" >-0.00068</td>\n",
       "                        <td id=\"T_d9e10426_3841_11ea_9dda_acde48001122row13_col1\" class=\"data row13 col1\" >0.0044</td>\n",
       "                        <td id=\"T_d9e10426_3841_11ea_9dda_acde48001122row13_col2\" class=\"data row13 col2\" >0.62</td>\n",
       "                        <td id=\"T_d9e10426_3841_11ea_9dda_acde48001122row13_col3\" class=\"data row13 col3\" >0.012</td>\n",
       "                        <td id=\"T_d9e10426_3841_11ea_9dda_acde48001122row13_col4\" class=\"data row13 col4\" >-0.013</td>\n",
       "                        <td id=\"T_d9e10426_3841_11ea_9dda_acde48001122row13_col5\" class=\"data row13 col5\" >0.22</td>\n",
       "                        <td id=\"T_d9e10426_3841_11ea_9dda_acde48001122row13_col6\" class=\"data row13 col6\" >0.57</td>\n",
       "                        <td id=\"T_d9e10426_3841_11ea_9dda_acde48001122row13_col7\" class=\"data row13 col7\" >0.65</td>\n",
       "                        <td id=\"T_d9e10426_3841_11ea_9dda_acde48001122row13_col8\" class=\"data row13 col8\" >0.14</td>\n",
       "                        <td id=\"T_d9e10426_3841_11ea_9dda_acde48001122row13_col9\" class=\"data row13 col9\" >0.66</td>\n",
       "                        <td id=\"T_d9e10426_3841_11ea_9dda_acde48001122row13_col10\" class=\"data row13 col10\" >0.21</td>\n",
       "                        <td id=\"T_d9e10426_3841_11ea_9dda_acde48001122row13_col11\" class=\"data row13 col11\" >0.14</td>\n",
       "                        <td id=\"T_d9e10426_3841_11ea_9dda_acde48001122row13_col12\" class=\"data row13 col12\" >0.18</td>\n",
       "                        <td id=\"T_d9e10426_3841_11ea_9dda_acde48001122row13_col13\" class=\"data row13 col13\" >1</td>\n",
       "                        <td id=\"T_d9e10426_3841_11ea_9dda_acde48001122row13_col14\" class=\"data row13 col14\" >0.072</td>\n",
       "                        <td id=\"T_d9e10426_3841_11ea_9dda_acde48001122row13_col15\" class=\"data row13 col15\" >0.29</td>\n",
       "                        <td id=\"T_d9e10426_3841_11ea_9dda_acde48001122row13_col16\" class=\"data row13 col16\" >0.096</td>\n",
       "            </tr>\n",
       "            <tr>\n",
       "                        <th id=\"T_d9e10426_3841_11ea_9dda_acde48001122level0_row14\" class=\"row_heading level0 row14\" >punc_count</th>\n",
       "                        <td id=\"T_d9e10426_3841_11ea_9dda_acde48001122row14_col0\" class=\"data row14 col0\" >0.021</td>\n",
       "                        <td id=\"T_d9e10426_3841_11ea_9dda_acde48001122row14_col1\" class=\"data row14 col1\" >0.0098</td>\n",
       "                        <td id=\"T_d9e10426_3841_11ea_9dda_acde48001122row14_col2\" class=\"data row14 col2\" >0.016</td>\n",
       "                        <td id=\"T_d9e10426_3841_11ea_9dda_acde48001122row14_col3\" class=\"data row14 col3\" >0.6</td>\n",
       "                        <td id=\"T_d9e10426_3841_11ea_9dda_acde48001122row14_col4\" class=\"data row14 col4\" >0.26</td>\n",
       "                        <td id=\"T_d9e10426_3841_11ea_9dda_acde48001122row14_col5\" class=\"data row14 col5\" >0.18</td>\n",
       "                        <td id=\"T_d9e10426_3841_11ea_9dda_acde48001122row14_col6\" class=\"data row14 col6\" >0.0024</td>\n",
       "                        <td id=\"T_d9e10426_3841_11ea_9dda_acde48001122row14_col7\" class=\"data row14 col7\" >0.084</td>\n",
       "                        <td id=\"T_d9e10426_3841_11ea_9dda_acde48001122row14_col8\" class=\"data row14 col8\" >0.18</td>\n",
       "                        <td id=\"T_d9e10426_3841_11ea_9dda_acde48001122row14_col9\" class=\"data row14 col9\" >0.049</td>\n",
       "                        <td id=\"T_d9e10426_3841_11ea_9dda_acde48001122row14_col10\" class=\"data row14 col10\" >0.12</td>\n",
       "                        <td id=\"T_d9e10426_3841_11ea_9dda_acde48001122row14_col11\" class=\"data row14 col11\" >0.14</td>\n",
       "                        <td id=\"T_d9e10426_3841_11ea_9dda_acde48001122row14_col12\" class=\"data row14 col12\" >0.23</td>\n",
       "                        <td id=\"T_d9e10426_3841_11ea_9dda_acde48001122row14_col13\" class=\"data row14 col13\" >0.072</td>\n",
       "                        <td id=\"T_d9e10426_3841_11ea_9dda_acde48001122row14_col14\" class=\"data row14 col14\" >1</td>\n",
       "                        <td id=\"T_d9e10426_3841_11ea_9dda_acde48001122row14_col15\" class=\"data row14 col15\" >0.68</td>\n",
       "                        <td id=\"T_d9e10426_3841_11ea_9dda_acde48001122row14_col16\" class=\"data row14 col16\" >0.51</td>\n",
       "            </tr>\n",
       "            <tr>\n",
       "                        <th id=\"T_d9e10426_3841_11ea_9dda_acde48001122level0_row15\" class=\"row_heading level0 row15\" >tweet_len</th>\n",
       "                        <td id=\"T_d9e10426_3841_11ea_9dda_acde48001122row15_col0\" class=\"data row15 col0\" >0.0081</td>\n",
       "                        <td id=\"T_d9e10426_3841_11ea_9dda_acde48001122row15_col1\" class=\"data row15 col1\" >0.0097</td>\n",
       "                        <td id=\"T_d9e10426_3841_11ea_9dda_acde48001122row15_col2\" class=\"data row15 col2\" >0.18</td>\n",
       "                        <td id=\"T_d9e10426_3841_11ea_9dda_acde48001122row15_col3\" class=\"data row15 col3\" >0.43</td>\n",
       "                        <td id=\"T_d9e10426_3841_11ea_9dda_acde48001122row15_col4\" class=\"data row15 col4\" >0.21</td>\n",
       "                        <td id=\"T_d9e10426_3841_11ea_9dda_acde48001122row15_col5\" class=\"data row15 col5\" >0.4</td>\n",
       "                        <td id=\"T_d9e10426_3841_11ea_9dda_acde48001122row15_col6\" class=\"data row15 col6\" >0.14</td>\n",
       "                        <td id=\"T_d9e10426_3841_11ea_9dda_acde48001122row15_col7\" class=\"data row15 col7\" >0.25</td>\n",
       "                        <td id=\"T_d9e10426_3841_11ea_9dda_acde48001122row15_col8\" class=\"data row15 col8\" >0.36</td>\n",
       "                        <td id=\"T_d9e10426_3841_11ea_9dda_acde48001122row15_col9\" class=\"data row15 col9\" >0.22</td>\n",
       "                        <td id=\"T_d9e10426_3841_11ea_9dda_acde48001122row15_col10\" class=\"data row15 col10\" >0.28</td>\n",
       "                        <td id=\"T_d9e10426_3841_11ea_9dda_acde48001122row15_col11\" class=\"data row15 col11\" >0.36</td>\n",
       "                        <td id=\"T_d9e10426_3841_11ea_9dda_acde48001122row15_col12\" class=\"data row15 col12\" >0.5</td>\n",
       "                        <td id=\"T_d9e10426_3841_11ea_9dda_acde48001122row15_col13\" class=\"data row15 col13\" >0.29</td>\n",
       "                        <td id=\"T_d9e10426_3841_11ea_9dda_acde48001122row15_col14\" class=\"data row15 col14\" >0.68</td>\n",
       "                        <td id=\"T_d9e10426_3841_11ea_9dda_acde48001122row15_col15\" class=\"data row15 col15\" >1</td>\n",
       "                        <td id=\"T_d9e10426_3841_11ea_9dda_acde48001122row15_col16\" class=\"data row15 col16\" >0.5</td>\n",
       "            </tr>\n",
       "            <tr>\n",
       "                        <th id=\"T_d9e10426_3841_11ea_9dda_acde48001122level0_row16\" class=\"row_heading level0 row16\" >cap_count</th>\n",
       "                        <td id=\"T_d9e10426_3841_11ea_9dda_acde48001122row16_col0\" class=\"data row16 col0\" >0.027</td>\n",
       "                        <td id=\"T_d9e10426_3841_11ea_9dda_acde48001122row16_col1\" class=\"data row16 col1\" >0.0059</td>\n",
       "                        <td id=\"T_d9e10426_3841_11ea_9dda_acde48001122row16_col2\" class=\"data row16 col2\" >0.037</td>\n",
       "                        <td id=\"T_d9e10426_3841_11ea_9dda_acde48001122row16_col3\" class=\"data row16 col3\" >0.25</td>\n",
       "                        <td id=\"T_d9e10426_3841_11ea_9dda_acde48001122row16_col4\" class=\"data row16 col4\" >0.2</td>\n",
       "                        <td id=\"T_d9e10426_3841_11ea_9dda_acde48001122row16_col5\" class=\"data row16 col5\" >0.17</td>\n",
       "                        <td id=\"T_d9e10426_3841_11ea_9dda_acde48001122row16_col6\" class=\"data row16 col6\" >0.022</td>\n",
       "                        <td id=\"T_d9e10426_3841_11ea_9dda_acde48001122row16_col7\" class=\"data row16 col7\" >0.11</td>\n",
       "                        <td id=\"T_d9e10426_3841_11ea_9dda_acde48001122row16_col8\" class=\"data row16 col8\" >0.14</td>\n",
       "                        <td id=\"T_d9e10426_3841_11ea_9dda_acde48001122row16_col9\" class=\"data row16 col9\" >0.066</td>\n",
       "                        <td id=\"T_d9e10426_3841_11ea_9dda_acde48001122row16_col10\" class=\"data row16 col10\" >0.11</td>\n",
       "                        <td id=\"T_d9e10426_3841_11ea_9dda_acde48001122row16_col11\" class=\"data row16 col11\" >0.13</td>\n",
       "                        <td id=\"T_d9e10426_3841_11ea_9dda_acde48001122row16_col12\" class=\"data row16 col12\" >0.2</td>\n",
       "                        <td id=\"T_d9e10426_3841_11ea_9dda_acde48001122row16_col13\" class=\"data row16 col13\" >0.096</td>\n",
       "                        <td id=\"T_d9e10426_3841_11ea_9dda_acde48001122row16_col14\" class=\"data row16 col14\" >0.51</td>\n",
       "                        <td id=\"T_d9e10426_3841_11ea_9dda_acde48001122row16_col15\" class=\"data row16 col15\" >0.5</td>\n",
       "                        <td id=\"T_d9e10426_3841_11ea_9dda_acde48001122row16_col16\" class=\"data row16 col16\" >1</td>\n",
       "            </tr>\n",
       "    </tbody></table>"
      ],
      "text/plain": [
       "<pandas.io.formats.style.Styler at 0x1acf698630>"
      ]
     },
     "execution_count": 59,
     "metadata": {},
     "output_type": "execute_result"
    }
   ],
   "source": [
    "corr.style.background_gradient(cmap='coolwarm').set_precision(2)"
   ]
  },
  {
   "cell_type": "code",
   "execution_count": 64,
   "metadata": {},
   "outputs": [
    {
     "data": {
      "text/html": [
       "<div>\n",
       "<style scoped>\n",
       "    .dataframe tbody tr th:only-of-type {\n",
       "        vertical-align: middle;\n",
       "    }\n",
       "\n",
       "    .dataframe tbody tr th {\n",
       "        vertical-align: top;\n",
       "    }\n",
       "\n",
       "    .dataframe thead th {\n",
       "        text-align: right;\n",
       "    }\n",
       "</style>\n",
       "<table border=\"1\" class=\"dataframe\">\n",
       "  <thead>\n",
       "    <tr style=\"text-align: right;\">\n",
       "      <th></th>\n",
       "      <th>user_favorite</th>\n",
       "      <th>user_follower</th>\n",
       "      <th>anger</th>\n",
       "      <th>hash_count</th>\n",
       "      <th>mention_count</th>\n",
       "      <th>anticipation</th>\n",
       "      <th>disgust</th>\n",
       "      <th>fear</th>\n",
       "      <th>joy</th>\n",
       "      <th>sadness</th>\n",
       "      <th>surprise</th>\n",
       "      <th>trust</th>\n",
       "      <th>positive</th>\n",
       "      <th>negative</th>\n",
       "      <th>punc_count</th>\n",
       "      <th>tweet_len</th>\n",
       "      <th>cap_count</th>\n",
       "    </tr>\n",
       "  </thead>\n",
       "  <tbody>\n",
       "    <tr>\n",
       "      <th>count</th>\n",
       "      <td>87,505.000</td>\n",
       "      <td>87,505.000</td>\n",
       "      <td>87,510.000</td>\n",
       "      <td>87,510.000</td>\n",
       "      <td>87,510.000</td>\n",
       "      <td>87,510.000</td>\n",
       "      <td>87,510.000</td>\n",
       "      <td>87,510.000</td>\n",
       "      <td>87,510.000</td>\n",
       "      <td>87,510.000</td>\n",
       "      <td>87,510.000</td>\n",
       "      <td>87,510.000</td>\n",
       "      <td>87,510.000</td>\n",
       "      <td>87,510.000</td>\n",
       "      <td>87,510.000</td>\n",
       "      <td>87,510.000</td>\n",
       "      <td>87,510.000</td>\n",
       "    </tr>\n",
       "    <tr>\n",
       "      <th>mean</th>\n",
       "      <td>21,634.186</td>\n",
       "      <td>9,617.335</td>\n",
       "      <td>0.174</td>\n",
       "      <td>1.055</td>\n",
       "      <td>0.571</td>\n",
       "      <td>0.529</td>\n",
       "      <td>0.137</td>\n",
       "      <td>0.229</td>\n",
       "      <td>0.441</td>\n",
       "      <td>0.203</td>\n",
       "      <td>0.244</td>\n",
       "      <td>0.382</td>\n",
       "      <td>0.789</td>\n",
       "      <td>0.404</td>\n",
       "      <td>6.795</td>\n",
       "      <td>103.565</td>\n",
       "      <td>9.776</td>\n",
       "    </tr>\n",
       "    <tr>\n",
       "      <th>std</th>\n",
       "      <td>46,514.690</td>\n",
       "      <td>367,571.638</td>\n",
       "      <td>0.440</td>\n",
       "      <td>2.410</td>\n",
       "      <td>1.239</td>\n",
       "      <td>0.811</td>\n",
       "      <td>0.389</td>\n",
       "      <td>0.518</td>\n",
       "      <td>0.740</td>\n",
       "      <td>0.472</td>\n",
       "      <td>0.519</td>\n",
       "      <td>0.676</td>\n",
       "      <td>1.055</td>\n",
       "      <td>0.708</td>\n",
       "      <td>5.879</td>\n",
       "      <td>63.420</td>\n",
       "      <td>10.165</td>\n",
       "    </tr>\n",
       "    <tr>\n",
       "      <th>min</th>\n",
       "      <td>0.000</td>\n",
       "      <td>0.000</td>\n",
       "      <td>0.000</td>\n",
       "      <td>0.000</td>\n",
       "      <td>0.000</td>\n",
       "      <td>0.000</td>\n",
       "      <td>0.000</td>\n",
       "      <td>0.000</td>\n",
       "      <td>0.000</td>\n",
       "      <td>0.000</td>\n",
       "      <td>0.000</td>\n",
       "      <td>0.000</td>\n",
       "      <td>0.000</td>\n",
       "      <td>0.000</td>\n",
       "      <td>0.000</td>\n",
       "      <td>0.000</td>\n",
       "      <td>0.000</td>\n",
       "    </tr>\n",
       "    <tr>\n",
       "      <th>25%</th>\n",
       "      <td>877.000</td>\n",
       "      <td>95.000</td>\n",
       "      <td>0.000</td>\n",
       "      <td>0.000</td>\n",
       "      <td>0.000</td>\n",
       "      <td>0.000</td>\n",
       "      <td>0.000</td>\n",
       "      <td>0.000</td>\n",
       "      <td>0.000</td>\n",
       "      <td>0.000</td>\n",
       "      <td>0.000</td>\n",
       "      <td>0.000</td>\n",
       "      <td>0.000</td>\n",
       "      <td>0.000</td>\n",
       "      <td>2.000</td>\n",
       "      <td>56.000</td>\n",
       "      <td>3.000</td>\n",
       "    </tr>\n",
       "    <tr>\n",
       "      <th>50%</th>\n",
       "      <td>5,775.000</td>\n",
       "      <td>324.000</td>\n",
       "      <td>0.000</td>\n",
       "      <td>0.000</td>\n",
       "      <td>0.000</td>\n",
       "      <td>0.000</td>\n",
       "      <td>0.000</td>\n",
       "      <td>0.000</td>\n",
       "      <td>0.000</td>\n",
       "      <td>0.000</td>\n",
       "      <td>0.000</td>\n",
       "      <td>0.000</td>\n",
       "      <td>0.000</td>\n",
       "      <td>0.000</td>\n",
       "      <td>6.000</td>\n",
       "      <td>92.000</td>\n",
       "      <td>8.000</td>\n",
       "    </tr>\n",
       "    <tr>\n",
       "      <th>75%</th>\n",
       "      <td>21,280.000</td>\n",
       "      <td>922.000</td>\n",
       "      <td>0.000</td>\n",
       "      <td>1.000</td>\n",
       "      <td>1.000</td>\n",
       "      <td>1.000</td>\n",
       "      <td>0.000</td>\n",
       "      <td>0.000</td>\n",
       "      <td>1.000</td>\n",
       "      <td>0.000</td>\n",
       "      <td>0.000</td>\n",
       "      <td>1.000</td>\n",
       "      <td>1.000</td>\n",
       "      <td>1.000</td>\n",
       "      <td>10.000</td>\n",
       "      <td>130.000</td>\n",
       "      <td>13.000</td>\n",
       "    </tr>\n",
       "    <tr>\n",
       "      <th>max</th>\n",
       "      <td>1,291,782.000</td>\n",
       "      <td>78,807,958.000</td>\n",
       "      <td>5.000</td>\n",
       "      <td>33.000</td>\n",
       "      <td>50.000</td>\n",
       "      <td>8.000</td>\n",
       "      <td>5.000</td>\n",
       "      <td>6.000</td>\n",
       "      <td>10.000</td>\n",
       "      <td>5.000</td>\n",
       "      <td>8.000</td>\n",
       "      <td>7.000</td>\n",
       "      <td>11.000</td>\n",
       "      <td>8.000</td>\n",
       "      <td>122.000</td>\n",
       "      <td>873.000</td>\n",
       "      <td>236.000</td>\n",
       "    </tr>\n",
       "  </tbody>\n",
       "</table>\n",
       "</div>"
      ],
      "text/plain": [
       "       user_favorite  user_follower      anger  hash_count  mention_count  \\\n",
       "count 87,505.000     87,505.000     87,510.000 87,510.000  87,510.000       \n",
       "mean  21,634.186     9,617.335      0.174      1.055       0.571            \n",
       "std   46,514.690     367,571.638    0.440      2.410       1.239            \n",
       "min   0.000          0.000          0.000      0.000       0.000            \n",
       "25%   877.000        95.000         0.000      0.000       0.000            \n",
       "50%   5,775.000      324.000        0.000      0.000       0.000            \n",
       "75%   21,280.000     922.000        0.000      1.000       1.000            \n",
       "max   1,291,782.000  78,807,958.000 5.000      33.000      50.000           \n",
       "\n",
       "       anticipation    disgust       fear        joy    sadness   surprise  \\\n",
       "count 87,510.000    87,510.000 87,510.000 87,510.000 87,510.000 87,510.000   \n",
       "mean  0.529         0.137      0.229      0.441      0.203      0.244        \n",
       "std   0.811         0.389      0.518      0.740      0.472      0.519        \n",
       "min   0.000         0.000      0.000      0.000      0.000      0.000        \n",
       "25%   0.000         0.000      0.000      0.000      0.000      0.000        \n",
       "50%   0.000         0.000      0.000      0.000      0.000      0.000        \n",
       "75%   1.000         0.000      0.000      1.000      0.000      0.000        \n",
       "max   8.000         5.000      6.000      10.000     5.000      8.000        \n",
       "\n",
       "           trust   positive   negative  punc_count  tweet_len  cap_count  \n",
       "count 87,510.000 87,510.000 87,510.000 87,510.000  87,510.000 87,510.000  \n",
       "mean  0.382      0.789      0.404      6.795       103.565    9.776       \n",
       "std   0.676      1.055      0.708      5.879       63.420     10.165      \n",
       "min   0.000      0.000      0.000      0.000       0.000      0.000       \n",
       "25%   0.000      0.000      0.000      2.000       56.000     3.000       \n",
       "50%   0.000      0.000      0.000      6.000       92.000     8.000       \n",
       "75%   1.000      1.000      1.000      10.000      130.000    13.000      \n",
       "max   7.000      11.000     8.000      122.000     873.000    236.000     "
      ]
     },
     "execution_count": 64,
     "metadata": {},
     "output_type": "execute_result"
    }
   ],
   "source": [
    "df3[['user_favorite', 'user_follower', 'anger', 'hash_count', 'mention_count', 'anticipation', 'disgust', 'fear',\n",
    "              'joy', 'sadness', 'surprise', 'trust', 'positive', 'negative', 'punc_count', 'tweet_len', 'cap_count']].describe()"
   ]
  },
  {
   "cell_type": "code",
   "execution_count": 67,
   "metadata": {},
   "outputs": [
    {
     "data": {
      "image/png": "[encoded data removed]",
      "text/plain": [
       "<Figure size 432x288 with 1 Axes>"
      ]
     },
     "metadata": {
      "needs_background": "light"
     },
     "output_type": "display_data"
    },
    {
     "data": {
      "image/png": "[encoded data removed]",
      "text/plain": [
       "<Figure size 432x288 with 1 Axes>"
      ]
     },
     "metadata": {
      "needs_background": "light"
     },
     "output_type": "display_data"
    },
    {
     "data": {
      "image/png": "[encoded data removed]",
      "text/plain": [
       "<Figure size 432x288 with 1 Axes>"
      ]
     },
     "metadata": {
      "needs_background": "light"
     },
     "output_type": "display_data"
    },
    {
     "data": {
      "image/png": "[encoded data removed]",
      "text/plain": [
       "<Figure size 432x288 with 1 Axes>"
      ]
     },
     "metadata": {
      "needs_background": "light"
     },
     "output_type": "display_data"
    },
    {
     "data": {
      "image/png": "[encoded data removed]",
      "text/plain": [
       "<Figure size 432x288 with 1 Axes>"
      ]
     },
     "metadata": {
      "needs_background": "light"
     },
     "output_type": "display_data"
    }
   ],
   "source": [
    "#Box-cox transformation for punct_count\n",
    "for i in [1,2,3,4,5]:\n",
    "    plt.hist(df3['punc_count']**(1/i),bins =20)\n",
    "    plt.title('Transformation : 1/{}'.format(str(i)))\n",
    "    plt.show()"
   ]
  },
  {
   "cell_type": "code",
   "execution_count": 67,
   "metadata": {},
   "outputs": [
    {
     "data": {
      "image/png": "[encoded data removed]",
      "text/plain": [
       "<Figure size 432x288 with 1 Axes>"
      ]
     },
     "metadata": {
      "needs_background": "light"
     },
     "output_type": "display_data"
    },
    {
     "data": {
      "image/png": "[encoded data removed]",
      "text/plain": [
       "<Figure size 432x288 with 1 Axes>"
      ]
     },
     "metadata": {
      "needs_background": "light"
     },
     "output_type": "display_data"
    },
    {
     "data": {
      "image/png": "[encoded data removed]",
      "text/plain": [
       "<Figure size 432x288 with 1 Axes>"
      ]
     },
     "metadata": {
      "needs_background": "light"
     },
     "output_type": "display_data"
    },
    {
     "data": {
      "image/png": "[encoded data removed]",
      "text/plain": [
       "<Figure size 432x288 with 1 Axes>"
      ]
     },
     "metadata": {
      "needs_background": "light"
     },
     "output_type": "display_data"
    },
    {
     "data": {
      "image/png": "[encoded data removed]",
      "text/plain": [
       "<Figure size 432x288 with 1 Axes>"
      ]
     },
     "metadata": {
      "needs_background": "light"
     },
     "output_type": "display_data"
    }
   ],
   "source": [
    "#Box-cox transformation for punct_count\n",
    "for i in [1,2,3,4,5]:\n",
    "    plt.hist(df3['tweet_len']**(1/i),bins =20)\n",
    "    plt.title('Transformation : 1/{}'.format(str(i)))\n",
    "    plt.show()"
   ]
  },
  {
   "cell_type": "code",
   "execution_count": 69,
   "metadata": {},
   "outputs": [
    {
     "data": {
      "image/png": "[encoded data removed]",
      "text/plain": [
       "<Figure size 432x288 with 1 Axes>"
      ]
     },
     "metadata": {
      "needs_background": "light"
     },
     "output_type": "display_data"
    },
    {
     "data": {
      "image/png": "[encoded data removed]",
      "text/plain": [
       "<Figure size 432x288 with 1 Axes>"
      ]
     },
     "metadata": {
      "needs_background": "light"
     },
     "output_type": "display_data"
    },
    {
     "data": {
      "image/png": "[encoded data removed]",
      "text/plain": [
       "<Figure size 432x288 with 1 Axes>"
      ]
     },
     "metadata": {
      "needs_background": "light"
     },
     "output_type": "display_data"
    },
    {
     "data": {
      "image/png": "[encoded data removed]",
      "text/plain": [
       "<Figure size 432x288 with 1 Axes>"
      ]
     },
     "metadata": {
      "needs_background": "light"
     },
     "output_type": "display_data"
    },
    {
     "data": {
      "image/png": "[encoded data removed]",
      "text/plain": [
       "<Figure size 432x288 with 1 Axes>"
      ]
     },
     "metadata": {
      "needs_background": "light"
     },
     "output_type": "display_data"
    }
   ],
   "source": [
    "#Box-cox transformation for hashtag count\n",
    "for i in [1,2,3,4,5]:\n",
    "    plt.hist(df3['hash_count']**(1/i),bins =8)\n",
    "    plt.title('Transformation : 1/{}'.format(str(i)))\n",
    "    plt.show()"
   ]
  },
  {
   "cell_type": "code",
   "execution_count": 63,
   "metadata": {},
   "outputs": [
    {
     "data": {
      "image/png": "[encoded data removed]",
      "text/plain": [
       "<Figure size 432x288 with 1 Axes>"
      ]
     },
     "metadata": {
      "needs_background": "light"
     },
     "output_type": "display_data"
    },
    {
     "data": {
      "image/png": "[encoded data removed]",
      "text/plain": [
       "<Figure size 432x288 with 1 Axes>"
      ]
     },
     "metadata": {
      "needs_background": "light"
     },
     "output_type": "display_data"
    },
    {
     "data": {
      "image/png": "[encoded data removed]",
      "text/plain": [
       "<Figure size 432x288 with 1 Axes>"
      ]
     },
     "metadata": {
      "needs_background": "light"
     },
     "output_type": "display_data"
    },
    {
     "data": {
      "image/png": "[encoded data removed]",
      "text/plain": [
       "<Figure size 432x288 with 1 Axes>"
      ]
     },
     "metadata": {
      "needs_background": "light"
     },
     "output_type": "display_data"
    },
    {
     "data": {
      "image/png": "[encoded data removed]",
      "text/plain": [
       "<Figure size 432x288 with 1 Axes>"
      ]
     },
     "metadata": {
      "needs_background": "light"
     },
     "output_type": "display_data"
    }
   ],
   "source": [
    "#Box-cox transformation for emoji count\n",
    "for i in [1,2,3,4,5]:\n",
    "    plt.hist(df3['emoji_count']**(1/i),bins =8)\n",
    "    plt.title('Transformation : 1/{}'.format(str(i)))\n",
    "    plt.show()"
   ]
  },
  {
   "cell_type": "code",
   "execution_count": 65,
   "metadata": {},
   "outputs": [
    {
     "name": "stderr",
     "output_type": "stream",
     "text": [
      "/Users/justin/anaconda3/lib/python3.7/site-packages/numpy/lib/histograms.py:824: RuntimeWarning: invalid value encountered in greater_equal\n",
      "  keep = (tmp_a >= first_edge)\n",
      "/Users/justin/anaconda3/lib/python3.7/site-packages/numpy/lib/histograms.py:825: RuntimeWarning: invalid value encountered in less_equal\n",
      "  keep &= (tmp_a <= last_edge)\n"
     ]
    },
    {
     "data": {
      "image/png": "[encoded data removed]",
      "text/plain": [
       "<Figure size 432x288 with 1 Axes>"
      ]
     },
     "metadata": {
      "needs_background": "light"
     },
     "output_type": "display_data"
    },
    {
     "data": {
      "image/png": "[encoded data removed]",
      "text/plain": [
       "<Figure size 432x288 with 1 Axes>"
      ]
     },
     "metadata": {
      "needs_background": "light"
     },
     "output_type": "display_data"
    },
    {
     "data": {
      "image/png": "[encoded data removed]",
      "text/plain": [
       "<Figure size 432x288 with 1 Axes>"
      ]
     },
     "metadata": {
      "needs_background": "light"
     },
     "output_type": "display_data"
    },
    {
     "data": {
      "image/png": "[encoded data removed]",
      "text/plain": [
       "<Figure size 432x288 with 1 Axes>"
      ]
     },
     "metadata": {
      "needs_background": "light"
     },
     "output_type": "display_data"
    },
    {
     "data": {
      "image/png": "[encoded data removed]",
      "text/plain": [
       "<Figure size 432x288 with 1 Axes>"
      ]
     },
     "metadata": {
      "needs_background": "light"
     },
     "output_type": "display_data"
    }
   ],
   "source": [
    "#Box-cox transformation for emoji count\n",
    "for i in [1,2,3,4,5]:\n",
    "    plt.hist(df3['user_follower']**(1/i),bins =8)\n",
    "    plt.title('Transformation : 1/{}'.format(str(i)))\n",
    "    plt.show()"
   ]
  },
  {
   "cell_type": "code",
   "execution_count": 66,
   "metadata": {},
   "outputs": [
    {
     "data": {
      "image/png": "[encoded data removed]",
      "text/plain": [
       "<Figure size 432x288 with 1 Axes>"
      ]
     },
     "metadata": {
      "needs_background": "light"
     },
     "output_type": "display_data"
    },
    {
     "data": {
      "image/png": "[encoded data removed]",
      "text/plain": [
       "<Figure size 432x288 with 1 Axes>"
      ]
     },
     "metadata": {
      "needs_background": "light"
     },
     "output_type": "display_data"
    },
    {
     "data": {
      "image/png": "[encoded data removed]",
      "text/plain": [
       "<Figure size 432x288 with 1 Axes>"
      ]
     },
     "metadata": {
      "needs_background": "light"
     },
     "output_type": "display_data"
    },
    {
     "data": {
      "image/png": "[encoded data removed]",
      "text/plain": [
       "<Figure size 432x288 with 1 Axes>"
      ]
     },
     "metadata": {
      "needs_background": "light"
     },
     "output_type": "display_data"
    },
    {
     "data": {
      "image/png": "[encoded data removed]",
      "text/plain": [
       "<Figure size 432x288 with 1 Axes>"
      ]
     },
     "metadata": {
      "needs_background": "light"
     },
     "output_type": "display_data"
    }
   ],
   "source": [
    "#Box-cox transformation for user_favorite count\n",
    "for i in [1,2,3,4,5]:\n",
    "    plt.hist(df3['user_favorite']**(1/i),bins =8)\n",
    "    plt.title('Transformation : 1/{}'.format(str(i)))\n",
    "    plt.show()"
   ]
  },
  {
   "cell_type": "code",
   "execution_count": 68,
   "metadata": {},
   "outputs": [
    {
     "data": {
      "image/png": "[encoded data removed]",
      "text/plain": [
       "<Figure size 432x288 with 1 Axes>"
      ]
     },
     "metadata": {
      "needs_background": "light"
     },
     "output_type": "display_data"
    },
    {
     "data": {
      "image/png": "[encoded data removed]",
      "text/plain": [
       "<Figure size 432x288 with 1 Axes>"
      ]
     },
     "metadata": {
      "needs_background": "light"
     },
     "output_type": "display_data"
    },
    {
     "data": {
      "image/png": "[encoded data removed]",
      "text/plain": [
       "<Figure size 432x288 with 1 Axes>"
      ]
     },
     "metadata": {
      "needs_background": "light"
     },
     "output_type": "display_data"
    },
    {
     "data": {
      "image/png": "[encoded data removed]",
      "text/plain": [
       "<Figure size 432x288 with 1 Axes>"
      ]
     },
     "metadata": {
      "needs_background": "light"
     },
     "output_type": "display_data"
    },
    {
     "data": {
      "image/png": "[encoded data removed]",
      "text/plain": [
       "<Figure size 432x288 with 1 Axes>"
      ]
     },
     "metadata": {
      "needs_background": "light"
     },
     "output_type": "display_data"
    }
   ],
   "source": [
    "#Box-cox transformation for cap_count count\n",
    "for i in [1,2,3,4,5]:\n",
    "    plt.hist(df3['cap_count']**(1/i),bins =8)\n",
    "    plt.title('Transformation : 1/{}'.format(str(i)))\n",
    "    plt.show()"
   ]
  },
  {
   "cell_type": "code",
   "execution_count": 82,
   "metadata": {},
   "outputs": [],
   "source": [
    "#drop columns we won't use for Machine learning and feature engineering\n",
    "df4 = df3.loc[:,['language', 'hash_count','emoji_count', 'clean_text', \n",
    "                 'label', 'anger', 'anticipation', 'disgust', 'fear', 'joy', 'sadness',\n",
    "       'surprise', 'trust', 'punc_count', 'tweet_len',\n",
    "       'cap_count','user_follower','user_favorite']]"
   ]
  },
  {
   "cell_type": "code",
   "execution_count": 83,
   "metadata": {},
   "outputs": [],
   "source": [
    "#lets set our categories as categories \n",
    "df4['label'] = df4['label'].astype('category')\n",
    "df4['language'] = df4['language'].astype('category')\n"
   ]
  },
  {
   "cell_type": "code",
   "execution_count": 84,
   "metadata": {},
   "outputs": [],
   "source": [
    "#2 is positive, 1 is neutral, 0 is negative\n",
    "df4['label'] = df4['label'].cat.codes\n"
   ]
  },
  {
   "cell_type": "code",
   "execution_count": 85,
   "metadata": {},
   "outputs": [],
   "source": [
    "df_ja = df4[df4['language'] == 'ja']\n",
    "df_en = df4[df4['language'] == 'en']"
   ]
  },
  {
   "cell_type": "code",
   "execution_count": 86,
   "metadata": {},
   "outputs": [
    {
     "name": "stderr",
     "output_type": "stream",
     "text": [
      "/Users/justin/anaconda3/lib/python3.7/site-packages/ipykernel_launcher.py:1: SettingWithCopyWarning: \n",
      "A value is trying to be set on a copy of a slice from a DataFrame.\n",
      "Try using .loc[row_indexer,col_indexer] = value instead\n",
      "\n",
      "See the caveats in the documentation: http://pandas.pydata.org/pandas-docs/stable/user_guide/indexing.html#returning-a-view-versus-a-copy\n",
      "  \"\"\"Entry point for launching an IPython kernel.\n",
      "/Users/justin/anaconda3/lib/python3.7/site-packages/ipykernel_launcher.py:2: SettingWithCopyWarning: \n",
      "A value is trying to be set on a copy of a slice from a DataFrame.\n",
      "Try using .loc[row_indexer,col_indexer] = value instead\n",
      "\n",
      "See the caveats in the documentation: http://pandas.pydata.org/pandas-docs/stable/user_guide/indexing.html#returning-a-view-versus-a-copy\n",
      "  \n",
      "/Users/justin/anaconda3/lib/python3.7/site-packages/ipykernel_launcher.py:3: SettingWithCopyWarning: \n",
      "A value is trying to be set on a copy of a slice from a DataFrame.\n",
      "Try using .loc[row_indexer,col_indexer] = value instead\n",
      "\n",
      "See the caveats in the documentation: http://pandas.pydata.org/pandas-docs/stable/user_guide/indexing.html#returning-a-view-versus-a-copy\n",
      "  This is separate from the ipykernel package so we can avoid doing imports until\n"
     ]
    }
   ],
   "source": [
    "df_en['label'] = df_en['label'].replace(0,3)\n",
    "df_en['label'] = df_en['label'].replace(1,4)\n",
    "df_en['label'] = df_en['label'].replace(2,5)"
   ]
  },
  {
   "cell_type": "code",
   "execution_count": 87,
   "metadata": {},
   "outputs": [],
   "source": [
    "df = pd.concat([df_ja,df_en])"
   ]
  },
  {
   "cell_type": "code",
   "execution_count": 88,
   "metadata": {},
   "outputs": [],
   "source": [
    "df = df.drop(columns = 'language')"
   ]
  },
  {
   "cell_type": "code",
   "execution_count": 89,
   "metadata": {},
   "outputs": [],
   "source": [
    "df.to_json('DiSmldata.json')"
   ]
  },
  {
   "cell_type": "code",
   "execution_count": 12,
   "metadata": {},
   "outputs": [],
   "source": [
    "# Lets's look at our 3 grams "
   ]
  },
  {
   "cell_type": "code",
   "execution_count": null,
   "metadata": {},
   "outputs": [],
   "source": [
    "X_train, X_test, y_train, y_test = train_test_split(df['clean_text'], df['label'],test_size =0.20, random_state = 77)"
   ]
  },
  {
   "cell_type": "code",
   "execution_count": 14,
   "metadata": {},
   "outputs": [],
   "source": [
    "ngram_vect = CountVectorizer(ngram_range=(3,3), max_features = 10000, stop_words = my_stop_words)\n",
    "ngram_train = ngram_vect.fit_transform(X_train)\n",
    "ngram_test = ngram_vect.transform(X_test)"
   ]
  },
  {
   "cell_type": "code",
   "execution_count": 18,
   "metadata": {},
   "outputs": [],
   "source": [
    "X_ngram_df = pd.DataFrame(ngram_train.A, columns = ngram_vect.get_feature_names())\n",
    "X_ngram_df = X_ngram_df.transpose()"
   ]
  },
  {
   "cell_type": "code",
   "execution_count": 19,
   "metadata": {},
   "outputs": [],
   "source": [
    "#top 20 words for each retweet \n",
    "top_dict = {}\n",
    "for c in X_ngram_df.columns:\n",
    "    top = X_ngram_df[c].sort_values(ascending=False).head(20)\n",
    "    top_dict[c]= list(zip(top.index, top.values))\n",
    "#word count\n",
    "n_words = []\n",
    "for tweet in X_ngram_df.columns:\n",
    "    top = [word for (word, count) in top_dict[tweet] if count != 0]\n",
    "    for t in top:\n",
    "        n_words.append(t)"
   ]
  },
  {
   "cell_type": "code",
   "execution_count": 20,
   "metadata": {},
   "outputs": [
    {
     "data": {
      "text/html": [
       "<div>\n",
       "<style scoped>\n",
       "    .dataframe tbody tr th:only-of-type {\n",
       "        vertical-align: middle;\n",
       "    }\n",
       "\n",
       "    .dataframe tbody tr th {\n",
       "        vertical-align: top;\n",
       "    }\n",
       "\n",
       "    .dataframe thead th {\n",
       "        text-align: right;\n",
       "    }\n",
       "</style>\n",
       "<table border=\"1\" class=\"dataframe\">\n",
       "  <thead>\n",
       "    <tr style=\"text-align: right;\">\n",
       "      <th></th>\n",
       "      <th>0</th>\n",
       "      <th>1</th>\n",
       "    </tr>\n",
       "  </thead>\n",
       "  <tbody>\n",
       "    <tr>\n",
       "      <th>0</th>\n",
       "      <td>happiest place earth</td>\n",
       "      <td>344</td>\n",
       "    </tr>\n",
       "    <tr>\n",
       "      <th>1</th>\n",
       "      <td>lowest waiting time</td>\n",
       "      <td>243</td>\n",
       "    </tr>\n",
       "    <tr>\n",
       "      <th>2</th>\n",
       "      <td>star wars galaxys</td>\n",
       "      <td>233</td>\n",
       "    </tr>\n",
       "    <tr>\n",
       "      <th>3</th>\n",
       "      <td>wars galaxys edge</td>\n",
       "      <td>230</td>\n",
       "    </tr>\n",
       "    <tr>\n",
       "      <th>4</th>\n",
       "      <td>highest waiting time</td>\n",
       "      <td>216</td>\n",
       "    </tr>\n",
       "    <tr>\n",
       "      <th>5</th>\n",
       "      <td>oogie boogie bash</td>\n",
       "      <td>170</td>\n",
       "    </tr>\n",
       "    <tr>\n",
       "      <th>6</th>\n",
       "      <td>spooky boo parade</td>\n",
       "      <td>121</td>\n",
       "    </tr>\n",
       "    <tr>\n",
       "      <th>7</th>\n",
       "      <td>min toy story</td>\n",
       "      <td>121</td>\n",
       "    </tr>\n",
       "    <tr>\n",
       "      <th>8</th>\n",
       "      <td>radiator springs racers</td>\n",
       "      <td>119</td>\n",
       "    </tr>\n",
       "    <tr>\n",
       "      <th>9</th>\n",
       "      <td>indiana jones adventure</td>\n",
       "      <td>108</td>\n",
       "    </tr>\n",
       "    <tr>\n",
       "      <th>10</th>\n",
       "      <td>minnies house min</td>\n",
       "      <td>104</td>\n",
       "    </tr>\n",
       "    <tr>\n",
       "      <th>11</th>\n",
       "      <td>springs racers min</td>\n",
       "      <td>98</td>\n",
       "    </tr>\n",
       "    <tr>\n",
       "      <th>12</th>\n",
       "      <td>nonstop magic everyday</td>\n",
       "      <td>97</td>\n",
       "    </tr>\n",
       "    <tr>\n",
       "      <th>13</th>\n",
       "      <td>matterhorn bobsleds min</td>\n",
       "      <td>92</td>\n",
       "    </tr>\n",
       "    <tr>\n",
       "      <th>14</th>\n",
       "      <td>interruption minutes dlr</td>\n",
       "      <td>90</td>\n",
       "    </tr>\n",
       "    <tr>\n",
       "      <th>15</th>\n",
       "      <td>big thunder mountain</td>\n",
       "      <td>89</td>\n",
       "    </tr>\n",
       "    <tr>\n",
       "      <th>16</th>\n",
       "      <td>urayasu city chiba</td>\n",
       "      <td>87</td>\n",
       "    </tr>\n",
       "    <tr>\n",
       "      <th>17</th>\n",
       "      <td>story mania min</td>\n",
       "      <td>84</td>\n",
       "    </tr>\n",
       "    <tr>\n",
       "      <th>18</th>\n",
       "      <td>city chiba prefecture</td>\n",
       "      <td>80</td>\n",
       "    </tr>\n",
       "    <tr>\n",
       "      <th>19</th>\n",
       "      <td>fantastic flight min</td>\n",
       "      <td>79</td>\n",
       "    </tr>\n",
       "  </tbody>\n",
       "</table>\n",
       "</div>"
      ],
      "text/plain": [
       "                           0    1\n",
       "0   happiest place earth      344\n",
       "1   lowest waiting time       243\n",
       "2   star wars galaxys         233\n",
       "3   wars galaxys edge         230\n",
       "4   highest waiting time      216\n",
       "5   oogie boogie bash         170\n",
       "6   spooky boo parade         121\n",
       "7   min toy story             121\n",
       "8   radiator springs racers   119\n",
       "9   indiana jones adventure   108\n",
       "10  minnies house min         104\n",
       "11  springs racers min        98 \n",
       "12  nonstop magic everyday    97 \n",
       "13  matterhorn bobsleds min   92 \n",
       "14  interruption minutes dlr  90 \n",
       "15  big thunder mountain      89 \n",
       "16  urayasu city chiba        87 \n",
       "17  story mania min           84 \n",
       "18  city chiba prefecture     80 \n",
       "19  fantastic flight min      79 "
      ]
     },
     "execution_count": 20,
     "metadata": {},
     "output_type": "execute_result"
    }
   ],
   "source": [
    "pd.DataFrame(Counter(n_words).most_common())[0:20]"
   ]
  }
 ],
 "metadata": {
  "kernelspec": {
   "display_name": "Python 3",
   "language": "python",
   "name": "python3"
  },
  "language_info": {
   "codemirror_mode": {
    "name": "ipython",
    "version": 3
   },
   "file_extension": ".py",
   "mimetype": "text/x-python",
   "name": "python",
   "nbconvert_exporter": "python",
   "pygments_lexer": "ipython3",
   "version": "3.7.0"
  }
 },
 "nbformat": 4,
 "nbformat_minor": 2
}
