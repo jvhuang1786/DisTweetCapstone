{
 "cells": [
  {
   "cell_type": "code",
   "execution_count": 1,
   "metadata": {},
   "outputs": [
    {
     "name": "stderr",
     "output_type": "stream",
     "text": [
      "Using TensorFlow backend.\n"
     ]
    }
   ],
   "source": [
    "import pandas as pd\n",
    "import numpy as np\n",
    "from matplotlib import pyplot as plt\n",
    "import seaborn as sns\n",
    "import spacy\n",
    "import time\n",
    "from collections import Counter\n",
    "from imblearn.over_sampling import RandomOverSampler\n",
    "import gensim\n",
    "\n",
    "\n",
    "from sklearn.metrics import precision_recall_fscore_support \n",
    "from sklearn.feature_extraction.text import CountVectorizer, TfidfVectorizer, ENGLISH_STOP_WORDS\n",
    "from sklearn.model_selection import train_test_split\n",
    "from sklearn import metrics\n",
    "from sklearn.ensemble import RandomForestClassifier, GradientBoostingClassifier\n",
    "from sklearn.linear_model import LogisticRegression\n",
    "from sklearn.naive_bayes import MultinomialNB\n"
   ]
  },
  {
   "cell_type": "code",
   "execution_count": 2,
   "metadata": {},
   "outputs": [],
   "source": [
    "df = pd.read_json('DiSmldata.json')"
   ]
  },
  {
   "cell_type": "code",
   "execution_count": 3,
   "metadata": {},
   "outputs": [
    {
     "data": {
      "image/png": "[encoded data removed]",
      "text/plain": [
       "<Figure size 1440x504 with 1 Axes>"
      ]
     },
     "metadata": {
      "needs_background": "light"
     },
     "output_type": "display_data"
    }
   ],
   "source": [
    "f, axes = plt.subplots(figsize=(20,7))\n",
    "ax = sns.countplot(x=df[\"label\"], palette=\"OrRd_r\")\n",
    "ax.set(title=\"Distribution of Product Ratings\", \\\n",
    "       xlabel=\"Sentiment\", ylabel=\"Sentiment Count\")\n",
    "plt.show()"
   ]
  },
  {
   "cell_type": "code",
   "execution_count": 4,
   "metadata": {},
   "outputs": [],
   "source": [
    "my_stop_words = ENGLISH_STOP_WORDS.union(['disneyland','tokyo','disney', 'im', 'tdrnow','paris','california','amp','disneysea','got',\n",
    "                                         'ºc', 'ºf', 'ºoº','𝗧𝗵𝗲','くまのプーさん', 'ディズニー', 'ディズニーシー','ディズニーハロウィーン',\n",
    "                                         'ディズニーランド', 'ディズニー好きと繋がりたい', 'フェスティバルオブミスティーク', 'マルマン',\n",
    "                                         'ㅋㅋㅋ', '場所', '更新', '月released', '東京ディズニーシー', '東京ディズニーランド', '東京ディズニーリゾート',\n",
    "                                         '香港迪士尼樂園', 'ºº', 'hong', 'kong',\"disneylandresort\", \"disneyland\", \"disneyresort\",\n",
    "                                          \"californiaadventure\",'downtowndisney','disneyanaheim','disneylandanaheim',\n",
    "                                          'disneycalifornia','californiadisney','disneysea', 'disneytokyo', 'disneytokyoresort', \n",
    "                                          'tokyodisney','tokyodisneyresort', 'tokyodisneyland','東京ディズニーランド', 'ディズニーランド',\n",
    "                                          '東京ディズニーシー', 'ズニーシー', 'tdr_now', 'tdr_md','tdr','dca','dl'])"
   ]
  },
  {
   "cell_type": "code",
   "execution_count": 6,
   "metadata": {},
   "outputs": [],
   "source": [
    "#Split into train and test \n",
    "X_train, X_test, y_train, y_test = train_test_split(df[['hash_count', 'emoji_count','clean_text',\n",
    "                                                        'anger','anticipation','disgust','fear',\n",
    "                                                       'joy', 'sadness', 'surprise', 'trust', 'punc_count',\n",
    "                                                       'tweet_len','cap_count']], df['label'],test_size =0.20, random_state = 77)"
   ]
  },
  {
   "cell_type": "code",
   "execution_count": 71,
   "metadata": {},
   "outputs": [],
   "source": [
    "#Count vectorizer Document term matrix\n",
    "count_vect = CountVectorizer(stop_words = my_stop_words, min_df = 0.005)\n",
    "count_vect_fit = count_vect.fit(X_train['clean_text'])\n",
    "\n",
    "count_train = count_vect_fit.transform(X_train['clean_text'])\n",
    "count_test = count_vect_fit.transform(X_test['clean_text'])\n",
    "\n",
    "X_train_vect = pd.concat([X_train[['hash_count', 'emoji_count', 'anger','anticipation','disgust','fear',\n",
    "                                                       'joy', 'sadness', 'surprise', 'trust', 'punc_count',\n",
    "                                                       'tweet_len','cap_count']].reset_index(drop=True), \n",
    "           pd.DataFrame(count_train.toarray())], axis=1)\n",
    "X_test_vect = pd.concat([X_test[['hash_count', 'emoji_count', 'anger','anticipation','disgust','fear',\n",
    "                                                       'joy', 'sadness', 'surprise', 'trust', 'punc_count',\n",
    "                                                       'tweet_len','cap_count']].reset_index(drop=True), \n",
    "           pd.DataFrame(count_test.toarray())], axis=1)"
   ]
  },
  {
   "cell_type": "code",
   "execution_count": 72,
   "metadata": {},
   "outputs": [
    {
     "data": {
      "text/plain": [
       "(70008, 230)"
      ]
     },
     "execution_count": 72,
     "metadata": {},
     "output_type": "execute_result"
    }
   ],
   "source": [
    "X_train_vect.shape"
   ]
  },
  {
   "cell_type": "code",
   "execution_count": 73,
   "metadata": {},
   "outputs": [
    {
     "name": "stdout",
     "output_type": "stream",
     "text": [
      "[(0, 23522), (1, 23522), (2, 23522), (3, 23522), (4, 23522), (5, 23522)]\n"
     ]
    }
   ],
   "source": [
    "#Balance the Data \n",
    "ros = RandomOverSampler(random_state=77)\n",
    "X_resampled_ros, y_resampled_ros = ros.fit_resample(X_train_vect.values, y_train.values)\n",
    "print(sorted(Counter(y_resampled_ros).items()))"
   ]
  },
  {
   "cell_type": "code",
   "execution_count": 74,
   "metadata": {},
   "outputs": [
    {
     "name": "stdout",
     "output_type": "stream",
     "text": [
      "[(0, 5982), (1, 5982), (2, 5982), (3, 5982), (4, 5982), (5, 5982)]\n"
     ]
    }
   ],
   "source": [
    "X_resampled_ros_test, y_resampled_ros_test = ros.fit_resample(X_test_vect.values, y_test.values)\n",
    "print(sorted(Counter(y_resampled_ros_test).items()))"
   ]
  },
  {
   "cell_type": "code",
   "execution_count": 75,
   "metadata": {},
   "outputs": [
    {
     "name": "stdout",
     "output_type": "stream",
     "text": [
      "Fit time: 12.105 / Predict time: 0.356 ---- Precision: 0.617 / Recall: 0.589 / Accuracy: 0.589\n"
     ]
    }
   ],
   "source": [
    "#Random Forest\n",
    "\n",
    "#Instantiate our model \n",
    "rf = RandomForestClassifier(n_estimators=50, max_depth=1000, n_jobs=-1)\n",
    "\n",
    "#Model Fit \n",
    "start = time.time()\n",
    "rf.fit(X_resampled_ros, y_resampled_ros)\n",
    "end = time.time()\n",
    "fit_time = (end - start)\n",
    "\n",
    "#Model Predict \n",
    "start = time.time()\n",
    "y_pred = rf.predict(X_resampled_ros_test)\n",
    "end = time.time()\n",
    "pred_time = (end - start)\n",
    "\n",
    "#Model Scoring \n",
    "precision, recall, fscore, support = precision_recall_fscore_support(y_resampled_ros_test, y_pred, average='macro')\n",
    "print('Fit time: {} / Predict time: {} ---- Precision: {} / Recall: {} / Accuracy: {}'.format(\n",
    "    round(fit_time, 3), round(pred_time, 3), round(precision, 3), round(recall, 3), round((y_pred==y_resampled_ros_test).sum()/len(y_pred), 3)))"
   ]
  },
  {
   "cell_type": "code",
   "execution_count": 76,
   "metadata": {},
   "outputs": [
    {
     "data": {
      "text/plain": [
       "[(0.1303768456287617, 'tweet_len'),\n",
       " (0.07807822616226266, 'cap_count'),\n",
       " (0.07010841356118133, 'punc_count'),\n",
       " (0.057022406417206975, 'hash_count'),\n",
       " (0.02898339490109582, 'sadness'),\n",
       " (0.02687734180905905, 'emoji_count'),\n",
       " (0.025203949296349795, 'joy'),\n",
       " (0.023096638219575978, 'fear'),\n",
       " (0.01948154748113576, 'anticipation'),\n",
       " (0.01909843941302194, 'anger'),\n",
       " (0.017722890983914507, 'trust'),\n",
       " (0.014656758600497581, 'disgust'),\n",
       " (0.012118719656079035, 'surprise'),\n",
       " (0.011720533443747589, 29),\n",
       " (0.010807713899821336, 90),\n",
       " (0.0077703141307843265, 197),\n",
       " (0.0071537028588388495, 31),\n",
       " (0.006016422446220515, 69),\n",
       " (0.005973557340930049, 64),\n",
       " (0.005850698696712951, 181)]"
      ]
     },
     "execution_count": 76,
     "metadata": {},
     "output_type": "execute_result"
    }
   ],
   "source": [
    "#Random Forest tells our Feature Importances\n",
    "importances = rf.feature_importances_\n",
    "(sorted(zip(importances, X_train_vect.columns), reverse=True))[0:20]"
   ]
  },
  {
   "cell_type": "code",
   "execution_count": 77,
   "metadata": {},
   "outputs": [
    {
     "name": "stdout",
     "output_type": "stream",
     "text": [
      "Fit time: 3.642 / Predict time: 0.07 ---- Precision: 0.518 / Recall: 0.514 / Accuracy: 0.514\n"
     ]
    }
   ],
   "source": [
    "#Multinomial Bayes\n",
    "\n",
    "#Instantiate our model \n",
    "nb_clf = MultinomialNB()\n",
    "\n",
    "#Train our Model \n",
    "start = time.time()\n",
    "nb_clf.fit(X_resampled_ros, y_resampled_ros)\n",
    "end = time.time()\n",
    "fit_time = (end - start)\n",
    "\n",
    "#Model Predict \n",
    "start = time.time()\n",
    "y_pred = nb_clf.predict(X_resampled_ros_test)\n",
    "end = time.time()\n",
    "pred_time = (end - start)\n",
    "\n",
    "#Model Scoring \n",
    "precision, recall, fscore, support = precision_recall_fscore_support(y_resampled_ros_test, y_pred, average='macro')\n",
    "print('Fit time: {} / Predict time: {} ---- Precision: {} / Recall: {} / Accuracy: {}'.format(\n",
    "    round(fit_time, 3), round(pred_time, 3), round(precision, 3), \n",
    "    round(recall, 3), round((y_pred==y_resampled_ros_test).sum()/len(y_pred), 3)))"
   ]
  },
  {
   "cell_type": "code",
   "execution_count": 78,
   "metadata": {},
   "outputs": [
    {
     "name": "stdout",
     "output_type": "stream",
     "text": [
      "Fit time: 7.365 / Predict time: 0.045 ---- Precision: 0.459 / Recall: 0.444 / Accuracy: 0.444\n"
     ]
    },
    {
     "name": "stderr",
     "output_type": "stream",
     "text": [
      "/Users/justin/anaconda3/lib/python3.7/site-packages/sklearn/linear_model/_logistic.py:940: ConvergenceWarning: lbfgs failed to converge (status=1):\n",
      "STOP: TOTAL NO. of ITERATIONS REACHED LIMIT.\n",
      "\n",
      "Increase the number of iterations (max_iter) or scale the data as shown in:\n",
      "    https://scikit-learn.org/stable/modules/preprocessing.html\n",
      "Please also refer to the documentation for alternative solver options:\n",
      "    https://scikit-learn.org/stable/modules/linear_model.html#logistic-regression\n",
      "  extra_warning_msg=_LOGISTIC_SOLVER_CONVERGENCE_MSG)\n"
     ]
    }
   ],
   "source": [
    "#Logistic Regression \n",
    "\n",
    "#Instantiate our model\n",
    "lr = LogisticRegression(max_iter = 100, solver = 'lbfgs')\n",
    "\n",
    "#Train our Model\n",
    "start = time.time()\n",
    "lr.fit(X_resampled_ros, y_resampled_ros)\n",
    "end = time.time()\n",
    "fit_time = (end - start)\n",
    "\n",
    "#Model Predict \n",
    "start = time.time()\n",
    "y_pred = lr.predict(X_resampled_ros_test)\n",
    "end = time.time()\n",
    "pred_time = (end - start)\n",
    "\n",
    "#Model Scoring \n",
    "precision, recall, fscore, support = precision_recall_fscore_support(y_resampled_ros_test, y_pred, average='macro')\n",
    "print('Fit time: {} / Predict time: {} ---- Precision: {} / Recall: {} / Accuracy: {}'.format(\n",
    "    round(fit_time, 3), round(pred_time, 3), round(precision, 3), round(recall, 3), \n",
    "    round((y_pred==y_resampled_ros_test).sum()/len(y_pred), 3)))"
   ]
  },
  {
   "cell_type": "markdown",
   "metadata": {},
   "source": [
    "#### TFIDF"
   ]
  },
  {
   "cell_type": "code",
   "execution_count": 79,
   "metadata": {},
   "outputs": [],
   "source": [
    "#TFIDF vector DTM\n",
    "tfidf_vect = TfidfVectorizer(stop_words = my_stop_words, min_df = 0.005)\n",
    "tfidf_vect_fit = tfidf_vect.fit(X_train['clean_text'])\n",
    "\n",
    "tfidf_train = tfidf_vect_fit.transform(X_train['clean_text'])\n",
    "tfidf_test = tfidf_vect_fit.transform(X_test['clean_text'])\n",
    "\n",
    "X_train_vect_tf = pd.concat([X_train[['hash_count', 'emoji_count', 'anger','anticipation','disgust','fear',\n",
    "                                                       'joy', 'sadness', 'surprise', 'trust', 'punc_count',\n",
    "                                                       'tweet_len','cap_count']].reset_index(drop=True), \n",
    "           pd.DataFrame(tfidf_train.toarray())], axis=1)\n",
    "X_test_vect_tf = pd.concat([X_test[['hash_count', 'emoji_count', 'anger','anticipation','disgust','fear',\n",
    "                                                       'joy', 'sadness', 'surprise', 'trust', 'punc_count',\n",
    "                                                       'tweet_len','cap_count']].reset_index(drop=True), \n",
    "           pd.DataFrame(tfidf_test.toarray())], axis=1)"
   ]
  },
  {
   "cell_type": "code",
   "execution_count": 80,
   "metadata": {},
   "outputs": [
    {
     "data": {
      "text/plain": [
       "(70008, 230)"
      ]
     },
     "execution_count": 80,
     "metadata": {},
     "output_type": "execute_result"
    }
   ],
   "source": [
    "X_train_vect_tf.shape"
   ]
  },
  {
   "cell_type": "code",
   "execution_count": 81,
   "metadata": {},
   "outputs": [
    {
     "name": "stdout",
     "output_type": "stream",
     "text": [
      "[(0, 23522), (1, 23522), (2, 23522), (3, 23522), (4, 23522), (5, 23522)]\n"
     ]
    }
   ],
   "source": [
    "#Balance the Data \n",
    "ros = RandomOverSampler(random_state=77) \n",
    "X_resampled_ros_tf, y_resampled_ros_tf = ros.fit_resample(X_train_vect_tf.values, y_train.values)\n",
    "print(sorted(Counter(y_resampled_ros_tf).items()))"
   ]
  },
  {
   "cell_type": "code",
   "execution_count": 82,
   "metadata": {},
   "outputs": [
    {
     "name": "stdout",
     "output_type": "stream",
     "text": [
      "[(0, 5982), (1, 5982), (2, 5982), (3, 5982), (4, 5982), (5, 5982)]\n"
     ]
    }
   ],
   "source": [
    "X_resampled_ros_test_tf, y_resampled_ros_test_tf = ros.fit_resample(X_test_vect_tf.values, y_test.values)\n",
    "print(sorted(Counter(y_resampled_ros_test_tf).items()))"
   ]
  },
  {
   "cell_type": "code",
   "execution_count": 83,
   "metadata": {},
   "outputs": [
    {
     "name": "stdout",
     "output_type": "stream",
     "text": [
      "Fit time: 12.138 / Predict time: 0.349 ---- Precision: 0.614 / Recall: 0.584 / Accuracy: 0.584\n"
     ]
    }
   ],
   "source": [
    "#Random Forest\n",
    "\n",
    "#Instantiate our model \n",
    "rf = RandomForestClassifier(n_estimators=50, max_depth=1000, n_jobs=-1)\n",
    "\n",
    "#Model Fit \n",
    "start = time.time()\n",
    "rf.fit(X_resampled_ros_tf, y_resampled_ros_tf)\n",
    "end = time.time()\n",
    "fit_time = (end - start)\n",
    "\n",
    "#Model Predict \n",
    "start = time.time()\n",
    "y_pred = rf.predict(X_resampled_ros_test_tf)\n",
    "end = time.time()\n",
    "pred_time = (end - start)\n",
    "\n",
    "#Model Scoring \n",
    "precision, recall, fscore, support = precision_recall_fscore_support(y_resampled_ros_test_tf, y_pred, average='macro')\n",
    "print('Fit time: {} / Predict time: {} ---- Precision: {} / Recall: {} / Accuracy: {}'.format(\n",
    "    round(fit_time, 3), round(pred_time, 3), round(precision, 3), round(recall, 3), round((y_pred==y_resampled_ros_test_tf).sum()/len(y_pred), 3)))"
   ]
  },
  {
   "cell_type": "code",
   "execution_count": 84,
   "metadata": {},
   "outputs": [
    {
     "data": {
      "text/plain": [
       "[(0.12106733725450405, 'tweet_len'),\n",
       " (0.07098867227488843, 'cap_count'),\n",
       " (0.06614191209394779, 'punc_count'),\n",
       " (0.05582949659414724, 'hash_count'),\n",
       " (0.027689268039805655, 'sadness'),\n",
       " (0.024820731788330032, 'fear'),\n",
       " (0.024271540740605047, 'emoji_count'),\n",
       " (0.023564576692525548, 'joy'),\n",
       " (0.0169774729545499, 'anticipation'),\n",
       " (0.01645790531903967, 'trust'),\n",
       " (0.015490519161953504, 'anger'),\n",
       " (0.01510264703412933, 'disgust'),\n",
       " (0.012640094971237843, 90),\n",
       " (0.012188790678675869, 29),\n",
       " (0.011220898542607742, 'surprise'),\n",
       " (0.008626177314886676, 197),\n",
       " (0.00830021294399549, 181),\n",
       " (0.008278631893969943, 31),\n",
       " (0.006798141052192894, 64),\n",
       " (0.006744256438246525, 69)]"
      ]
     },
     "execution_count": 84,
     "metadata": {},
     "output_type": "execute_result"
    }
   ],
   "source": [
    "#Random Forest tells our Feature Importances\n",
    "importances = rf.feature_importances_\n",
    "(sorted(zip(importances, X_train_vect_tf.columns), reverse=True))[0:20]"
   ]
  },
  {
   "cell_type": "code",
   "execution_count": 85,
   "metadata": {},
   "outputs": [
    {
     "name": "stdout",
     "output_type": "stream",
     "text": [
      "Fit time: 0.11 / Predict time: 0.016 ---- Precision: 0.499 / Recall: 0.495 / Accuracy: 0.495\n"
     ]
    }
   ],
   "source": [
    "#Multinomial Bayes\n",
    "\n",
    "#Instantiate our model \n",
    "nb_clf = MultinomialNB()\n",
    "\n",
    "#Train our Model \n",
    "start = time.time()\n",
    "nb_clf.fit(X_resampled_ros_tf, y_resampled_ros_tf)\n",
    "end = time.time()\n",
    "fit_time = (end - start)\n",
    "\n",
    "#Model Predict \n",
    "start = time.time()\n",
    "y_pred = nb_clf.predict(X_resampled_ros_test_tf)\n",
    "end = time.time()\n",
    "pred_time = (end - start)\n",
    "\n",
    "#Model Scoring \n",
    "precision, recall, fscore, support = precision_recall_fscore_support(y_resampled_ros_test_tf, y_pred, average='macro')\n",
    "print('Fit time: {} / Predict time: {} ---- Precision: {} / Recall: {} / Accuracy: {}'.format(\n",
    "    round(fit_time, 3), round(pred_time, 3), round(precision, 3), round(recall, 3), round((y_pred==y_resampled_ros_test_tf).sum()/len(y_pred), 3)))"
   ]
  },
  {
   "cell_type": "code",
   "execution_count": 86,
   "metadata": {},
   "outputs": [
    {
     "name": "stdout",
     "output_type": "stream",
     "text": [
      "Fit time: 7.746 / Predict time: 0.012 ---- Precision: 0.438 / Recall: 0.425 / Accuracy: 0.425\n"
     ]
    },
    {
     "name": "stderr",
     "output_type": "stream",
     "text": [
      "/Users/justin/anaconda3/lib/python3.7/site-packages/sklearn/linear_model/_logistic.py:940: ConvergenceWarning: lbfgs failed to converge (status=1):\n",
      "STOP: TOTAL NO. of ITERATIONS REACHED LIMIT.\n",
      "\n",
      "Increase the number of iterations (max_iter) or scale the data as shown in:\n",
      "    https://scikit-learn.org/stable/modules/preprocessing.html\n",
      "Please also refer to the documentation for alternative solver options:\n",
      "    https://scikit-learn.org/stable/modules/linear_model.html#logistic-regression\n",
      "  extra_warning_msg=_LOGISTIC_SOLVER_CONVERGENCE_MSG)\n"
     ]
    }
   ],
   "source": [
    "#Logistic Regression \n",
    "\n",
    "#Instantiate our model\n",
    "lr = LogisticRegression(max_iter = 100, solver = 'lbfgs')\n",
    "\n",
    "#Train our Model\n",
    "start = time.time()\n",
    "lr.fit(X_resampled_ros_tf, y_resampled_ros_tf)\n",
    "end = time.time()\n",
    "fit_time = (end - start)\n",
    "\n",
    "#Model Predict \n",
    "start = time.time()\n",
    "y_pred = lr.predict(X_resampled_ros_test_tf)\n",
    "end = time.time()\n",
    "pred_time = (end - start)\n",
    "\n",
    "#Model Scoring \n",
    "precision, recall, fscore, support = precision_recall_fscore_support(y_resampled_ros_test_tf, y_pred, average='macro')\n",
    "print('Fit time: {} / Predict time: {} ---- Precision: {} / Recall: {} / Accuracy: {}'.format(\n",
    "    round(fit_time, 3), round(pred_time, 3), round(precision, 3), round(recall, 3), round((y_pred==y_resampled_ros_test_tf).sum()/len(y_pred), 3)))"
   ]
  },
  {
   "cell_type": "markdown",
   "metadata": {},
   "source": [
    "##### Word2Vec"
   ]
  },
  {
   "cell_type": "code",
   "execution_count": 87,
   "metadata": {},
   "outputs": [],
   "source": [
    "from nltk.tokenize import word_tokenize\n",
    "tokenized_tweet = df.clean_text.apply(word_tokenize)"
   ]
  },
  {
   "cell_type": "code",
   "execution_count": 88,
   "metadata": {},
   "outputs": [
    {
     "data": {
      "text/plain": [
       "(12701458, 17727920)"
      ]
     },
     "execution_count": 88,
     "metadata": {},
     "output_type": "execute_result"
    }
   ],
   "source": [
    "model_w2v = gensim.models.Word2Vec(\n",
    "            tokenized_tweet,\n",
    "            size=230, # desired no. of features/independent variables \n",
    "            window=3, # context window size\n",
    "            min_count=30,\n",
    "            sg = 1, # 1 for skip-gram model\n",
    "            seed = 77)\n",
    "\n",
    "model_w2v.train(tokenized_tweet, total_examples= len(df['clean_text']), epochs=20)"
   ]
  },
  {
   "cell_type": "code",
   "execution_count": 89,
   "metadata": {},
   "outputs": [
    {
     "data": {
      "text/plain": [
       "[('disneysea', 0.5430849194526672),\n",
       " ('disneylandtokyo', 0.46373534202575684),\n",
       " ('東京ディズニーリゾート', 0.39844822883605957),\n",
       " ('sea', 0.3980148136615753),\n",
       " ('steamer', 0.39004385471343994),\n",
       " ('tokyodisney', 0.37289878726005554),\n",
       " ('tue', 0.3697461485862732),\n",
       " ('port', 0.3695187270641327),\n",
       " ('transit', 0.36897897720336914),\n",
       " ('chiba', 0.368430495262146)]"
      ]
     },
     "execution_count": 89,
     "metadata": {},
     "output_type": "execute_result"
    }
   ],
   "source": [
    "model_w2v.wv.most_similar(\"tokyo\")"
   ]
  },
  {
   "cell_type": "code",
   "execution_count": 90,
   "metadata": {},
   "outputs": [
    {
     "data": {
      "text/plain": [
       "[('bff', 0.39314982295036316),\n",
       " ('blast', 0.3678790330886841),\n",
       " ('sundayfunday', 0.32133573293685913),\n",
       " ('vote', 0.3198425769805908),\n",
       " ('memories', 0.3136768043041229),\n",
       " ('awesome', 0.30930376052856445),\n",
       " ('enjoyed', 0.3059080243110657),\n",
       " ('enjoying', 0.30518752336502075),\n",
       " ('cosplay', 0.3031541705131531),\n",
       " ('spooktacular', 0.3029031455516815)]"
      ]
     },
     "execution_count": 90,
     "metadata": {},
     "output_type": "execute_result"
    }
   ],
   "source": [
    "model_w2v.wv.most_similar(\"fun\")"
   ]
  },
  {
   "cell_type": "code",
   "execution_count": 91,
   "metadata": {},
   "outputs": [
    {
     "data": {
      "text/plain": [
       "[('disneyjobs', 0.3763093650341034),\n",
       " ('annualpassholder', 0.34122025966644287),\n",
       " ('themeparks', 0.3221602737903595),\n",
       " ('losangeles', 0.3192991614341736),\n",
       " ('harbor', 0.31923311948776245),\n",
       " ('socal', 0.31771254539489746),\n",
       " ('gaydays', 0.3149857819080353),\n",
       " ('district', 0.31309419870376587),\n",
       " ('goofys', 0.3083474636077881),\n",
       " ('california', 0.3052617311477661)]"
      ]
     },
     "execution_count": 91,
     "metadata": {},
     "output_type": "execute_result"
    }
   ],
   "source": [
    "model_w2v.wv.most_similar(\"anaheim\")"
   ]
  },
  {
   "cell_type": "code",
   "execution_count": 92,
   "metadata": {},
   "outputs": [
    {
     "data": {
      "text/plain": [
       "[('bullshit', 0.40894144773483276),\n",
       " ('fucked', 0.40067780017852783),\n",
       " ('rage', 0.36938905715942383),\n",
       " ('human', 0.36319437623023987),\n",
       " ('losing', 0.3567168712615967),\n",
       " ('ball', 0.35210132598876953),\n",
       " ('lack', 0.3520182967185974),\n",
       " ('brain', 0.3508557379245758),\n",
       " ('confused', 0.3503156900405884),\n",
       " ('umbrella', 0.3469950556755066)]"
      ]
     },
     "execution_count": 92,
     "metadata": {},
     "output_type": "execute_result"
    }
   ],
   "source": [
    "model_w2v.wv.most_similar(\"boring\")"
   ]
  },
  {
   "cell_type": "code",
   "execution_count": 93,
   "metadata": {},
   "outputs": [
    {
     "data": {
      "text/plain": [
       "[('disneyfan', 0.519191563129425),\n",
       " ('disneyfans', 0.4954191744327545),\n",
       " ('disneyig', 0.4932956397533417),\n",
       " ('disneyaddict', 0.49034011363983154),\n",
       " ('disneyland', 0.4743539094924927),\n",
       " ('disneymagic', 0.4639242887496948),\n",
       " ('disneylove', 0.46227356791496277),\n",
       " ('disneystyle', 0.44713208079338074),\n",
       " ('instadisney', 0.44141948223114014),\n",
       " ('disneyparks', 0.43604254722595215)]"
      ]
     },
     "execution_count": 93,
     "metadata": {},
     "output_type": "execute_result"
    }
   ],
   "source": [
    "model_w2v.wv.most_similar(\"disney\")"
   ]
  },
  {
   "cell_type": "code",
   "execution_count": 94,
   "metadata": {},
   "outputs": [],
   "source": [
    "def word_vector(tokens, size):\n",
    "    vec = np.zeros(size).reshape((1, size))\n",
    "    count = 0.\n",
    "    for word in tokens:\n",
    "        try:\n",
    "            vec += model_w2v[word].reshape((1, size))\n",
    "            count += 1.\n",
    "        except KeyError: # handling the case where the token is not in vocabulary\n",
    "                         \n",
    "            continue\n",
    "    if count != 0:\n",
    "        vec /= count\n",
    "    return vec"
   ]
  },
  {
   "cell_type": "code",
   "execution_count": 96,
   "metadata": {},
   "outputs": [
    {
     "name": "stderr",
     "output_type": "stream",
     "text": [
      "/Users/justin/anaconda3/lib/python3.7/site-packages/ipykernel_launcher.py:6: DeprecationWarning: Call to deprecated `__getitem__` (Method will be removed in 4.0.0, use self.wv.__getitem__() instead).\n",
      "  \n"
     ]
    }
   ],
   "source": [
    "wordvec_arrays = np.zeros((len(tokenized_tweet), 230))\n",
    "\n",
    "for i in range(len(tokenized_tweet)):\n",
    "    wordvec_arrays[i,:] = word_vector(tokenized_tweet[i], 230)\n",
    "\n",
    "wordvec_df = pd.concat([df[['hash_count', 'emoji_count', 'anger','anticipation','disgust','fear',\n",
    "                                                       'joy', 'sadness', 'surprise', 'trust', 'punc_count',\n",
    "                                                       'tweet_len','cap_count']].reset_index(drop=True), \n",
    "           pd.DataFrame(wordvec_arrays)], axis=1)"
   ]
  },
  {
   "cell_type": "code",
   "execution_count": 97,
   "metadata": {},
   "outputs": [
    {
     "data": {
      "text/html": [
       "<div>\n",
       "<style scoped>\n",
       "    .dataframe tbody tr th:only-of-type {\n",
       "        vertical-align: middle;\n",
       "    }\n",
       "\n",
       "    .dataframe tbody tr th {\n",
       "        vertical-align: top;\n",
       "    }\n",
       "\n",
       "    .dataframe thead th {\n",
       "        text-align: right;\n",
       "    }\n",
       "</style>\n",
       "<table border=\"1\" class=\"dataframe\">\n",
       "  <thead>\n",
       "    <tr style=\"text-align: right;\">\n",
       "      <th></th>\n",
       "      <th>hash_count</th>\n",
       "      <th>emoji_count</th>\n",
       "      <th>anger</th>\n",
       "      <th>anticipation</th>\n",
       "      <th>disgust</th>\n",
       "      <th>fear</th>\n",
       "      <th>joy</th>\n",
       "      <th>sadness</th>\n",
       "      <th>surprise</th>\n",
       "      <th>trust</th>\n",
       "      <th>...</th>\n",
       "      <th>220</th>\n",
       "      <th>221</th>\n",
       "      <th>222</th>\n",
       "      <th>223</th>\n",
       "      <th>224</th>\n",
       "      <th>225</th>\n",
       "      <th>226</th>\n",
       "      <th>227</th>\n",
       "      <th>228</th>\n",
       "      <th>229</th>\n",
       "    </tr>\n",
       "  </thead>\n",
       "  <tbody>\n",
       "    <tr>\n",
       "      <th>0</th>\n",
       "      <td>1</td>\n",
       "      <td>0</td>\n",
       "      <td>0</td>\n",
       "      <td>0</td>\n",
       "      <td>0</td>\n",
       "      <td>0</td>\n",
       "      <td>0</td>\n",
       "      <td>0</td>\n",
       "      <td>0</td>\n",
       "      <td>0</td>\n",
       "      <td>...</td>\n",
       "      <td>-0.045284</td>\n",
       "      <td>-0.079552</td>\n",
       "      <td>0.093554</td>\n",
       "      <td>0.043960</td>\n",
       "      <td>0.028761</td>\n",
       "      <td>0.080055</td>\n",
       "      <td>0.072261</td>\n",
       "      <td>-0.102041</td>\n",
       "      <td>-0.080967</td>\n",
       "      <td>0.049143</td>\n",
       "    </tr>\n",
       "    <tr>\n",
       "      <th>1</th>\n",
       "      <td>1</td>\n",
       "      <td>0</td>\n",
       "      <td>0</td>\n",
       "      <td>1</td>\n",
       "      <td>0</td>\n",
       "      <td>0</td>\n",
       "      <td>0</td>\n",
       "      <td>0</td>\n",
       "      <td>0</td>\n",
       "      <td>0</td>\n",
       "      <td>...</td>\n",
       "      <td>-0.117812</td>\n",
       "      <td>0.019281</td>\n",
       "      <td>-0.072755</td>\n",
       "      <td>-0.102343</td>\n",
       "      <td>0.205131</td>\n",
       "      <td>0.159179</td>\n",
       "      <td>-0.055840</td>\n",
       "      <td>-0.087664</td>\n",
       "      <td>-0.051933</td>\n",
       "      <td>0.072010</td>\n",
       "    </tr>\n",
       "    <tr>\n",
       "      <th>2</th>\n",
       "      <td>0</td>\n",
       "      <td>0</td>\n",
       "      <td>0</td>\n",
       "      <td>0</td>\n",
       "      <td>0</td>\n",
       "      <td>0</td>\n",
       "      <td>0</td>\n",
       "      <td>0</td>\n",
       "      <td>0</td>\n",
       "      <td>0</td>\n",
       "      <td>...</td>\n",
       "      <td>0.088095</td>\n",
       "      <td>0.056327</td>\n",
       "      <td>-0.076466</td>\n",
       "      <td>0.027169</td>\n",
       "      <td>-0.124262</td>\n",
       "      <td>0.073991</td>\n",
       "      <td>0.100744</td>\n",
       "      <td>-0.075328</td>\n",
       "      <td>-0.201656</td>\n",
       "      <td>0.097621</td>\n",
       "    </tr>\n",
       "    <tr>\n",
       "      <th>3</th>\n",
       "      <td>1</td>\n",
       "      <td>0</td>\n",
       "      <td>0</td>\n",
       "      <td>0</td>\n",
       "      <td>0</td>\n",
       "      <td>0</td>\n",
       "      <td>0</td>\n",
       "      <td>0</td>\n",
       "      <td>0</td>\n",
       "      <td>0</td>\n",
       "      <td>...</td>\n",
       "      <td>-0.251371</td>\n",
       "      <td>-0.048714</td>\n",
       "      <td>0.191657</td>\n",
       "      <td>0.104738</td>\n",
       "      <td>0.066017</td>\n",
       "      <td>0.154219</td>\n",
       "      <td>0.200543</td>\n",
       "      <td>-0.210700</td>\n",
       "      <td>-0.070858</td>\n",
       "      <td>-0.040129</td>\n",
       "    </tr>\n",
       "    <tr>\n",
       "      <th>4</th>\n",
       "      <td>0</td>\n",
       "      <td>0</td>\n",
       "      <td>0</td>\n",
       "      <td>1</td>\n",
       "      <td>0</td>\n",
       "      <td>1</td>\n",
       "      <td>1</td>\n",
       "      <td>0</td>\n",
       "      <td>0</td>\n",
       "      <td>1</td>\n",
       "      <td>...</td>\n",
       "      <td>0.067614</td>\n",
       "      <td>0.054041</td>\n",
       "      <td>-0.019578</td>\n",
       "      <td>-0.034596</td>\n",
       "      <td>0.050744</td>\n",
       "      <td>0.033172</td>\n",
       "      <td>0.063536</td>\n",
       "      <td>-0.074226</td>\n",
       "      <td>-0.051851</td>\n",
       "      <td>0.057051</td>\n",
       "    </tr>\n",
       "    <tr>\n",
       "      <th>...</th>\n",
       "      <td>...</td>\n",
       "      <td>...</td>\n",
       "      <td>...</td>\n",
       "      <td>...</td>\n",
       "      <td>...</td>\n",
       "      <td>...</td>\n",
       "      <td>...</td>\n",
       "      <td>...</td>\n",
       "      <td>...</td>\n",
       "      <td>...</td>\n",
       "      <td>...</td>\n",
       "      <td>...</td>\n",
       "      <td>...</td>\n",
       "      <td>...</td>\n",
       "      <td>...</td>\n",
       "      <td>...</td>\n",
       "      <td>...</td>\n",
       "      <td>...</td>\n",
       "      <td>...</td>\n",
       "      <td>...</td>\n",
       "      <td>...</td>\n",
       "    </tr>\n",
       "    <tr>\n",
       "      <th>87505</th>\n",
       "      <td>3</td>\n",
       "      <td>0</td>\n",
       "      <td>0</td>\n",
       "      <td>0</td>\n",
       "      <td>0</td>\n",
       "      <td>0</td>\n",
       "      <td>0</td>\n",
       "      <td>0</td>\n",
       "      <td>0</td>\n",
       "      <td>0</td>\n",
       "      <td>...</td>\n",
       "      <td>-0.219816</td>\n",
       "      <td>-0.169808</td>\n",
       "      <td>-0.157795</td>\n",
       "      <td>-0.054618</td>\n",
       "      <td>-0.047840</td>\n",
       "      <td>0.293229</td>\n",
       "      <td>-0.039973</td>\n",
       "      <td>0.030857</td>\n",
       "      <td>-0.039618</td>\n",
       "      <td>-0.102461</td>\n",
       "    </tr>\n",
       "    <tr>\n",
       "      <th>87506</th>\n",
       "      <td>1</td>\n",
       "      <td>1</td>\n",
       "      <td>1</td>\n",
       "      <td>2</td>\n",
       "      <td>0</td>\n",
       "      <td>1</td>\n",
       "      <td>4</td>\n",
       "      <td>1</td>\n",
       "      <td>4</td>\n",
       "      <td>4</td>\n",
       "      <td>...</td>\n",
       "      <td>-0.272423</td>\n",
       "      <td>-0.363468</td>\n",
       "      <td>-0.109325</td>\n",
       "      <td>0.039305</td>\n",
       "      <td>-0.080120</td>\n",
       "      <td>0.232073</td>\n",
       "      <td>-0.017409</td>\n",
       "      <td>0.204312</td>\n",
       "      <td>-0.154984</td>\n",
       "      <td>0.541024</td>\n",
       "    </tr>\n",
       "    <tr>\n",
       "      <th>87507</th>\n",
       "      <td>0</td>\n",
       "      <td>0</td>\n",
       "      <td>0</td>\n",
       "      <td>0</td>\n",
       "      <td>0</td>\n",
       "      <td>0</td>\n",
       "      <td>0</td>\n",
       "      <td>0</td>\n",
       "      <td>0</td>\n",
       "      <td>0</td>\n",
       "      <td>...</td>\n",
       "      <td>0.055245</td>\n",
       "      <td>-0.048646</td>\n",
       "      <td>-0.186082</td>\n",
       "      <td>-0.032606</td>\n",
       "      <td>0.008366</td>\n",
       "      <td>-0.078292</td>\n",
       "      <td>0.032201</td>\n",
       "      <td>-0.106753</td>\n",
       "      <td>0.251502</td>\n",
       "      <td>-0.124243</td>\n",
       "    </tr>\n",
       "    <tr>\n",
       "      <th>87508</th>\n",
       "      <td>0</td>\n",
       "      <td>0</td>\n",
       "      <td>0</td>\n",
       "      <td>1</td>\n",
       "      <td>0</td>\n",
       "      <td>0</td>\n",
       "      <td>1</td>\n",
       "      <td>0</td>\n",
       "      <td>0</td>\n",
       "      <td>0</td>\n",
       "      <td>...</td>\n",
       "      <td>-0.101566</td>\n",
       "      <td>-0.135424</td>\n",
       "      <td>-0.203906</td>\n",
       "      <td>-0.071573</td>\n",
       "      <td>-0.062181</td>\n",
       "      <td>0.030170</td>\n",
       "      <td>0.011955</td>\n",
       "      <td>0.049640</td>\n",
       "      <td>-0.100044</td>\n",
       "      <td>0.016892</td>\n",
       "    </tr>\n",
       "    <tr>\n",
       "      <th>87509</th>\n",
       "      <td>0</td>\n",
       "      <td>2</td>\n",
       "      <td>1</td>\n",
       "      <td>0</td>\n",
       "      <td>1</td>\n",
       "      <td>0</td>\n",
       "      <td>0</td>\n",
       "      <td>0</td>\n",
       "      <td>0</td>\n",
       "      <td>0</td>\n",
       "      <td>...</td>\n",
       "      <td>-0.067674</td>\n",
       "      <td>0.047803</td>\n",
       "      <td>0.032477</td>\n",
       "      <td>0.045573</td>\n",
       "      <td>-0.013395</td>\n",
       "      <td>0.019374</td>\n",
       "      <td>0.198928</td>\n",
       "      <td>-0.117779</td>\n",
       "      <td>-0.095353</td>\n",
       "      <td>0.025168</td>\n",
       "    </tr>\n",
       "  </tbody>\n",
       "</table>\n",
       "<p>87510 rows × 243 columns</p>\n",
       "</div>"
      ],
      "text/plain": [
       "       hash_count  emoji_count  anger  anticipation  disgust  fear  joy  \\\n",
       "0               1            0      0             0        0     0    0   \n",
       "1               1            0      0             1        0     0    0   \n",
       "2               0            0      0             0        0     0    0   \n",
       "3               1            0      0             0        0     0    0   \n",
       "4               0            0      0             1        0     1    1   \n",
       "...           ...          ...    ...           ...      ...   ...  ...   \n",
       "87505           3            0      0             0        0     0    0   \n",
       "87506           1            1      1             2        0     1    4   \n",
       "87507           0            0      0             0        0     0    0   \n",
       "87508           0            0      0             1        0     0    1   \n",
       "87509           0            2      1             0        1     0    0   \n",
       "\n",
       "       sadness  surprise  trust  ...       220       221       222       223  \\\n",
       "0            0         0      0  ... -0.045284 -0.079552  0.093554  0.043960   \n",
       "1            0         0      0  ... -0.117812  0.019281 -0.072755 -0.102343   \n",
       "2            0         0      0  ...  0.088095  0.056327 -0.076466  0.027169   \n",
       "3            0         0      0  ... -0.251371 -0.048714  0.191657  0.104738   \n",
       "4            0         0      1  ...  0.067614  0.054041 -0.019578 -0.034596   \n",
       "...        ...       ...    ...  ...       ...       ...       ...       ...   \n",
       "87505        0         0      0  ... -0.219816 -0.169808 -0.157795 -0.054618   \n",
       "87506        1         4      4  ... -0.272423 -0.363468 -0.109325  0.039305   \n",
       "87507        0         0      0  ...  0.055245 -0.048646 -0.186082 -0.032606   \n",
       "87508        0         0      0  ... -0.101566 -0.135424 -0.203906 -0.071573   \n",
       "87509        0         0      0  ... -0.067674  0.047803  0.032477  0.045573   \n",
       "\n",
       "            224       225       226       227       228       229  \n",
       "0      0.028761  0.080055  0.072261 -0.102041 -0.080967  0.049143  \n",
       "1      0.205131  0.159179 -0.055840 -0.087664 -0.051933  0.072010  \n",
       "2     -0.124262  0.073991  0.100744 -0.075328 -0.201656  0.097621  \n",
       "3      0.066017  0.154219  0.200543 -0.210700 -0.070858 -0.040129  \n",
       "4      0.050744  0.033172  0.063536 -0.074226 -0.051851  0.057051  \n",
       "...         ...       ...       ...       ...       ...       ...  \n",
       "87505 -0.047840  0.293229 -0.039973  0.030857 -0.039618 -0.102461  \n",
       "87506 -0.080120  0.232073 -0.017409  0.204312 -0.154984  0.541024  \n",
       "87507  0.008366 -0.078292  0.032201 -0.106753  0.251502 -0.124243  \n",
       "87508 -0.062181  0.030170  0.011955  0.049640 -0.100044  0.016892  \n",
       "87509 -0.013395  0.019374  0.198928 -0.117779 -0.095353  0.025168  \n",
       "\n",
       "[87510 rows x 243 columns]"
      ]
     },
     "execution_count": 97,
     "metadata": {},
     "output_type": "execute_result"
    }
   ],
   "source": [
    "wordvec_df"
   ]
  },
  {
   "cell_type": "code",
   "execution_count": 98,
   "metadata": {},
   "outputs": [],
   "source": [
    "# splitting data into training and validation set\n",
    "xtrain_bow, xvalid_bow, ytrain, yvalid = train_test_split(wordvec_df, df['label'],  \n",
    "                                                          random_state=77, \n",
    "                                                          test_size=0.2)"
   ]
  },
  {
   "cell_type": "code",
   "execution_count": 99,
   "metadata": {},
   "outputs": [
    {
     "name": "stdout",
     "output_type": "stream",
     "text": [
      "[(0, 23522), (1, 23522), (2, 23522), (3, 23522), (4, 23522), (5, 23522)]\n"
     ]
    }
   ],
   "source": [
    "#Balance the Data \n",
    "ros = RandomOverSampler(random_state=77) \n",
    "X_resampled_w2vec, y_resampled_w2vec = ros.fit_resample(xtrain_bow.values, ytrain.values)\n",
    "print(sorted(Counter(y_resampled_w2vec).items()))"
   ]
  },
  {
   "cell_type": "code",
   "execution_count": 100,
   "metadata": {},
   "outputs": [
    {
     "name": "stdout",
     "output_type": "stream",
     "text": [
      "[(0, 5982), (1, 5982), (2, 5982), (3, 5982), (4, 5982), (5, 5982)]\n"
     ]
    }
   ],
   "source": [
    "X_resampled_w2vec_t, y_resampled_w2vec_t = ros.fit_resample(xvalid_bow.values, yvalid.values)\n",
    "print(sorted(Counter(y_resampled_w2vec_t).items()))"
   ]
  },
  {
   "cell_type": "code",
   "execution_count": null,
   "metadata": {},
   "outputs": [],
   "source": []
  },
  {
   "cell_type": "code",
   "execution_count": 102,
   "metadata": {},
   "outputs": [
    {
     "name": "stdout",
     "output_type": "stream",
     "text": [
      "Fit time: 20.571 / Predict time: 0.236 ---- Precision: 0.417 / Recall: 0.364 / Accuracy: 0.364\n"
     ]
    }
   ],
   "source": [
    "#Random Forest\n",
    "\n",
    "#Instantiate our model \n",
    "rf = RandomForestClassifier(n_estimators=50, max_depth=1000, n_jobs=-1)\n",
    "\n",
    "#Model Fit \n",
    "start = time.time()\n",
    "rf.fit(X_resampled_w2vec, y_resampled_w2vec)\n",
    "end = time.time()\n",
    "fit_time = (end - start)\n",
    "\n",
    "#Model Predict \n",
    "start = time.time()\n",
    "y_pred = rf.predict(X_resampled_w2vec_t)\n",
    "end = time.time()\n",
    "pred_time = (end - start)\n",
    "\n",
    "#Model Scoring \n",
    "precision, recall, fscore, support = precision_recall_fscore_support(y_resampled_w2vec_t, y_pred, average='macro')\n",
    "print('Fit time: {} / Predict time: {} ---- Precision: {} / Recall: {} / Accuracy: {}'.format(\n",
    "    round(fit_time, 3), round(pred_time, 3), round(precision, 3), round(recall, 3), round((y_pred==y_resampled_w2vec_t).sum()/len(y_pred), 3)))"
   ]
  },
  {
   "cell_type": "code",
   "execution_count": 103,
   "metadata": {},
   "outputs": [
    {
     "data": {
      "text/plain": [
       "[(0.0298787766668389, 'hash_count'),\n",
       " (0.02638732207990354, 'tweet_len'),\n",
       " (0.018613391096563698, 'joy'),\n",
       " (0.018224906714123034, 'sadness'),\n",
       " (0.016765954856981746, 'fear'),\n",
       " (0.014607287266884952, 'punc_count'),\n",
       " (0.012607334110587693, 'cap_count'),\n",
       " (0.00934111906917256, 'anger'),\n",
       " (0.00821606744911832, 'disgust'),\n",
       " (0.007404822906164451, 'anticipation'),\n",
       " (0.007172041882647434, 'trust'),\n",
       " (0.0040809334133001555, 'surprise'),\n",
       " (0.0039594486196118965, 'emoji_count'),\n",
       " (0.003867090805706925, 76),\n",
       " (0.003809663756012949, 159),\n",
       " (0.0037864113486686685, 101),\n",
       " (0.003784440279148222, 123),\n",
       " (0.0037709644625289664, 189),\n",
       " (0.003757757808505309, 221),\n",
       " (0.0037573237271764266, 133)]"
      ]
     },
     "execution_count": 103,
     "metadata": {},
     "output_type": "execute_result"
    }
   ],
   "source": [
    "#Random Forest tells our Feature Importances\n",
    "importances = rf.feature_importances_\n",
    "(sorted(zip(importances, xtrain_bow.columns), reverse=True))[0:20]"
   ]
  },
  {
   "cell_type": "code",
   "execution_count": 124,
   "metadata": {},
   "outputs": [
    {
     "name": "stdout",
     "output_type": "stream",
     "text": [
      "Fit time: 5.932 / Predict time: 47.942 ---- Precision: 0.333 / Recall: 0.329 / Accuracy: 0.329\n"
     ]
    }
   ],
   "source": [
    "#KNN\n",
    "from sklearn.neighbors import KNeighborsClassifier\n",
    "\n",
    "#Instantiate our model \n",
    "knn = KNeighborsClassifier(n_neighbors = 6)\n",
    "\n",
    "#Model Fit \n",
    "start = time.time()\n",
    "knn.fit(X_resampled_w2vec, y_resampled_w2vec)\n",
    "end = time.time()\n",
    "fit_time = (end - start)\n",
    "\n",
    "#Model Predict \n",
    "start = time.time()\n",
    "y_pred = knn.predict(X_resampled_w2vec_t)\n",
    "end = time.time()\n",
    "pred_time = (end - start)\n",
    "\n",
    "#Model Scoring \n",
    "precision, recall, fscore, support = precision_recall_fscore_support(y_resampled_w2vec_t, y_pred, average='macro')\n",
    "print('Fit time: {} / Predict time: {} ---- Precision: {} / Recall: {} / Accuracy: {}'.format(\n",
    "    round(fit_time, 3), round(pred_time, 3), round(precision, 3), round(recall, 3), round((y_pred==y_resampled_w2vec_t).sum()/len(y_pred), 3)))"
   ]
  },
  {
   "cell_type": "code",
   "execution_count": 121,
   "metadata": {},
   "outputs": [
    {
     "name": "stdout",
     "output_type": "stream",
     "text": [
      "Fit time: 0.655 / Predict time: 0.009 ---- Precision: 0.399 / Recall: 0.391 / Accuracy: 0.391\n"
     ]
    },
    {
     "name": "stderr",
     "output_type": "stream",
     "text": [
      "/Users/justin/anaconda3/lib/python3.7/site-packages/sklearn/linear_model/_logistic.py:940: ConvergenceWarning: lbfgs failed to converge (status=1):\n",
      "STOP: TOTAL NO. of ITERATIONS REACHED LIMIT.\n",
      "\n",
      "Increase the number of iterations (max_iter) or scale the data as shown in:\n",
      "    https://scikit-learn.org/stable/modules/preprocessing.html\n",
      "Please also refer to the documentation for alternative solver options:\n",
      "    https://scikit-learn.org/stable/modules/linear_model.html#logistic-regression\n",
      "  extra_warning_msg=_LOGISTIC_SOLVER_CONVERGENCE_MSG)\n"
     ]
    }
   ],
   "source": [
    "#Logistic Regression \n",
    "\n",
    "#Instantiate our model\n",
    "lr = LogisticRegression(max_iter = 10, solver = 'lbfgs')\n",
    "\n",
    "#Train our Model\n",
    "start = time.time()\n",
    "lr.fit(X_train_scaled, y_resampled_w2vec)\n",
    "end = time.time()\n",
    "fit_time = (end - start)\n",
    "\n",
    "#Model Predict \n",
    "start = time.time()\n",
    "y_pred = lr.predict(X_test_scaled)\n",
    "end = time.time()\n",
    "pred_time = (end - start)\n",
    "\n",
    "#Model Scoring \n",
    "precision, recall, fscore, support = precision_recall_fscore_support(y_resampled_w2vec_t, y_pred, average='macro')\n",
    "print('Fit time: {} / Predict time: {} ---- Precision: {} / Recall: {} / Accuracy: {}'.format(\n",
    "    round(fit_time, 3), round(pred_time, 3), round(precision, 3), round(recall, 3), round((y_pred==y_resampled_w2vec_t).sum()/len(y_pred), 3)))"
   ]
  },
  {
   "cell_type": "code",
   "execution_count": null,
   "metadata": {},
   "outputs": [],
   "source": []
  }
 ],
 "metadata": {
  "kernelspec": {
   "display_name": "Python 3",
   "language": "python",
   "name": "python3"
  },
  "language_info": {
   "codemirror_mode": {
    "name": "ipython",
    "version": 3
   },
   "file_extension": ".py",
   "mimetype": "text/x-python",
   "name": "python",
   "nbconvert_exporter": "python",
   "pygments_lexer": "ipython3",
   "version": "3.7.0"
  }
 },
 "nbformat": 4,
 "nbformat_minor": 2
}
