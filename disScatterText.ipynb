{
 "cells": [
  {
   "cell_type": "code",
   "execution_count": 1,
   "metadata": {},
   "outputs": [
    {
     "data": {
      "text/html": [
       "&lt;style>.container { width:98% !important; }&lt;/style>"
      ],
      "text/plain": [
       "<IPython.core.display.HTML object>"
      ]
     },
     "metadata": {},
     "output_type": "display_data"
    }
   ],
   "source": [
    "%matplotlib inline\n",
    "import scattertext as st\n",
    "import re, io\n",
    "import pandas as pd\n",
    "from pprint import pprint\n",
    "from scipy.stats import rankdata, hmean, norm\n",
    "import spacy\n",
    "import os, pkgutil, json, urllib\n",
    "from urllib.request import urlopen\n",
    "from IPython.display import IFrame\n",
    "from IPython.core.display import display, HTML\n",
    "from scattertext import CorpusFromPandas, produce_scattertext_explorer\n",
    "display(HTML(\"&lt;style>.container { width:98% !important; }&lt;/style>\"))"
   ]
  },
  {
   "cell_type": "code",
   "execution_count": 2,
   "metadata": {},
   "outputs": [],
   "source": [
    "df = pd.read_json('fin_dis_tweet.json')"
   ]
  },
  {
   "cell_type": "code",
   "execution_count": 3,
   "metadata": {},
   "outputs": [],
   "source": [
    "#Langauge comparison\n",
    "scatter_lang = df.loc[:,['language','clean_translated_text']]"
   ]
  },
  {
   "cell_type": "code",
   "execution_count": 4,
   "metadata": {},
   "outputs": [],
   "source": [
    "nlp = st.WhitespaceNLP.whitespace_nlp_with_sentences\n",
    "scatter_lang['parsed'] = scatter_lang.clean_translated_text.apply(nlp)"
   ]
  },
  {
   "cell_type": "code",
   "execution_count": 5,
   "metadata": {},
   "outputs": [],
   "source": [
    "stopwords = ['disneyland','THIS','forum','disney','going','time','resort','tokyo','paris','california','disneysea','florida','disneylands','youre',\n",
    "                 'mouse','anaheim','disneys','parks','angeles', '𝚃𝙷𝙸𝚂', 'park', 'forwarding', 'fortified', 'just', 'forward','𝙻𝙾𝙾𝙺','forwardlike','forthcoming',\n",
    "                 'youd', 'world', 'year', 'week', 'day', 'forums', 'forththey', 'forwinnie', '𝙥𝙤𝙨𝙩𝙚𝙙', 'forth', 'forwith', 'fortnights','fortnight','fortnite',\n",
    "                  'fortitude','fortress','fortunate','fort','fortunately','fortune','forsure','forwar','forwards','𝙘𝙩𝙤𝙗𝙚𝙧','forzen','forsee','foshan','forrest', \n",
    "                  'fosho','foster', 'forreal', 'this','with', 'that', 'been', 'have', 'from','when','japan', 'into','your', 'disneyland','THIS','forum','disney','going','time','resort','tokyo','paris','california','disneysea','florida','disneylands','youre',\n",
    "                 'mouse','anaheim','disneys','parks','angeles', '𝚃𝙷𝙸𝚂', 'park', 'forwarding', 'fortified', 'just', 'forward','𝙻𝙾𝙾𝙺','forwardlike','forthcoming',\n",
    "                 'youd', 'world', 'year', 'week', 'day', 'mickey', 'tdr', 'tdr_md', 'minnie' ,'forums', 'forththey', 'forwinnie', '𝙥𝙤𝙨𝙩𝙚𝙙', 'forth', 'forwith',\n",
    "                 'gran', 'graclas', 'gras', 'grafrom', 'tdr_now','wwwwww', 'gotten', 'graba', 'urayasu', 'android', 'atdisneyland', 'from', 'this','with',\n",
    "               'that','because', 'have', 'chiba', 'there', 'zhao', 'land']"
   ]
  },
  {
   "cell_type": "code",
   "execution_count": 6,
   "metadata": {},
   "outputs": [],
   "source": [
    "corpus = st.CorpusFromParsedDocuments(scatter_lang, category_col='language', parsed_col='parsed').build().remove_terms(stopwords, ignore_absences=True)"
   ]
  },
  {
   "cell_type": "code",
   "execution_count": 7,
   "metadata": {},
   "outputs": [
    {
     "data": {
      "text/html": [
       "\n",
       "        <iframe\n",
       "            width=\"1200\"\n",
       "            height=\"700\"\n",
       "            src=\"language_compare.html\"\n",
       "            frameborder=\"0\"\n",
       "            allowfullscreen\n",
       "        ></iframe>\n",
       "        "
      ],
      "text/plain": [
       "<IPython.lib.display.IFrame at 0x1a94fa9c88>"
      ]
     },
     "execution_count": 7,
     "metadata": {},
     "output_type": "execute_result"
    }
   ],
   "source": [
    "html = st.produce_scattertext_explorer(corpus,\n",
    "                                       category='en',\n",
    "                                       category_name='en',\n",
    "                                       not_category_name='ja',\n",
    "                                       use_full_doc=True,\n",
    "                                       minimum_term_frequency=5,\n",
    "                                       pmi_filter_thresold=10,\n",
    "                                       term_ranker=st.OncePerDocFrequencyRanker,\n",
    "                                       width_in_pixels=1000,\n",
    "                                       sort_by_dist=False)\n",
    "file_name = 'language_compare.html'\n",
    "open(file_name, 'wb').write(html.encode('utf-8'))\n",
    "IFrame(src=file_name, width = 1200, height=700)"
   ]
  },
  {
   "cell_type": "code",
   "execution_count": null,
   "metadata": {},
   "outputs": [],
   "source": []
  }
 ],
 "metadata": {
  "kernelspec": {
   "display_name": "Python 3",
   "language": "python",
   "name": "python3"
  },
  "language_info": {
   "codemirror_mode": {
    "name": "ipython",
    "version": 3
   },
   "file_extension": ".py",
   "mimetype": "text/x-python",
   "name": "python",
   "nbconvert_exporter": "python",
   "pygments_lexer": "ipython3",
   "version": "3.7.0"
  }
 },
 "nbformat": 4,
 "nbformat_minor": 2
}
